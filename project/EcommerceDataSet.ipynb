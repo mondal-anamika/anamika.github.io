{
 "cells": [
  {
   "cell_type": "markdown",
   "id": "3cb9ae38-df0d-4945-9ffd-13e2a1578aa2",
   "metadata": {},
   "source": [
    "**<h1>Ecommerce Data Analysis</h1>**"
   ]
  },
  {
   "cell_type": "markdown",
   "id": "ea88403c-086d-4ccd-b353-85c24501c93a",
   "metadata": {},
   "source": [
    "**<h3>Objective:</h3>**"
   ]
  },
  {
   "cell_type": "markdown",
   "id": "1f800ccb-c18c-42c9-91ab-e50860394fa0",
   "metadata": {},
   "source": [
    "**The objective of this data analysis project is to gain insights into the ecommerce order data of a fictional company. We will analyze customer information, product details, and order history to derive meaningful conclusions that can aid business decision-making.**"
   ]
  },
  {
   "cell_type": "code",
   "execution_count": 1,
   "id": "2d8e29fa-7965-430a-ac35-93ce69b6791a",
   "metadata": {},
   "outputs": [],
   "source": [
    "# Import necessary libraries\n",
    "import mysql.connector \n",
    "import pandas as pd\n",
    "import numpy as np\n",
    "import matplotlib.pyplot as plt\n",
    "import seaborn as sns"
   ]
  },
  {
   "cell_type": "code",
   "execution_count": 2,
   "id": "c17dcddd-dd72-4769-a16e-595f18fb8635",
   "metadata": {},
   "outputs": [],
   "source": [
    "# Replace 'your_username', 'your_password', 'your_host', and 'your_database' with actual credentials\n",
    "connection = mysql.connector.connect( \n",
    "user='root',\n",
    "password='1234',\n",
    "host='localhost', \n",
    "database='ecommerce'\n",
    ")"
   ]
  },
  {
   "cell_type": "code",
   "execution_count": 3,
   "id": "00564438-78f8-4395-880b-38763261ed13",
   "metadata": {},
   "outputs": [],
   "source": [
    "# Create a cursor object to execute SQL queries\n",
    "cursor = connection.cursor()"
   ]
  },
  {
   "cell_type": "code",
   "execution_count": 4,
   "id": "b5aa06f0-8109-41a3-902e-8dc854d05c38",
   "metadata": {},
   "outputs": [],
   "source": [
    "# Query data from the 'customer' table\n",
    "cursor.execute(\"SELECT * FROM product \")\n",
    "product_df = pd.DataFrame(cursor.fetchall(), columns=[col[0] for col in cursor.description]) \n",
    "\n",
    "# Query data from the 'product' table\n",
    "cursor.execute(\"SELECT * FROM order_details\")\n",
    "order_df = pd.DataFrame(cursor.fetchall(), columns=[col[0] for col in cursor.description])\n",
    "\n",
    "# Query data from the 'order_details' table\n",
    "cursor.execute(\"SELECT * FROM customer\")\n",
    "customer_df = pd.DataFrame(cursor.fetchall(), columns=[col[0] for col in cursor.description])"
   ]
  },
  {
   "cell_type": "code",
   "execution_count": 5,
   "id": "699185a7-f7fd-4852-a059-9ce660d66224",
   "metadata": {},
   "outputs": [],
   "source": [
    "cursor.execute(\"\"\"SELECT c.customer_id, c.name AS customer_name, c.city, c.email, c.phone_no, c.address, c.pin_code,\n",
    "    o.order_id, o.product_id, o.quantity, o.total_price, o.payment_mode, o.order_date, o.order_status,\n",
    "    p.product_name, p.category, p.sub_category, p.original_price, p.selling_price FROM customer c\n",
    "    LEFT JOIN order_details o ON c.customer_id = o.customer_id\n",
    "    LEFT JOIN product p ON o.product_id = p.product_id \"\"\")\n",
    "customer_order_df = pd.DataFrame(cursor.fetchall(), columns=[desc[0] for desc in cursor.description])\n",
    "\n",
    "# Close the MySQL connection\n",
    "cursor.close()\n",
    "connection.close()"
   ]
  },
  {
   "cell_type": "markdown",
   "id": "a783a163-c30a-422f-828c-a41d5574713d",
   "metadata": {},
   "source": [
    "<h3>Product Table</h3>"
   ]
  },
  {
   "cell_type": "code",
   "execution_count": 6,
   "id": "6c066247-2335-492d-ba84-dced61a64d4c",
   "metadata": {},
   "outputs": [
    {
     "data": {
      "text/html": [
       "<div>\n",
       "<style scoped>\n",
       "    .dataframe tbody tr th:only-of-type {\n",
       "        vertical-align: middle;\n",
       "    }\n",
       "\n",
       "    .dataframe tbody tr th {\n",
       "        vertical-align: top;\n",
       "    }\n",
       "\n",
       "    .dataframe thead th {\n",
       "        text-align: right;\n",
       "    }\n",
       "</style>\n",
       "<table border=\"1\" class=\"dataframe\">\n",
       "  <thead>\n",
       "    <tr style=\"text-align: right;\">\n",
       "      <th></th>\n",
       "      <th>product_id</th>\n",
       "      <th>product_name</th>\n",
       "      <th>category</th>\n",
       "      <th>sub_category</th>\n",
       "      <th>original_price</th>\n",
       "      <th>selling_price</th>\n",
       "      <th>stock</th>\n",
       "    </tr>\n",
       "  </thead>\n",
       "  <tbody>\n",
       "    <tr>\n",
       "      <th>0</th>\n",
       "      <td>P102</td>\n",
       "      <td>Chair</td>\n",
       "      <td>furniture</td>\n",
       "      <td>Chairs</td>\n",
       "      <td>20000.0</td>\n",
       "      <td>15000.00</td>\n",
       "      <td>10</td>\n",
       "    </tr>\n",
       "    <tr>\n",
       "      <th>1</th>\n",
       "      <td>P103</td>\n",
       "      <td>Laptop</td>\n",
       "      <td>Electronics</td>\n",
       "      <td>computer</td>\n",
       "      <td>60000.0</td>\n",
       "      <td>55000.00</td>\n",
       "      <td>50</td>\n",
       "    </tr>\n",
       "    <tr>\n",
       "      <th>2</th>\n",
       "      <td>P104</td>\n",
       "      <td>Smartphone</td>\n",
       "      <td>Electronics</td>\n",
       "      <td>phone</td>\n",
       "      <td>45000.0</td>\n",
       "      <td>40000.00</td>\n",
       "      <td>20</td>\n",
       "    </tr>\n",
       "    <tr>\n",
       "      <th>3</th>\n",
       "      <td>P105</td>\n",
       "      <td>Blender</td>\n",
       "      <td>Appliance</td>\n",
       "      <td>Electronics</td>\n",
       "      <td>500.0</td>\n",
       "      <td>450.00</td>\n",
       "      <td>10</td>\n",
       "    </tr>\n",
       "    <tr>\n",
       "      <th>4</th>\n",
       "      <td>P106</td>\n",
       "      <td>Laptop HP</td>\n",
       "      <td>Electronics</td>\n",
       "      <td>Computers</td>\n",
       "      <td>67200.0</td>\n",
       "      <td>55000.99</td>\n",
       "      <td>50</td>\n",
       "    </tr>\n",
       "  </tbody>\n",
       "</table>\n",
       "</div>"
      ],
      "text/plain": [
       "  product_id product_name     category sub_category  original_price  \\\n",
       "0       P102        Chair    furniture       Chairs         20000.0   \n",
       "1       P103       Laptop  Electronics     computer         60000.0   \n",
       "2       P104   Smartphone  Electronics        phone         45000.0   \n",
       "3       P105      Blender    Appliance  Electronics           500.0   \n",
       "4       P106    Laptop HP  Electronics    Computers         67200.0   \n",
       "\n",
       "   selling_price  stock  \n",
       "0       15000.00     10  \n",
       "1       55000.00     50  \n",
       "2       40000.00     20  \n",
       "3         450.00     10  \n",
       "4       55000.99     50  "
      ]
     },
     "execution_count": 6,
     "metadata": {},
     "output_type": "execute_result"
    }
   ],
   "source": [
    "#head()- shows top 5 rows from data list, from given product dataframe.\n",
    "product_df.head()"
   ]
  },
  {
   "cell_type": "code",
   "execution_count": 7,
   "id": "b113164e-f68a-4fdb-afdc-44a76a01bdc7",
   "metadata": {},
   "outputs": [
    {
     "name": "stdout",
     "output_type": "stream",
     "text": [
      "<class 'pandas.core.frame.DataFrame'>\n",
      "RangeIndex: 61 entries, 0 to 60\n",
      "Data columns (total 7 columns):\n",
      " #   Column          Non-Null Count  Dtype  \n",
      "---  ------          --------------  -----  \n",
      " 0   product_id      61 non-null     object \n",
      " 1   product_name    61 non-null     object \n",
      " 2   category        61 non-null     object \n",
      " 3   sub_category    61 non-null     object \n",
      " 4   original_price  61 non-null     float64\n",
      " 5   selling_price   61 non-null     float64\n",
      " 6   stock           61 non-null     int64  \n",
      "dtypes: float64(2), int64(1), object(4)\n",
      "memory usage: 3.5+ KB\n"
     ]
    }
   ],
   "source": [
    "product_df.info()"
   ]
  },
  {
   "cell_type": "code",
   "execution_count": 8,
   "id": "b9e6aef2-ae61-4049-92c2-40566b100473",
   "metadata": {},
   "outputs": [
    {
     "data": {
      "text/html": [
       "<div>\n",
       "<style scoped>\n",
       "    .dataframe tbody tr th:only-of-type {\n",
       "        vertical-align: middle;\n",
       "    }\n",
       "\n",
       "    .dataframe tbody tr th {\n",
       "        vertical-align: top;\n",
       "    }\n",
       "\n",
       "    .dataframe thead th {\n",
       "        text-align: right;\n",
       "    }\n",
       "</style>\n",
       "<table border=\"1\" class=\"dataframe\">\n",
       "  <thead>\n",
       "    <tr style=\"text-align: right;\">\n",
       "      <th></th>\n",
       "      <th>product_id</th>\n",
       "      <th>product_name</th>\n",
       "      <th>category</th>\n",
       "      <th>sub_category</th>\n",
       "    </tr>\n",
       "  </thead>\n",
       "  <tbody>\n",
       "    <tr>\n",
       "      <th>count</th>\n",
       "      <td>61</td>\n",
       "      <td>61</td>\n",
       "      <td>61</td>\n",
       "      <td>61</td>\n",
       "    </tr>\n",
       "    <tr>\n",
       "      <th>unique</th>\n",
       "      <td>61</td>\n",
       "      <td>43</td>\n",
       "      <td>4</td>\n",
       "      <td>22</td>\n",
       "    </tr>\n",
       "    <tr>\n",
       "      <th>top</th>\n",
       "      <td>P102</td>\n",
       "      <td>Tablet</td>\n",
       "      <td>Electronics</td>\n",
       "      <td>Electronics</td>\n",
       "    </tr>\n",
       "    <tr>\n",
       "      <th>freq</th>\n",
       "      <td>1</td>\n",
       "      <td>4</td>\n",
       "      <td>32</td>\n",
       "      <td>20</td>\n",
       "    </tr>\n",
       "  </tbody>\n",
       "</table>\n",
       "</div>"
      ],
      "text/plain": [
       "       product_id product_name     category sub_category\n",
       "count          61           61           61           61\n",
       "unique         61           43            4           22\n",
       "top          P102       Tablet  Electronics  Electronics\n",
       "freq            1            4           32           20"
      ]
     },
     "execution_count": 8,
     "metadata": {},
     "output_type": "execute_result"
    }
   ],
   "source": [
    "product_df.describe(include=object)"
   ]
  },
  {
   "cell_type": "code",
   "execution_count": 9,
   "id": "12ea2d9b-5500-4bdd-a08b-33fd0ee16ee0",
   "metadata": {},
   "outputs": [],
   "source": [
    "product_df['category'] = product_df['category'].replace('furniture','Furniture')"
   ]
  },
  {
   "cell_type": "code",
   "execution_count": 10,
   "id": "f6fe2853-5be3-4d20-b2ad-fb77fbb6eecf",
   "metadata": {},
   "outputs": [
    {
     "data": {
      "text/plain": [
       "False    61\n",
       "Name: count, dtype: int64"
      ]
     },
     "execution_count": 10,
     "metadata": {},
     "output_type": "execute_result"
    }
   ],
   "source": [
    "product_df.duplicated().value_counts()"
   ]
  },
  {
   "cell_type": "markdown",
   "id": "1db34985-4b29-4e1b-a532-710254dc60bd",
   "metadata": {},
   "source": [
    "<h3>Order Table</h3>"
   ]
  },
  {
   "cell_type": "code",
   "execution_count": 11,
   "id": "f4ef802c-5b3f-4da7-b7b9-e5ebdc7de1c0",
   "metadata": {},
   "outputs": [
    {
     "data": {
      "text/html": [
       "<div>\n",
       "<style scoped>\n",
       "    .dataframe tbody tr th:only-of-type {\n",
       "        vertical-align: middle;\n",
       "    }\n",
       "\n",
       "    .dataframe tbody tr th {\n",
       "        vertical-align: top;\n",
       "    }\n",
       "\n",
       "    .dataframe thead th {\n",
       "        text-align: right;\n",
       "    }\n",
       "</style>\n",
       "<table border=\"1\" class=\"dataframe\">\n",
       "  <thead>\n",
       "    <tr style=\"text-align: right;\">\n",
       "      <th></th>\n",
       "      <th>order_id</th>\n",
       "      <th>customer_id</th>\n",
       "      <th>product_id</th>\n",
       "      <th>quantity</th>\n",
       "      <th>total_price</th>\n",
       "      <th>payment_mode</th>\n",
       "      <th>order_date</th>\n",
       "      <th>order_status</th>\n",
       "    </tr>\n",
       "  </thead>\n",
       "  <tbody>\n",
       "    <tr>\n",
       "      <th>0</th>\n",
       "      <td>3</td>\n",
       "      <td>C1004</td>\n",
       "      <td>P112</td>\n",
       "      <td>1.0</td>\n",
       "      <td>1000.0</td>\n",
       "      <td>COD</td>\n",
       "      <td>2023-11-30</td>\n",
       "      <td>Pending</td>\n",
       "    </tr>\n",
       "    <tr>\n",
       "      <th>1</th>\n",
       "      <td>4</td>\n",
       "      <td>C1005</td>\n",
       "      <td>P102</td>\n",
       "      <td>1.0</td>\n",
       "      <td>20000.0</td>\n",
       "      <td>COD</td>\n",
       "      <td>2023-11-30</td>\n",
       "      <td>Pending</td>\n",
       "    </tr>\n",
       "    <tr>\n",
       "      <th>2</th>\n",
       "      <td>5</td>\n",
       "      <td>C1005</td>\n",
       "      <td>P102</td>\n",
       "      <td>1.0</td>\n",
       "      <td>20000.0</td>\n",
       "      <td>COD</td>\n",
       "      <td>2023-12-08</td>\n",
       "      <td>Delivered</td>\n",
       "    </tr>\n",
       "    <tr>\n",
       "      <th>3</th>\n",
       "      <td>7</td>\n",
       "      <td>C1006</td>\n",
       "      <td>P103</td>\n",
       "      <td>1.0</td>\n",
       "      <td>55000.0</td>\n",
       "      <td>COD</td>\n",
       "      <td>2023-12-15</td>\n",
       "      <td>Delivered</td>\n",
       "    </tr>\n",
       "    <tr>\n",
       "      <th>4</th>\n",
       "      <td>8</td>\n",
       "      <td>C1006</td>\n",
       "      <td>P102</td>\n",
       "      <td>1.0</td>\n",
       "      <td>15000.0</td>\n",
       "      <td>COD</td>\n",
       "      <td>2023-12-01</td>\n",
       "      <td>delivered</td>\n",
       "    </tr>\n",
       "  </tbody>\n",
       "</table>\n",
       "</div>"
      ],
      "text/plain": [
       "   order_id customer_id product_id  quantity  total_price payment_mode  \\\n",
       "0         3       C1004       P112       1.0       1000.0          COD   \n",
       "1         4       C1005       P102       1.0      20000.0          COD   \n",
       "2         5       C1005       P102       1.0      20000.0          COD   \n",
       "3         7       C1006       P103       1.0      55000.0          COD   \n",
       "4         8       C1006       P102       1.0      15000.0          COD   \n",
       "\n",
       "  order_date order_status  \n",
       "0 2023-11-30      Pending  \n",
       "1 2023-11-30      Pending  \n",
       "2 2023-12-08    Delivered  \n",
       "3 2023-12-15    Delivered  \n",
       "4 2023-12-01    delivered  "
      ]
     },
     "execution_count": 11,
     "metadata": {},
     "output_type": "execute_result"
    }
   ],
   "source": [
    "#head()- shows top 5 rows from data list, from given order dataframe.\n",
    "order_df.head()"
   ]
  },
  {
   "cell_type": "code",
   "execution_count": 12,
   "id": "7d0cd3e6-24bc-4266-8d1a-e8559cdef1ac",
   "metadata": {},
   "outputs": [
    {
     "name": "stdout",
     "output_type": "stream",
     "text": [
      "<class 'pandas.core.frame.DataFrame'>\n",
      "RangeIndex: 76 entries, 0 to 75\n",
      "Data columns (total 8 columns):\n",
      " #   Column        Non-Null Count  Dtype         \n",
      "---  ------        --------------  -----         \n",
      " 0   order_id      76 non-null     int64         \n",
      " 1   customer_id   76 non-null     object        \n",
      " 2   product_id    76 non-null     object        \n",
      " 3   quantity      76 non-null     float64       \n",
      " 4   total_price   76 non-null     float64       \n",
      " 5   payment_mode  76 non-null     object        \n",
      " 6   order_date    76 non-null     datetime64[ns]\n",
      " 7   order_status  76 non-null     object        \n",
      "dtypes: datetime64[ns](1), float64(2), int64(1), object(4)\n",
      "memory usage: 4.9+ KB\n"
     ]
    }
   ],
   "source": [
    "order_df.info()"
   ]
  },
  {
   "cell_type": "code",
   "execution_count": 13,
   "id": "cd4fe2da-139c-4711-b851-47f1399a5de3",
   "metadata": {},
   "outputs": [
    {
     "data": {
      "text/plain": [
       "False    76\n",
       "Name: count, dtype: int64"
      ]
     },
     "execution_count": 13,
     "metadata": {},
     "output_type": "execute_result"
    }
   ],
   "source": [
    "order_df.duplicated().value_counts()"
   ]
  },
  {
   "cell_type": "markdown",
   "id": "d1ad6584-fc5e-42e3-a96e-ebcdde77db80",
   "metadata": {},
   "source": [
    "<h3>customer Table</h3>"
   ]
  },
  {
   "cell_type": "code",
   "execution_count": 14,
   "id": "d803d15d-0e00-4c10-b729-da93d21575ae",
   "metadata": {},
   "outputs": [
    {
     "data": {
      "text/html": [
       "<div>\n",
       "<style scoped>\n",
       "    .dataframe tbody tr th:only-of-type {\n",
       "        vertical-align: middle;\n",
       "    }\n",
       "\n",
       "    .dataframe tbody tr th {\n",
       "        vertical-align: top;\n",
       "    }\n",
       "\n",
       "    .dataframe thead th {\n",
       "        text-align: right;\n",
       "    }\n",
       "</style>\n",
       "<table border=\"1\" class=\"dataframe\">\n",
       "  <thead>\n",
       "    <tr style=\"text-align: right;\">\n",
       "      <th></th>\n",
       "      <th>customer_id</th>\n",
       "      <th>name</th>\n",
       "      <th>city</th>\n",
       "      <th>email</th>\n",
       "      <th>phone_no</th>\n",
       "      <th>address</th>\n",
       "      <th>pin_code</th>\n",
       "    </tr>\n",
       "  </thead>\n",
       "  <tbody>\n",
       "    <tr>\n",
       "      <th>0</th>\n",
       "      <td>C1001</td>\n",
       "      <td>Steve</td>\n",
       "      <td>Tokyo</td>\n",
       "      <td>steve@gmail.com</td>\n",
       "      <td>4567897652</td>\n",
       "      <td>f.g.road</td>\n",
       "      <td>99</td>\n",
       "    </tr>\n",
       "    <tr>\n",
       "      <th>1</th>\n",
       "      <td>C1002</td>\n",
       "      <td>john</td>\n",
       "      <td>Sydney</td>\n",
       "      <td>john@gmail.com</td>\n",
       "      <td>9987234567</td>\n",
       "      <td>k.c.road</td>\n",
       "      <td>75001</td>\n",
       "    </tr>\n",
       "    <tr>\n",
       "      <th>2</th>\n",
       "      <td>C1003</td>\n",
       "      <td>Peter</td>\n",
       "      <td>Kanagawa</td>\n",
       "      <td>peter.parker@mail.com</td>\n",
       "      <td>9969834567</td>\n",
       "      <td>2F Ikenobecho</td>\n",
       "      <td>171</td>\n",
       "    </tr>\n",
       "    <tr>\n",
       "      <th>3</th>\n",
       "      <td>C1004</td>\n",
       "      <td>Jackson</td>\n",
       "      <td>Tokyo</td>\n",
       "      <td>Jackson@gmail.com</td>\n",
       "      <td>7765834567</td>\n",
       "      <td>24-2, Sendagaya</td>\n",
       "      <td>8429</td>\n",
       "    </tr>\n",
       "    <tr>\n",
       "      <th>4</th>\n",
       "      <td>C1005</td>\n",
       "      <td>Jack</td>\n",
       "      <td>Lake Buena Vista</td>\n",
       "      <td>Jack@gmail.com</td>\n",
       "      <td>8876345678</td>\n",
       "      <td>1520 E Buena Vista Drive</td>\n",
       "      <td>32830</td>\n",
       "    </tr>\n",
       "  </tbody>\n",
       "</table>\n",
       "</div>"
      ],
      "text/plain": [
       "  customer_id     name              city                  email    phone_no  \\\n",
       "0       C1001    Steve             Tokyo        steve@gmail.com  4567897652   \n",
       "1       C1002     john            Sydney         john@gmail.com  9987234567   \n",
       "2       C1003    Peter          Kanagawa  peter.parker@mail.com  9969834567   \n",
       "3       C1004  Jackson             Tokyo      Jackson@gmail.com  7765834567   \n",
       "4       C1005     Jack  Lake Buena Vista         Jack@gmail.com  8876345678   \n",
       "\n",
       "                    address  pin_code  \n",
       "0                  f.g.road        99  \n",
       "1                  k.c.road     75001  \n",
       "2             2F Ikenobecho       171  \n",
       "3           24-2, Sendagaya      8429  \n",
       "4  1520 E Buena Vista Drive     32830  "
      ]
     },
     "execution_count": 14,
     "metadata": {},
     "output_type": "execute_result"
    }
   ],
   "source": [
    "#head()- shows top 5 rows from data list, from given customerdataframe.\n",
    "customer_df.head()"
   ]
  },
  {
   "cell_type": "code",
   "execution_count": 15,
   "id": "90fe153e-6aee-4a06-ad34-ab2168a3a49e",
   "metadata": {},
   "outputs": [
    {
     "name": "stdout",
     "output_type": "stream",
     "text": [
      "<class 'pandas.core.frame.DataFrame'>\n",
      "RangeIndex: 62 entries, 0 to 61\n",
      "Data columns (total 7 columns):\n",
      " #   Column       Non-Null Count  Dtype \n",
      "---  ------       --------------  ----- \n",
      " 0   customer_id  62 non-null     object\n",
      " 1   name         62 non-null     object\n",
      " 2   city         62 non-null     object\n",
      " 3   email        62 non-null     object\n",
      " 4   phone_no     62 non-null     object\n",
      " 5   address      62 non-null     object\n",
      " 6   pin_code     62 non-null     int64 \n",
      "dtypes: int64(1), object(6)\n",
      "memory usage: 3.5+ KB\n"
     ]
    }
   ],
   "source": [
    "customer_df.info()"
   ]
  },
  {
   "cell_type": "code",
   "execution_count": 16,
   "id": "3e401336-ac6b-420d-9deb-9557faffed40",
   "metadata": {},
   "outputs": [
    {
     "data": {
      "text/html": [
       "<div>\n",
       "<style scoped>\n",
       "    .dataframe tbody tr th:only-of-type {\n",
       "        vertical-align: middle;\n",
       "    }\n",
       "\n",
       "    .dataframe tbody tr th {\n",
       "        vertical-align: top;\n",
       "    }\n",
       "\n",
       "    .dataframe thead th {\n",
       "        text-align: right;\n",
       "    }\n",
       "</style>\n",
       "<table border=\"1\" class=\"dataframe\">\n",
       "  <thead>\n",
       "    <tr style=\"text-align: right;\">\n",
       "      <th></th>\n",
       "      <th>customer_id</th>\n",
       "      <th>name</th>\n",
       "      <th>city</th>\n",
       "      <th>email</th>\n",
       "      <th>phone_no</th>\n",
       "      <th>address</th>\n",
       "    </tr>\n",
       "  </thead>\n",
       "  <tbody>\n",
       "    <tr>\n",
       "      <th>count</th>\n",
       "      <td>62</td>\n",
       "      <td>62</td>\n",
       "      <td>62</td>\n",
       "      <td>62</td>\n",
       "      <td>62</td>\n",
       "      <td>62</td>\n",
       "    </tr>\n",
       "    <tr>\n",
       "      <th>unique</th>\n",
       "      <td>62</td>\n",
       "      <td>39</td>\n",
       "      <td>4</td>\n",
       "      <td>52</td>\n",
       "      <td>26</td>\n",
       "      <td>57</td>\n",
       "    </tr>\n",
       "    <tr>\n",
       "      <th>top</th>\n",
       "      <td>C1001</td>\n",
       "      <td>Ava</td>\n",
       "      <td>Tokyo</td>\n",
       "      <td>henry@gmail.com</td>\n",
       "      <td>1234567890</td>\n",
       "      <td>oo.pp.road</td>\n",
       "    </tr>\n",
       "    <tr>\n",
       "      <th>freq</th>\n",
       "      <td>1</td>\n",
       "      <td>4</td>\n",
       "      <td>22</td>\n",
       "      <td>3</td>\n",
       "      <td>11</td>\n",
       "      <td>2</td>\n",
       "    </tr>\n",
       "  </tbody>\n",
       "</table>\n",
       "</div>"
      ],
      "text/plain": [
       "       customer_id name   city            email    phone_no     address\n",
       "count           62   62     62               62          62          62\n",
       "unique          62   39      4               52          26          57\n",
       "top          C1001  Ava  Tokyo  henry@gmail.com  1234567890  oo.pp.road\n",
       "freq             1    4     22                3          11           2"
      ]
     },
     "execution_count": 16,
     "metadata": {},
     "output_type": "execute_result"
    }
   ],
   "source": [
    "customer_df.describe(include=object)"
   ]
  },
  {
   "cell_type": "code",
   "execution_count": 17,
   "id": "cc823b27-4ce4-43d2-9e32-551e24df4d39",
   "metadata": {},
   "outputs": [
    {
     "data": {
      "text/plain": [
       "False    62\n",
       "Name: count, dtype: int64"
      ]
     },
     "execution_count": 17,
     "metadata": {},
     "output_type": "execute_result"
    }
   ],
   "source": [
    "customer_df.duplicated().value_counts()"
   ]
  },
  {
   "cell_type": "markdown",
   "id": "08458d3a-5710-4418-b721-5b33a58ddeaf",
   "metadata": {},
   "source": [
    "<h3>Customer Order Table</h3>"
   ]
  },
  {
   "cell_type": "code",
   "execution_count": 18,
   "id": "c772371a-db49-40a2-8228-8b5ab321d185",
   "metadata": {},
   "outputs": [
    {
     "data": {
      "text/html": [
       "<div>\n",
       "<style scoped>\n",
       "    .dataframe tbody tr th:only-of-type {\n",
       "        vertical-align: middle;\n",
       "    }\n",
       "\n",
       "    .dataframe tbody tr th {\n",
       "        vertical-align: top;\n",
       "    }\n",
       "\n",
       "    .dataframe thead th {\n",
       "        text-align: right;\n",
       "    }\n",
       "</style>\n",
       "<table border=\"1\" class=\"dataframe\">\n",
       "  <thead>\n",
       "    <tr style=\"text-align: right;\">\n",
       "      <th></th>\n",
       "      <th>customer_id</th>\n",
       "      <th>customer_name</th>\n",
       "      <th>city</th>\n",
       "      <th>email</th>\n",
       "      <th>phone_no</th>\n",
       "      <th>address</th>\n",
       "      <th>pin_code</th>\n",
       "      <th>order_id</th>\n",
       "      <th>product_id</th>\n",
       "      <th>quantity</th>\n",
       "      <th>total_price</th>\n",
       "      <th>payment_mode</th>\n",
       "      <th>order_date</th>\n",
       "      <th>order_status</th>\n",
       "      <th>product_name</th>\n",
       "      <th>category</th>\n",
       "      <th>sub_category</th>\n",
       "      <th>original_price</th>\n",
       "      <th>selling_price</th>\n",
       "    </tr>\n",
       "  </thead>\n",
       "  <tbody>\n",
       "    <tr>\n",
       "      <th>0</th>\n",
       "      <td>C1001</td>\n",
       "      <td>Steve</td>\n",
       "      <td>Tokyo</td>\n",
       "      <td>steve@gmail.com</td>\n",
       "      <td>4567897652</td>\n",
       "      <td>f.g.road</td>\n",
       "      <td>99</td>\n",
       "      <td>NaN</td>\n",
       "      <td>None</td>\n",
       "      <td>NaN</td>\n",
       "      <td>NaN</td>\n",
       "      <td>None</td>\n",
       "      <td>NaT</td>\n",
       "      <td>None</td>\n",
       "      <td>None</td>\n",
       "      <td>None</td>\n",
       "      <td>None</td>\n",
       "      <td>NaN</td>\n",
       "      <td>NaN</td>\n",
       "    </tr>\n",
       "    <tr>\n",
       "      <th>1</th>\n",
       "      <td>C1002</td>\n",
       "      <td>john</td>\n",
       "      <td>Sydney</td>\n",
       "      <td>john@gmail.com</td>\n",
       "      <td>9987234567</td>\n",
       "      <td>k.c.road</td>\n",
       "      <td>75001</td>\n",
       "      <td>NaN</td>\n",
       "      <td>None</td>\n",
       "      <td>NaN</td>\n",
       "      <td>NaN</td>\n",
       "      <td>None</td>\n",
       "      <td>NaT</td>\n",
       "      <td>None</td>\n",
       "      <td>None</td>\n",
       "      <td>None</td>\n",
       "      <td>None</td>\n",
       "      <td>NaN</td>\n",
       "      <td>NaN</td>\n",
       "    </tr>\n",
       "    <tr>\n",
       "      <th>2</th>\n",
       "      <td>C1003</td>\n",
       "      <td>Peter</td>\n",
       "      <td>Kanagawa</td>\n",
       "      <td>peter.parker@mail.com</td>\n",
       "      <td>9969834567</td>\n",
       "      <td>2F Ikenobecho</td>\n",
       "      <td>171</td>\n",
       "      <td>10.0</td>\n",
       "      <td>P105</td>\n",
       "      <td>1.0</td>\n",
       "      <td>450.0</td>\n",
       "      <td>COD</td>\n",
       "      <td>2023-12-19</td>\n",
       "      <td>Pending</td>\n",
       "      <td>Blender</td>\n",
       "      <td>Appliance</td>\n",
       "      <td>Electronics</td>\n",
       "      <td>500.0</td>\n",
       "      <td>450.0</td>\n",
       "    </tr>\n",
       "    <tr>\n",
       "      <th>3</th>\n",
       "      <td>C1003</td>\n",
       "      <td>Peter</td>\n",
       "      <td>Kanagawa</td>\n",
       "      <td>peter.parker@mail.com</td>\n",
       "      <td>9969834567</td>\n",
       "      <td>2F Ikenobecho</td>\n",
       "      <td>171</td>\n",
       "      <td>11.0</td>\n",
       "      <td>P103</td>\n",
       "      <td>1.0</td>\n",
       "      <td>55000.0</td>\n",
       "      <td>COD</td>\n",
       "      <td>2023-12-21</td>\n",
       "      <td>Pending</td>\n",
       "      <td>Laptop</td>\n",
       "      <td>Electronics</td>\n",
       "      <td>computer</td>\n",
       "      <td>60000.0</td>\n",
       "      <td>55000.0</td>\n",
       "    </tr>\n",
       "    <tr>\n",
       "      <th>4</th>\n",
       "      <td>C1004</td>\n",
       "      <td>Jackson</td>\n",
       "      <td>Tokyo</td>\n",
       "      <td>Jackson@gmail.com</td>\n",
       "      <td>7765834567</td>\n",
       "      <td>24-2, Sendagaya</td>\n",
       "      <td>8429</td>\n",
       "      <td>3.0</td>\n",
       "      <td>P112</td>\n",
       "      <td>1.0</td>\n",
       "      <td>1000.0</td>\n",
       "      <td>COD</td>\n",
       "      <td>2023-11-30</td>\n",
       "      <td>Pending</td>\n",
       "      <td>chair</td>\n",
       "      <td>Furniture</td>\n",
       "      <td>chairs</td>\n",
       "      <td>1000.0</td>\n",
       "      <td>800.0</td>\n",
       "    </tr>\n",
       "  </tbody>\n",
       "</table>\n",
       "</div>"
      ],
      "text/plain": [
       "  customer_id customer_name      city                  email    phone_no  \\\n",
       "0       C1001         Steve     Tokyo        steve@gmail.com  4567897652   \n",
       "1       C1002          john    Sydney         john@gmail.com  9987234567   \n",
       "2       C1003         Peter  Kanagawa  peter.parker@mail.com  9969834567   \n",
       "3       C1003         Peter  Kanagawa  peter.parker@mail.com  9969834567   \n",
       "4       C1004       Jackson     Tokyo      Jackson@gmail.com  7765834567   \n",
       "\n",
       "           address  pin_code  order_id product_id  quantity  total_price  \\\n",
       "0         f.g.road        99       NaN       None       NaN          NaN   \n",
       "1         k.c.road     75001       NaN       None       NaN          NaN   \n",
       "2    2F Ikenobecho       171      10.0       P105       1.0        450.0   \n",
       "3    2F Ikenobecho       171      11.0       P103       1.0      55000.0   \n",
       "4  24-2, Sendagaya      8429       3.0       P112       1.0       1000.0   \n",
       "\n",
       "  payment_mode order_date order_status product_name     category sub_category  \\\n",
       "0         None        NaT         None         None         None         None   \n",
       "1         None        NaT         None         None         None         None   \n",
       "2          COD 2023-12-19      Pending      Blender    Appliance  Electronics   \n",
       "3          COD 2023-12-21      Pending       Laptop  Electronics     computer   \n",
       "4          COD 2023-11-30      Pending        chair    Furniture       chairs   \n",
       "\n",
       "   original_price  selling_price  \n",
       "0             NaN            NaN  \n",
       "1             NaN            NaN  \n",
       "2           500.0          450.0  \n",
       "3         60000.0        55000.0  \n",
       "4          1000.0          800.0  "
      ]
     },
     "execution_count": 18,
     "metadata": {},
     "output_type": "execute_result"
    }
   ],
   "source": [
    "customer_order_df.head()"
   ]
  },
  {
   "cell_type": "code",
   "execution_count": 19,
   "id": "f2f28f90-c506-460a-9fe5-e47709b51bfa",
   "metadata": {},
   "outputs": [
    {
     "name": "stdout",
     "output_type": "stream",
     "text": [
      "<class 'pandas.core.frame.DataFrame'>\n",
      "RangeIndex: 79 entries, 0 to 78\n",
      "Data columns (total 19 columns):\n",
      " #   Column          Non-Null Count  Dtype         \n",
      "---  ------          --------------  -----         \n",
      " 0   customer_id     79 non-null     object        \n",
      " 1   customer_name   79 non-null     object        \n",
      " 2   city            79 non-null     object        \n",
      " 3   email           79 non-null     object        \n",
      " 4   phone_no        79 non-null     object        \n",
      " 5   address         79 non-null     object        \n",
      " 6   pin_code        79 non-null     int64         \n",
      " 7   order_id        76 non-null     float64       \n",
      " 8   product_id      76 non-null     object        \n",
      " 9   quantity        76 non-null     float64       \n",
      " 10  total_price     76 non-null     float64       \n",
      " 11  payment_mode    76 non-null     object        \n",
      " 12  order_date      76 non-null     datetime64[ns]\n",
      " 13  order_status    76 non-null     object        \n",
      " 14  product_name    76 non-null     object        \n",
      " 15  category        76 non-null     object        \n",
      " 16  sub_category    76 non-null     object        \n",
      " 17  original_price  76 non-null     float64       \n",
      " 18  selling_price   76 non-null     float64       \n",
      "dtypes: datetime64[ns](1), float64(5), int64(1), object(12)\n",
      "memory usage: 11.9+ KB\n"
     ]
    }
   ],
   "source": [
    "customer_order_df.info()"
   ]
  },
  {
   "cell_type": "code",
   "execution_count": 20,
   "id": "d5fa29c0-41af-4958-a3f5-dabd8805330f",
   "metadata": {},
   "outputs": [
    {
     "data": {
      "text/plain": [
       "False    79\n",
       "Name: count, dtype: int64"
      ]
     },
     "execution_count": 20,
     "metadata": {},
     "output_type": "execute_result"
    }
   ],
   "source": [
    "customer_order_df.duplicated().value_counts()"
   ]
  },
  {
   "cell_type": "code",
   "execution_count": 21,
   "id": "58d60a45-4e12-43ea-875f-981cae0b5f8a",
   "metadata": {},
   "outputs": [
    {
     "data": {
      "text/html": [
       "<div>\n",
       "<style scoped>\n",
       "    .dataframe tbody tr th:only-of-type {\n",
       "        vertical-align: middle;\n",
       "    }\n",
       "\n",
       "    .dataframe tbody tr th {\n",
       "        vertical-align: top;\n",
       "    }\n",
       "\n",
       "    .dataframe thead th {\n",
       "        text-align: right;\n",
       "    }\n",
       "</style>\n",
       "<table border=\"1\" class=\"dataframe\">\n",
       "  <thead>\n",
       "    <tr style=\"text-align: right;\">\n",
       "      <th></th>\n",
       "      <th>pin_code</th>\n",
       "      <th>order_id</th>\n",
       "      <th>quantity</th>\n",
       "      <th>total_price</th>\n",
       "      <th>order_date</th>\n",
       "      <th>original_price</th>\n",
       "      <th>selling_price</th>\n",
       "    </tr>\n",
       "  </thead>\n",
       "  <tbody>\n",
       "    <tr>\n",
       "      <th>count</th>\n",
       "      <td>79.000000</td>\n",
       "      <td>76.000000</td>\n",
       "      <td>76.000000</td>\n",
       "      <td>76.000000</td>\n",
       "      <td>76</td>\n",
       "      <td>76.000000</td>\n",
       "      <td>76.000000</td>\n",
       "    </tr>\n",
       "    <tr>\n",
       "      <th>mean</th>\n",
       "      <td>38247.189873</td>\n",
       "      <td>51.144737</td>\n",
       "      <td>1.355263</td>\n",
       "      <td>20873.684211</td>\n",
       "      <td>2024-02-02 03:28:25.263158016</td>\n",
       "      <td>20019.736842</td>\n",
       "      <td>16973.684211</td>\n",
       "    </tr>\n",
       "    <tr>\n",
       "      <th>min</th>\n",
       "      <td>99.000000</td>\n",
       "      <td>3.000000</td>\n",
       "      <td>1.000000</td>\n",
       "      <td>450.000000</td>\n",
       "      <td>2023-11-23 00:00:00</td>\n",
       "      <td>500.000000</td>\n",
       "      <td>450.000000</td>\n",
       "    </tr>\n",
       "    <tr>\n",
       "      <th>25%</th>\n",
       "      <td>12345.000000</td>\n",
       "      <td>22.750000</td>\n",
       "      <td>1.000000</td>\n",
       "      <td>6500.000000</td>\n",
       "      <td>2024-01-02 18:00:00</td>\n",
       "      <td>6000.000000</td>\n",
       "      <td>5000.000000</td>\n",
       "    </tr>\n",
       "    <tr>\n",
       "      <th>50%</th>\n",
       "      <td>32830.000000</td>\n",
       "      <td>57.500000</td>\n",
       "      <td>1.000000</td>\n",
       "      <td>16500.000000</td>\n",
       "      <td>2024-02-12 12:00:00</td>\n",
       "      <td>15000.000000</td>\n",
       "      <td>12000.000000</td>\n",
       "    </tr>\n",
       "    <tr>\n",
       "      <th>75%</th>\n",
       "      <td>56789.000000</td>\n",
       "      <td>76.250000</td>\n",
       "      <td>2.000000</td>\n",
       "      <td>30000.000000</td>\n",
       "      <td>2024-03-02 06:00:00</td>\n",
       "      <td>30000.000000</td>\n",
       "      <td>25000.000000</td>\n",
       "    </tr>\n",
       "    <tr>\n",
       "      <th>max</th>\n",
       "      <td>98766.000000</td>\n",
       "      <td>95.000000</td>\n",
       "      <td>3.000000</td>\n",
       "      <td>90000.000000</td>\n",
       "      <td>2024-03-21 00:00:00</td>\n",
       "      <td>80000.000000</td>\n",
       "      <td>70000.000000</td>\n",
       "    </tr>\n",
       "    <tr>\n",
       "      <th>std</th>\n",
       "      <td>29304.160483</td>\n",
       "      <td>28.673660</td>\n",
       "      <td>0.558664</td>\n",
       "      <td>18442.574791</td>\n",
       "      <td>NaN</td>\n",
       "      <td>17749.824561</td>\n",
       "      <td>15712.153414</td>\n",
       "    </tr>\n",
       "  </tbody>\n",
       "</table>\n",
       "</div>"
      ],
      "text/plain": [
       "           pin_code   order_id   quantity   total_price  \\\n",
       "count     79.000000  76.000000  76.000000     76.000000   \n",
       "mean   38247.189873  51.144737   1.355263  20873.684211   \n",
       "min       99.000000   3.000000   1.000000    450.000000   \n",
       "25%    12345.000000  22.750000   1.000000   6500.000000   \n",
       "50%    32830.000000  57.500000   1.000000  16500.000000   \n",
       "75%    56789.000000  76.250000   2.000000  30000.000000   \n",
       "max    98766.000000  95.000000   3.000000  90000.000000   \n",
       "std    29304.160483  28.673660   0.558664  18442.574791   \n",
       "\n",
       "                          order_date  original_price  selling_price  \n",
       "count                             76       76.000000      76.000000  \n",
       "mean   2024-02-02 03:28:25.263158016    20019.736842   16973.684211  \n",
       "min              2023-11-23 00:00:00      500.000000     450.000000  \n",
       "25%              2024-01-02 18:00:00     6000.000000    5000.000000  \n",
       "50%              2024-02-12 12:00:00    15000.000000   12000.000000  \n",
       "75%              2024-03-02 06:00:00    30000.000000   25000.000000  \n",
       "max              2024-03-21 00:00:00    80000.000000   70000.000000  \n",
       "std                              NaN    17749.824561   15712.153414  "
      ]
     },
     "execution_count": 21,
     "metadata": {},
     "output_type": "execute_result"
    }
   ],
   "source": [
    "customer_order_df.describe()"
   ]
  },
  {
   "cell_type": "code",
   "execution_count": 22,
   "id": "1749beb7-c4c8-4653-be02-15a08e188ea5",
   "metadata": {},
   "outputs": [
    {
     "data": {
      "text/html": [
       "<div>\n",
       "<style scoped>\n",
       "    .dataframe tbody tr th:only-of-type {\n",
       "        vertical-align: middle;\n",
       "    }\n",
       "\n",
       "    .dataframe tbody tr th {\n",
       "        vertical-align: top;\n",
       "    }\n",
       "\n",
       "    .dataframe thead th {\n",
       "        text-align: right;\n",
       "    }\n",
       "</style>\n",
       "<table border=\"1\" class=\"dataframe\">\n",
       "  <thead>\n",
       "    <tr style=\"text-align: right;\">\n",
       "      <th></th>\n",
       "      <th>customer_id</th>\n",
       "      <th>customer_name</th>\n",
       "      <th>city</th>\n",
       "      <th>email</th>\n",
       "      <th>phone_no</th>\n",
       "      <th>address</th>\n",
       "      <th>product_id</th>\n",
       "      <th>payment_mode</th>\n",
       "      <th>order_status</th>\n",
       "      <th>product_name</th>\n",
       "      <th>category</th>\n",
       "      <th>sub_category</th>\n",
       "    </tr>\n",
       "  </thead>\n",
       "  <tbody>\n",
       "    <tr>\n",
       "      <th>count</th>\n",
       "      <td>79</td>\n",
       "      <td>79</td>\n",
       "      <td>79</td>\n",
       "      <td>79</td>\n",
       "      <td>79</td>\n",
       "      <td>79</td>\n",
       "      <td>76</td>\n",
       "      <td>76</td>\n",
       "      <td>76</td>\n",
       "      <td>76</td>\n",
       "      <td>76</td>\n",
       "      <td>76</td>\n",
       "    </tr>\n",
       "    <tr>\n",
       "      <th>unique</th>\n",
       "      <td>62</td>\n",
       "      <td>39</td>\n",
       "      <td>4</td>\n",
       "      <td>52</td>\n",
       "      <td>26</td>\n",
       "      <td>57</td>\n",
       "      <td>58</td>\n",
       "      <td>2</td>\n",
       "      <td>6</td>\n",
       "      <td>40</td>\n",
       "      <td>4</td>\n",
       "      <td>20</td>\n",
       "    </tr>\n",
       "    <tr>\n",
       "      <th>top</th>\n",
       "      <td>C1013</td>\n",
       "      <td>Mia</td>\n",
       "      <td>Kanagawa</td>\n",
       "      <td>mia@example.com</td>\n",
       "      <td>1234567890</td>\n",
       "      <td>pqr street</td>\n",
       "      <td>P102</td>\n",
       "      <td>Online</td>\n",
       "      <td>Delivered</td>\n",
       "      <td>Tablet</td>\n",
       "      <td>Electronics</td>\n",
       "      <td>Electronics</td>\n",
       "    </tr>\n",
       "    <tr>\n",
       "      <th>freq</th>\n",
       "      <td>3</td>\n",
       "      <td>5</td>\n",
       "      <td>25</td>\n",
       "      <td>4</td>\n",
       "      <td>12</td>\n",
       "      <td>4</td>\n",
       "      <td>3</td>\n",
       "      <td>43</td>\n",
       "      <td>27</td>\n",
       "      <td>5</td>\n",
       "      <td>34</td>\n",
       "      <td>27</td>\n",
       "    </tr>\n",
       "  </tbody>\n",
       "</table>\n",
       "</div>"
      ],
      "text/plain": [
       "       customer_id customer_name      city            email    phone_no  \\\n",
       "count           79            79        79               79          79   \n",
       "unique          62            39         4               52          26   \n",
       "top          C1013           Mia  Kanagawa  mia@example.com  1234567890   \n",
       "freq             3             5        25                4          12   \n",
       "\n",
       "           address product_id payment_mode order_status product_name  \\\n",
       "count           79         76           76           76           76   \n",
       "unique          57         58            2            6           40   \n",
       "top     pqr street       P102       Online    Delivered       Tablet   \n",
       "freq             4          3           43           27            5   \n",
       "\n",
       "           category sub_category  \n",
       "count            76           76  \n",
       "unique            4           20  \n",
       "top     Electronics  Electronics  \n",
       "freq             34           27  "
      ]
     },
     "execution_count": 22,
     "metadata": {},
     "output_type": "execute_result"
    }
   ],
   "source": [
    "customer_order_df.describe(include=object)"
   ]
  },
  {
   "cell_type": "code",
   "execution_count": 23,
   "id": "21d28f01-a9ee-411e-a2d1-9da77b1d0f1c",
   "metadata": {},
   "outputs": [
    {
     "data": {
      "text/plain": [
       "customer_id       0\n",
       "customer_name     0\n",
       "city              0\n",
       "email             0\n",
       "phone_no          0\n",
       "address           0\n",
       "pin_code          0\n",
       "order_id          3\n",
       "product_id        3\n",
       "quantity          3\n",
       "total_price       3\n",
       "payment_mode      3\n",
       "order_date        3\n",
       "order_status      3\n",
       "product_name      3\n",
       "category          3\n",
       "sub_category      3\n",
       "original_price    3\n",
       "selling_price     3\n",
       "dtype: int64"
      ]
     },
     "execution_count": 23,
     "metadata": {},
     "output_type": "execute_result"
    }
   ],
   "source": [
    "customer_order_df.isnull().sum()"
   ]
  },
  {
   "cell_type": "code",
   "execution_count": 24,
   "id": "f591c5a4-23ac-4214-9bd0-9a31c582a442",
   "metadata": {},
   "outputs": [
    {
     "name": "stdout",
     "output_type": "stream",
     "text": [
      "51.14473684210526\n"
     ]
    }
   ],
   "source": [
    "customer_order_df_mean=customer_order_df['order_id'].mean()\n",
    "print(customer_order_df_mean)"
   ]
  },
  {
   "cell_type": "code",
   "execution_count": 25,
   "id": "264a9be0-64ec-4a86-979a-88d5e9e3e72b",
   "metadata": {},
   "outputs": [],
   "source": [
    "customer_order_df['order_id'].fillna(customer_order_df_mean,inplace=True)"
   ]
  },
  {
   "cell_type": "code",
   "execution_count": 26,
   "id": "3a04ccd4-ebb9-45b3-8b04-ecd929247264",
   "metadata": {},
   "outputs": [
    {
     "data": {
      "text/plain": [
       "order_id\n",
       "False    79\n",
       "Name: count, dtype: int64"
      ]
     },
     "execution_count": 26,
     "metadata": {},
     "output_type": "execute_result"
    }
   ],
   "source": [
    "customer_order_df['order_id'].isnull().value_counts()"
   ]
  },
  {
   "cell_type": "code",
   "execution_count": 27,
   "id": "d4cffa42-fa3b-42f1-a012-165925c20f98",
   "metadata": {},
   "outputs": [
    {
     "data": {
      "text/plain": [
       "3"
      ]
     },
     "execution_count": 27,
     "metadata": {},
     "output_type": "execute_result"
    }
   ],
   "source": [
    "customer_order_df['product_id'].isnull().sum()"
   ]
  },
  {
   "cell_type": "code",
   "execution_count": 28,
   "id": "ac775541-8b95-49b4-ba3c-3e4e82a400c5",
   "metadata": {},
   "outputs": [
    {
     "data": {
      "text/html": [
       "<div>\n",
       "<style scoped>\n",
       "    .dataframe tbody tr th:only-of-type {\n",
       "        vertical-align: middle;\n",
       "    }\n",
       "\n",
       "    .dataframe tbody tr th {\n",
       "        vertical-align: top;\n",
       "    }\n",
       "\n",
       "    .dataframe thead th {\n",
       "        text-align: right;\n",
       "    }\n",
       "</style>\n",
       "<table border=\"1\" class=\"dataframe\">\n",
       "  <thead>\n",
       "    <tr style=\"text-align: right;\">\n",
       "      <th></th>\n",
       "      <th>customer_id</th>\n",
       "      <th>customer_name</th>\n",
       "      <th>city</th>\n",
       "      <th>email</th>\n",
       "      <th>phone_no</th>\n",
       "      <th>address</th>\n",
       "      <th>pin_code</th>\n",
       "      <th>order_id</th>\n",
       "      <th>product_id</th>\n",
       "      <th>quantity</th>\n",
       "      <th>total_price</th>\n",
       "      <th>payment_mode</th>\n",
       "      <th>order_date</th>\n",
       "      <th>order_status</th>\n",
       "      <th>product_name</th>\n",
       "      <th>category</th>\n",
       "      <th>sub_category</th>\n",
       "      <th>original_price</th>\n",
       "      <th>selling_price</th>\n",
       "    </tr>\n",
       "  </thead>\n",
       "  <tbody>\n",
       "    <tr>\n",
       "      <th>0</th>\n",
       "      <td>C1001</td>\n",
       "      <td>Steve</td>\n",
       "      <td>Tokyo</td>\n",
       "      <td>steve@gmail.com</td>\n",
       "      <td>4567897652</td>\n",
       "      <td>f.g.road</td>\n",
       "      <td>99</td>\n",
       "      <td>51.144737</td>\n",
       "      <td>None</td>\n",
       "      <td>NaN</td>\n",
       "      <td>NaN</td>\n",
       "      <td>None</td>\n",
       "      <td>NaT</td>\n",
       "      <td>None</td>\n",
       "      <td>None</td>\n",
       "      <td>None</td>\n",
       "      <td>None</td>\n",
       "      <td>NaN</td>\n",
       "      <td>NaN</td>\n",
       "    </tr>\n",
       "    <tr>\n",
       "      <th>1</th>\n",
       "      <td>C1002</td>\n",
       "      <td>john</td>\n",
       "      <td>Sydney</td>\n",
       "      <td>john@gmail.com</td>\n",
       "      <td>9987234567</td>\n",
       "      <td>k.c.road</td>\n",
       "      <td>75001</td>\n",
       "      <td>51.144737</td>\n",
       "      <td>None</td>\n",
       "      <td>NaN</td>\n",
       "      <td>NaN</td>\n",
       "      <td>None</td>\n",
       "      <td>NaT</td>\n",
       "      <td>None</td>\n",
       "      <td>None</td>\n",
       "      <td>None</td>\n",
       "      <td>None</td>\n",
       "      <td>NaN</td>\n",
       "      <td>NaN</td>\n",
       "    </tr>\n",
       "    <tr>\n",
       "      <th>10</th>\n",
       "      <td>C1007</td>\n",
       "      <td>lilly</td>\n",
       "      <td>Tokyo</td>\n",
       "      <td>lilly@gmail.com</td>\n",
       "      <td>4567234567</td>\n",
       "      <td>f.c.road</td>\n",
       "      <td>56789</td>\n",
       "      <td>51.144737</td>\n",
       "      <td>None</td>\n",
       "      <td>NaN</td>\n",
       "      <td>NaN</td>\n",
       "      <td>None</td>\n",
       "      <td>NaT</td>\n",
       "      <td>None</td>\n",
       "      <td>None</td>\n",
       "      <td>None</td>\n",
       "      <td>None</td>\n",
       "      <td>NaN</td>\n",
       "      <td>NaN</td>\n",
       "    </tr>\n",
       "  </tbody>\n",
       "</table>\n",
       "</div>"
      ],
      "text/plain": [
       "   customer_id customer_name    city            email    phone_no   address  \\\n",
       "0        C1001         Steve   Tokyo  steve@gmail.com  4567897652  f.g.road   \n",
       "1        C1002          john  Sydney   john@gmail.com  9987234567  k.c.road   \n",
       "10       C1007         lilly   Tokyo  lilly@gmail.com  4567234567  f.c.road   \n",
       "\n",
       "    pin_code   order_id product_id  quantity  total_price payment_mode  \\\n",
       "0         99  51.144737       None       NaN          NaN         None   \n",
       "1      75001  51.144737       None       NaN          NaN         None   \n",
       "10     56789  51.144737       None       NaN          NaN         None   \n",
       "\n",
       "   order_date order_status product_name category sub_category  original_price  \\\n",
       "0         NaT         None         None     None         None             NaN   \n",
       "1         NaT         None         None     None         None             NaN   \n",
       "10        NaT         None         None     None         None             NaN   \n",
       "\n",
       "    selling_price  \n",
       "0             NaN  \n",
       "1             NaN  \n",
       "10            NaN  "
      ]
     },
     "execution_count": 28,
     "metadata": {},
     "output_type": "execute_result"
    }
   ],
   "source": [
    "customer_order_df[customer_order_df['product_id'].isnull()]"
   ]
  },
  {
   "cell_type": "code",
   "execution_count": 29,
   "id": "1650bae4-0f86-436b-a2c3-cdb21eb380d2",
   "metadata": {},
   "outputs": [],
   "source": [
    "customer_order_df['product_id'].fillna(value='P000',inplace=True)"
   ]
  },
  {
   "cell_type": "code",
   "execution_count": 30,
   "id": "8ca72a56-179c-435c-bad0-692addaa415e",
   "metadata": {},
   "outputs": [
    {
     "data": {
      "text/plain": [
       "product_id\n",
       "False    79\n",
       "Name: count, dtype: int64"
      ]
     },
     "execution_count": 30,
     "metadata": {},
     "output_type": "execute_result"
    }
   ],
   "source": [
    "customer_order_df['product_id'].isnull().value_counts()"
   ]
  },
  {
   "cell_type": "code",
   "execution_count": 31,
   "id": "f1239d60-82c5-401e-b93c-eebadec23165",
   "metadata": {},
   "outputs": [
    {
     "data": {
      "text/plain": [
       "quantity\n",
       "False    76\n",
       "True      3\n",
       "Name: count, dtype: int64"
      ]
     },
     "execution_count": 31,
     "metadata": {},
     "output_type": "execute_result"
    }
   ],
   "source": [
    "customer_order_df['quantity'].isnull().value_counts()"
   ]
  },
  {
   "cell_type": "code",
   "execution_count": 32,
   "id": "8b529d62-4479-43f5-955f-fd7e4beec99e",
   "metadata": {},
   "outputs": [],
   "source": [
    "customer_order_df['quantity'].fillna(customer_order_df['quantity'].mean(),inplace=True)"
   ]
  },
  {
   "cell_type": "code",
   "execution_count": 33,
   "id": "4cfe1010-400c-48eb-b715-463a4d85e3ba",
   "metadata": {},
   "outputs": [
    {
     "data": {
      "text/plain": [
       "quantity\n",
       "False    79\n",
       "Name: count, dtype: int64"
      ]
     },
     "execution_count": 33,
     "metadata": {},
     "output_type": "execute_result"
    }
   ],
   "source": [
    "customer_order_df['quantity'].isnull().value_counts()"
   ]
  },
  {
   "cell_type": "code",
   "execution_count": 34,
   "id": "4b8c763b-7e8d-42a2-856c-90f4dc906e06",
   "metadata": {},
   "outputs": [
    {
     "data": {
      "text/plain": [
       "total_price\n",
       "False    76\n",
       "True      3\n",
       "Name: count, dtype: int64"
      ]
     },
     "execution_count": 34,
     "metadata": {},
     "output_type": "execute_result"
    }
   ],
   "source": [
    "customer_order_df['total_price'].isnull().value_counts()"
   ]
  },
  {
   "cell_type": "code",
   "execution_count": 35,
   "id": "9fe44d54-e294-4af9-bfe2-bd9939707fe3",
   "metadata": {},
   "outputs": [],
   "source": [
    "customer_order_df['total_price'].fillna(customer_order_df['total_price'].mean(),inplace=True)"
   ]
  },
  {
   "cell_type": "code",
   "execution_count": 36,
   "id": "b62cbc85-c010-4d78-969d-88cbc5773133",
   "metadata": {},
   "outputs": [
    {
     "data": {
      "text/plain": [
       "total_price\n",
       "False    79\n",
       "Name: count, dtype: int64"
      ]
     },
     "execution_count": 36,
     "metadata": {},
     "output_type": "execute_result"
    }
   ],
   "source": [
    "customer_order_df['total_price'].isnull().value_counts()"
   ]
  },
  {
   "cell_type": "code",
   "execution_count": 37,
   "id": "506df952-b116-4ce4-9d12-ea7b55482c98",
   "metadata": {},
   "outputs": [
    {
     "data": {
      "text/plain": [
       "payment_mode\n",
       "False    76\n",
       "True      3\n",
       "Name: count, dtype: int64"
      ]
     },
     "execution_count": 37,
     "metadata": {},
     "output_type": "execute_result"
    }
   ],
   "source": [
    "customer_order_df['payment_mode'].isnull().value_counts()"
   ]
  },
  {
   "cell_type": "code",
   "execution_count": 38,
   "id": "4fea6439-93f1-4585-a02b-d4f9c8b144bb",
   "metadata": {},
   "outputs": [
    {
     "data": {
      "text/html": [
       "<div>\n",
       "<style scoped>\n",
       "    .dataframe tbody tr th:only-of-type {\n",
       "        vertical-align: middle;\n",
       "    }\n",
       "\n",
       "    .dataframe tbody tr th {\n",
       "        vertical-align: top;\n",
       "    }\n",
       "\n",
       "    .dataframe thead th {\n",
       "        text-align: right;\n",
       "    }\n",
       "</style>\n",
       "<table border=\"1\" class=\"dataframe\">\n",
       "  <thead>\n",
       "    <tr style=\"text-align: right;\">\n",
       "      <th></th>\n",
       "      <th>customer_id</th>\n",
       "      <th>customer_name</th>\n",
       "      <th>city</th>\n",
       "      <th>email</th>\n",
       "      <th>phone_no</th>\n",
       "      <th>address</th>\n",
       "      <th>pin_code</th>\n",
       "      <th>order_id</th>\n",
       "      <th>product_id</th>\n",
       "      <th>quantity</th>\n",
       "      <th>total_price</th>\n",
       "      <th>payment_mode</th>\n",
       "      <th>order_date</th>\n",
       "      <th>order_status</th>\n",
       "      <th>product_name</th>\n",
       "      <th>category</th>\n",
       "      <th>sub_category</th>\n",
       "      <th>original_price</th>\n",
       "      <th>selling_price</th>\n",
       "    </tr>\n",
       "  </thead>\n",
       "  <tbody>\n",
       "    <tr>\n",
       "      <th>0</th>\n",
       "      <td>C1001</td>\n",
       "      <td>Steve</td>\n",
       "      <td>Tokyo</td>\n",
       "      <td>steve@gmail.com</td>\n",
       "      <td>4567897652</td>\n",
       "      <td>f.g.road</td>\n",
       "      <td>99</td>\n",
       "      <td>51.144737</td>\n",
       "      <td>P000</td>\n",
       "      <td>1.355263</td>\n",
       "      <td>20873.684211</td>\n",
       "      <td>None</td>\n",
       "      <td>NaT</td>\n",
       "      <td>None</td>\n",
       "      <td>None</td>\n",
       "      <td>None</td>\n",
       "      <td>None</td>\n",
       "      <td>NaN</td>\n",
       "      <td>NaN</td>\n",
       "    </tr>\n",
       "    <tr>\n",
       "      <th>1</th>\n",
       "      <td>C1002</td>\n",
       "      <td>john</td>\n",
       "      <td>Sydney</td>\n",
       "      <td>john@gmail.com</td>\n",
       "      <td>9987234567</td>\n",
       "      <td>k.c.road</td>\n",
       "      <td>75001</td>\n",
       "      <td>51.144737</td>\n",
       "      <td>P000</td>\n",
       "      <td>1.355263</td>\n",
       "      <td>20873.684211</td>\n",
       "      <td>None</td>\n",
       "      <td>NaT</td>\n",
       "      <td>None</td>\n",
       "      <td>None</td>\n",
       "      <td>None</td>\n",
       "      <td>None</td>\n",
       "      <td>NaN</td>\n",
       "      <td>NaN</td>\n",
       "    </tr>\n",
       "    <tr>\n",
       "      <th>10</th>\n",
       "      <td>C1007</td>\n",
       "      <td>lilly</td>\n",
       "      <td>Tokyo</td>\n",
       "      <td>lilly@gmail.com</td>\n",
       "      <td>4567234567</td>\n",
       "      <td>f.c.road</td>\n",
       "      <td>56789</td>\n",
       "      <td>51.144737</td>\n",
       "      <td>P000</td>\n",
       "      <td>1.355263</td>\n",
       "      <td>20873.684211</td>\n",
       "      <td>None</td>\n",
       "      <td>NaT</td>\n",
       "      <td>None</td>\n",
       "      <td>None</td>\n",
       "      <td>None</td>\n",
       "      <td>None</td>\n",
       "      <td>NaN</td>\n",
       "      <td>NaN</td>\n",
       "    </tr>\n",
       "  </tbody>\n",
       "</table>\n",
       "</div>"
      ],
      "text/plain": [
       "   customer_id customer_name    city            email    phone_no   address  \\\n",
       "0        C1001         Steve   Tokyo  steve@gmail.com  4567897652  f.g.road   \n",
       "1        C1002          john  Sydney   john@gmail.com  9987234567  k.c.road   \n",
       "10       C1007         lilly   Tokyo  lilly@gmail.com  4567234567  f.c.road   \n",
       "\n",
       "    pin_code   order_id product_id  quantity   total_price payment_mode  \\\n",
       "0         99  51.144737       P000  1.355263  20873.684211         None   \n",
       "1      75001  51.144737       P000  1.355263  20873.684211         None   \n",
       "10     56789  51.144737       P000  1.355263  20873.684211         None   \n",
       "\n",
       "   order_date order_status product_name category sub_category  original_price  \\\n",
       "0         NaT         None         None     None         None             NaN   \n",
       "1         NaT         None         None     None         None             NaN   \n",
       "10        NaT         None         None     None         None             NaN   \n",
       "\n",
       "    selling_price  \n",
       "0             NaN  \n",
       "1             NaN  \n",
       "10            NaN  "
      ]
     },
     "execution_count": 38,
     "metadata": {},
     "output_type": "execute_result"
    }
   ],
   "source": [
    "customer_order_df[customer_order_df['payment_mode'].isnull()]"
   ]
  },
  {
   "cell_type": "code",
   "execution_count": 39,
   "id": "19a2ea3f-b5a2-4399-871e-d696c2f21d2b",
   "metadata": {},
   "outputs": [
    {
     "data": {
      "text/html": [
       "<div>\n",
       "<style scoped>\n",
       "    .dataframe tbody tr th:only-of-type {\n",
       "        vertical-align: middle;\n",
       "    }\n",
       "\n",
       "    .dataframe tbody tr th {\n",
       "        vertical-align: top;\n",
       "    }\n",
       "\n",
       "    .dataframe thead tr th {\n",
       "        text-align: left;\n",
       "    }\n",
       "\n",
       "    .dataframe thead tr:last-of-type th {\n",
       "        text-align: right;\n",
       "    }\n",
       "</style>\n",
       "<table border=\"1\" class=\"dataframe\">\n",
       "  <thead>\n",
       "    <tr>\n",
       "      <th></th>\n",
       "      <th colspan=\"18\" halign=\"left\">count</th>\n",
       "    </tr>\n",
       "    <tr>\n",
       "      <th></th>\n",
       "      <th>address</th>\n",
       "      <th>category</th>\n",
       "      <th>city</th>\n",
       "      <th>customer_id</th>\n",
       "      <th>customer_name</th>\n",
       "      <th>email</th>\n",
       "      <th>order_date</th>\n",
       "      <th>order_id</th>\n",
       "      <th>order_status</th>\n",
       "      <th>original_price</th>\n",
       "      <th>phone_no</th>\n",
       "      <th>pin_code</th>\n",
       "      <th>product_id</th>\n",
       "      <th>product_name</th>\n",
       "      <th>quantity</th>\n",
       "      <th>selling_price</th>\n",
       "      <th>sub_category</th>\n",
       "      <th>total_price</th>\n",
       "    </tr>\n",
       "    <tr>\n",
       "      <th>payment_mode</th>\n",
       "      <th></th>\n",
       "      <th></th>\n",
       "      <th></th>\n",
       "      <th></th>\n",
       "      <th></th>\n",
       "      <th></th>\n",
       "      <th></th>\n",
       "      <th></th>\n",
       "      <th></th>\n",
       "      <th></th>\n",
       "      <th></th>\n",
       "      <th></th>\n",
       "      <th></th>\n",
       "      <th></th>\n",
       "      <th></th>\n",
       "      <th></th>\n",
       "      <th></th>\n",
       "      <th></th>\n",
       "    </tr>\n",
       "  </thead>\n",
       "  <tbody>\n",
       "    <tr>\n",
       "      <th>COD</th>\n",
       "      <td>33</td>\n",
       "      <td>33</td>\n",
       "      <td>33</td>\n",
       "      <td>33</td>\n",
       "      <td>33</td>\n",
       "      <td>33</td>\n",
       "      <td>33</td>\n",
       "      <td>33</td>\n",
       "      <td>33</td>\n",
       "      <td>33</td>\n",
       "      <td>33</td>\n",
       "      <td>33</td>\n",
       "      <td>33</td>\n",
       "      <td>33</td>\n",
       "      <td>33</td>\n",
       "      <td>33</td>\n",
       "      <td>33</td>\n",
       "      <td>33</td>\n",
       "    </tr>\n",
       "    <tr>\n",
       "      <th>Online</th>\n",
       "      <td>43</td>\n",
       "      <td>43</td>\n",
       "      <td>43</td>\n",
       "      <td>43</td>\n",
       "      <td>43</td>\n",
       "      <td>43</td>\n",
       "      <td>43</td>\n",
       "      <td>43</td>\n",
       "      <td>43</td>\n",
       "      <td>43</td>\n",
       "      <td>43</td>\n",
       "      <td>43</td>\n",
       "      <td>43</td>\n",
       "      <td>43</td>\n",
       "      <td>43</td>\n",
       "      <td>43</td>\n",
       "      <td>43</td>\n",
       "      <td>43</td>\n",
       "    </tr>\n",
       "  </tbody>\n",
       "</table>\n",
       "</div>"
      ],
      "text/plain": [
       "               count                                                           \\\n",
       "             address category city customer_id customer_name email order_date   \n",
       "payment_mode                                                                    \n",
       "COD               33       33   33          33            33    33         33   \n",
       "Online            43       43   43          43            43    43         43   \n",
       "\n",
       "                                                                     \\\n",
       "             order_id order_status original_price phone_no pin_code   \n",
       "payment_mode                                                          \n",
       "COD                33           33             33       33       33   \n",
       "Online             43           43             43       43       43   \n",
       "\n",
       "                                                                          \\\n",
       "             product_id product_name quantity selling_price sub_category   \n",
       "payment_mode                                                               \n",
       "COD                  33           33       33            33           33   \n",
       "Online               43           43       43            43           43   \n",
       "\n",
       "                          \n",
       "             total_price  \n",
       "payment_mode              \n",
       "COD                   33  \n",
       "Online                43  "
      ]
     },
     "execution_count": 39,
     "metadata": {},
     "output_type": "execute_result"
    }
   ],
   "source": [
    "pd.pivot_table(customer_order_df,index=['payment_mode'],aggfunc=[\"count\"])"
   ]
  },
  {
   "cell_type": "code",
   "execution_count": 40,
   "id": "3f7c650f-beca-4ea8-8bd5-d3ea068c3b9e",
   "metadata": {},
   "outputs": [],
   "source": [
    "customer_order_df['payment_mode'].bfill(inplace=True)"
   ]
  },
  {
   "cell_type": "code",
   "execution_count": 41,
   "id": "c5ba5824-b1b0-4318-ad1d-083277993ce0",
   "metadata": {},
   "outputs": [
    {
     "data": {
      "text/plain": [
       "payment_mode\n",
       "False    79\n",
       "Name: count, dtype: int64"
      ]
     },
     "execution_count": 41,
     "metadata": {},
     "output_type": "execute_result"
    }
   ],
   "source": [
    "customer_order_df['payment_mode'].isnull().value_counts()"
   ]
  },
  {
   "cell_type": "code",
   "execution_count": 42,
   "id": "5cbb03b7-f170-47f5-b778-b7ebb101a4cf",
   "metadata": {},
   "outputs": [
    {
     "data": {
      "text/plain": [
       "3"
      ]
     },
     "execution_count": 42,
     "metadata": {},
     "output_type": "execute_result"
    }
   ],
   "source": [
    "customer_order_df['order_date'].isnull().sum()"
   ]
  },
  {
   "cell_type": "code",
   "execution_count": 43,
   "id": "24a1d9e8-45aa-410b-a6aa-398e97ff634d",
   "metadata": {},
   "outputs": [],
   "source": [
    "customer_order_df['order_date'].bfill(inplace=True)"
   ]
  },
  {
   "cell_type": "code",
   "execution_count": 44,
   "id": "a0704f2c-b37c-40f8-ae3a-2050a5142fa1",
   "metadata": {},
   "outputs": [
    {
     "data": {
      "text/plain": [
       "order_date\n",
       "False    79\n",
       "Name: count, dtype: int64"
      ]
     },
     "execution_count": 44,
     "metadata": {},
     "output_type": "execute_result"
    }
   ],
   "source": [
    "customer_order_df['order_date'].isnull().value_counts()"
   ]
  },
  {
   "cell_type": "code",
   "execution_count": 45,
   "id": "2025cd9e-7577-41ac-be00-63e93ce5f98a",
   "metadata": {},
   "outputs": [
    {
     "data": {
      "text/html": [
       "<div>\n",
       "<style scoped>\n",
       "    .dataframe tbody tr th:only-of-type {\n",
       "        vertical-align: middle;\n",
       "    }\n",
       "\n",
       "    .dataframe tbody tr th {\n",
       "        vertical-align: top;\n",
       "    }\n",
       "\n",
       "    .dataframe thead tr th {\n",
       "        text-align: left;\n",
       "    }\n",
       "\n",
       "    .dataframe thead tr:last-of-type th {\n",
       "        text-align: right;\n",
       "    }\n",
       "</style>\n",
       "<table border=\"1\" class=\"dataframe\">\n",
       "  <thead>\n",
       "    <tr>\n",
       "      <th></th>\n",
       "      <th colspan=\"18\" halign=\"left\">count</th>\n",
       "    </tr>\n",
       "    <tr>\n",
       "      <th></th>\n",
       "      <th>address</th>\n",
       "      <th>category</th>\n",
       "      <th>city</th>\n",
       "      <th>customer_id</th>\n",
       "      <th>customer_name</th>\n",
       "      <th>email</th>\n",
       "      <th>order_date</th>\n",
       "      <th>order_id</th>\n",
       "      <th>original_price</th>\n",
       "      <th>payment_mode</th>\n",
       "      <th>phone_no</th>\n",
       "      <th>pin_code</th>\n",
       "      <th>product_id</th>\n",
       "      <th>product_name</th>\n",
       "      <th>quantity</th>\n",
       "      <th>selling_price</th>\n",
       "      <th>sub_category</th>\n",
       "      <th>total_price</th>\n",
       "    </tr>\n",
       "    <tr>\n",
       "      <th>order_status</th>\n",
       "      <th></th>\n",
       "      <th></th>\n",
       "      <th></th>\n",
       "      <th></th>\n",
       "      <th></th>\n",
       "      <th></th>\n",
       "      <th></th>\n",
       "      <th></th>\n",
       "      <th></th>\n",
       "      <th></th>\n",
       "      <th></th>\n",
       "      <th></th>\n",
       "      <th></th>\n",
       "      <th></th>\n",
       "      <th></th>\n",
       "      <th></th>\n",
       "      <th></th>\n",
       "      <th></th>\n",
       "    </tr>\n",
       "  </thead>\n",
       "  <tbody>\n",
       "    <tr>\n",
       "      <th>Cancelled</th>\n",
       "      <td>6</td>\n",
       "      <td>6</td>\n",
       "      <td>6</td>\n",
       "      <td>6</td>\n",
       "      <td>6</td>\n",
       "      <td>6</td>\n",
       "      <td>6</td>\n",
       "      <td>6</td>\n",
       "      <td>6</td>\n",
       "      <td>6</td>\n",
       "      <td>6</td>\n",
       "      <td>6</td>\n",
       "      <td>6</td>\n",
       "      <td>6</td>\n",
       "      <td>6</td>\n",
       "      <td>6</td>\n",
       "      <td>6</td>\n",
       "      <td>6</td>\n",
       "    </tr>\n",
       "    <tr>\n",
       "      <th>Delivered</th>\n",
       "      <td>27</td>\n",
       "      <td>27</td>\n",
       "      <td>27</td>\n",
       "      <td>27</td>\n",
       "      <td>27</td>\n",
       "      <td>27</td>\n",
       "      <td>27</td>\n",
       "      <td>27</td>\n",
       "      <td>27</td>\n",
       "      <td>27</td>\n",
       "      <td>27</td>\n",
       "      <td>27</td>\n",
       "      <td>27</td>\n",
       "      <td>27</td>\n",
       "      <td>27</td>\n",
       "      <td>27</td>\n",
       "      <td>27</td>\n",
       "      <td>27</td>\n",
       "    </tr>\n",
       "    <tr>\n",
       "      <th>Pending</th>\n",
       "      <td>25</td>\n",
       "      <td>25</td>\n",
       "      <td>25</td>\n",
       "      <td>25</td>\n",
       "      <td>25</td>\n",
       "      <td>25</td>\n",
       "      <td>25</td>\n",
       "      <td>25</td>\n",
       "      <td>25</td>\n",
       "      <td>25</td>\n",
       "      <td>25</td>\n",
       "      <td>25</td>\n",
       "      <td>25</td>\n",
       "      <td>25</td>\n",
       "      <td>25</td>\n",
       "      <td>25</td>\n",
       "      <td>25</td>\n",
       "      <td>25</td>\n",
       "    </tr>\n",
       "    <tr>\n",
       "      <th>Returned</th>\n",
       "      <td>1</td>\n",
       "      <td>1</td>\n",
       "      <td>1</td>\n",
       "      <td>1</td>\n",
       "      <td>1</td>\n",
       "      <td>1</td>\n",
       "      <td>1</td>\n",
       "      <td>1</td>\n",
       "      <td>1</td>\n",
       "      <td>1</td>\n",
       "      <td>1</td>\n",
       "      <td>1</td>\n",
       "      <td>1</td>\n",
       "      <td>1</td>\n",
       "      <td>1</td>\n",
       "      <td>1</td>\n",
       "      <td>1</td>\n",
       "      <td>1</td>\n",
       "    </tr>\n",
       "    <tr>\n",
       "      <th>Shipped</th>\n",
       "      <td>16</td>\n",
       "      <td>16</td>\n",
       "      <td>16</td>\n",
       "      <td>16</td>\n",
       "      <td>16</td>\n",
       "      <td>16</td>\n",
       "      <td>16</td>\n",
       "      <td>16</td>\n",
       "      <td>16</td>\n",
       "      <td>16</td>\n",
       "      <td>16</td>\n",
       "      <td>16</td>\n",
       "      <td>16</td>\n",
       "      <td>16</td>\n",
       "      <td>16</td>\n",
       "      <td>16</td>\n",
       "      <td>16</td>\n",
       "      <td>16</td>\n",
       "    </tr>\n",
       "    <tr>\n",
       "      <th>delivered</th>\n",
       "      <td>1</td>\n",
       "      <td>1</td>\n",
       "      <td>1</td>\n",
       "      <td>1</td>\n",
       "      <td>1</td>\n",
       "      <td>1</td>\n",
       "      <td>1</td>\n",
       "      <td>1</td>\n",
       "      <td>1</td>\n",
       "      <td>1</td>\n",
       "      <td>1</td>\n",
       "      <td>1</td>\n",
       "      <td>1</td>\n",
       "      <td>1</td>\n",
       "      <td>1</td>\n",
       "      <td>1</td>\n",
       "      <td>1</td>\n",
       "      <td>1</td>\n",
       "    </tr>\n",
       "  </tbody>\n",
       "</table>\n",
       "</div>"
      ],
      "text/plain": [
       "               count                                                           \\\n",
       "             address category city customer_id customer_name email order_date   \n",
       "order_status                                                                    \n",
       "Cancelled          6        6    6           6             6     6          6   \n",
       "Delivered         27       27   27          27            27    27         27   \n",
       "Pending           25       25   25          25            25    25         25   \n",
       "Returned           1        1    1           1             1     1          1   \n",
       "Shipped           16       16   16          16            16    16         16   \n",
       "delivered          1        1    1           1             1     1          1   \n",
       "\n",
       "                                                                     \\\n",
       "             order_id original_price payment_mode phone_no pin_code   \n",
       "order_status                                                          \n",
       "Cancelled           6              6            6        6        6   \n",
       "Delivered          27             27           27       27       27   \n",
       "Pending            25             25           25       25       25   \n",
       "Returned            1              1            1        1        1   \n",
       "Shipped            16             16           16       16       16   \n",
       "delivered           1              1            1        1        1   \n",
       "\n",
       "                                                                          \\\n",
       "             product_id product_name quantity selling_price sub_category   \n",
       "order_status                                                               \n",
       "Cancelled             6            6        6             6            6   \n",
       "Delivered            27           27       27            27           27   \n",
       "Pending              25           25       25            25           25   \n",
       "Returned              1            1        1             1            1   \n",
       "Shipped              16           16       16            16           16   \n",
       "delivered             1            1        1             1            1   \n",
       "\n",
       "                          \n",
       "             total_price  \n",
       "order_status              \n",
       "Cancelled              6  \n",
       "Delivered             27  \n",
       "Pending               25  \n",
       "Returned               1  \n",
       "Shipped               16  \n",
       "delivered              1  "
      ]
     },
     "execution_count": 45,
     "metadata": {},
     "output_type": "execute_result"
    }
   ],
   "source": [
    "pd.pivot_table(customer_order_df,index=['order_status'],aggfunc=['count'])"
   ]
  },
  {
   "cell_type": "code",
   "execution_count": 46,
   "id": "0c5059b9-84d1-4857-8653-92a812842b5b",
   "metadata": {},
   "outputs": [
    {
     "data": {
      "text/plain": [
       "order_status\n",
       "False    76\n",
       "True      3\n",
       "Name: count, dtype: int64"
      ]
     },
     "execution_count": 46,
     "metadata": {},
     "output_type": "execute_result"
    }
   ],
   "source": [
    "customer_order_df['order_status'].isnull().value_counts()"
   ]
  },
  {
   "cell_type": "code",
   "execution_count": 47,
   "id": "86332f69-ea3a-459a-8083-ea7f566cb6a9",
   "metadata": {},
   "outputs": [],
   "source": [
    "customer_order_df['order_status'].bfill(inplace=True)"
   ]
  },
  {
   "cell_type": "code",
   "execution_count": 48,
   "id": "b1b9fca1-e58f-43c4-9cc9-3bf959c73a7f",
   "metadata": {},
   "outputs": [
    {
     "data": {
      "text/plain": [
       "order_status\n",
       "False    79\n",
       "Name: count, dtype: int64"
      ]
     },
     "execution_count": 48,
     "metadata": {},
     "output_type": "execute_result"
    }
   ],
   "source": [
    "customer_order_df['order_status'].isnull().value_counts()"
   ]
  },
  {
   "cell_type": "code",
   "execution_count": 49,
   "id": "a8fbbf2d-8eba-414b-a7eb-965ef65680c9",
   "metadata": {},
   "outputs": [
    {
     "data": {
      "text/plain": [
       "product_name\n",
       "False    76\n",
       "True      3\n",
       "Name: count, dtype: int64"
      ]
     },
     "execution_count": 49,
     "metadata": {},
     "output_type": "execute_result"
    }
   ],
   "source": [
    "customer_order_df['product_name'].isnull().value_counts()"
   ]
  },
  {
   "cell_type": "code",
   "execution_count": 50,
   "id": "54b701ef-5612-4b0e-87a2-04b91a08c2e1",
   "metadata": {},
   "outputs": [
    {
     "name": "stdout",
     "output_type": "stream",
     "text": [
      "object\n"
     ]
    }
   ],
   "source": [
    "print(customer_order_df['product_name'].dtype)"
   ]
  },
  {
   "cell_type": "code",
   "execution_count": 51,
   "id": "c2693ece-db8f-4df2-921d-e597f4c8a61e",
   "metadata": {},
   "outputs": [],
   "source": [
    "customer_order_df['product_name'].fillna(value='Unknown Product',inplace=True)"
   ]
  },
  {
   "cell_type": "code",
   "execution_count": 52,
   "id": "9395b48f-0f39-4e04-a703-28a3cc789b9b",
   "metadata": {},
   "outputs": [
    {
     "data": {
      "text/plain": [
       "product_name\n",
       "False    79\n",
       "Name: count, dtype: int64"
      ]
     },
     "execution_count": 52,
     "metadata": {},
     "output_type": "execute_result"
    }
   ],
   "source": [
    "customer_order_df['product_name'].isnull().value_counts()"
   ]
  },
  {
   "cell_type": "code",
   "execution_count": 53,
   "id": "3df5ae66-2aca-444a-8ced-af0376aa2c6a",
   "metadata": {},
   "outputs": [
    {
     "data": {
      "text/plain": [
       "category\n",
       "False    76\n",
       "True      3\n",
       "Name: count, dtype: int64"
      ]
     },
     "execution_count": 53,
     "metadata": {},
     "output_type": "execute_result"
    }
   ],
   "source": [
    "customer_order_df['category'].isnull().value_counts()"
   ]
  },
  {
   "cell_type": "code",
   "execution_count": 54,
   "id": "532e63ba-134e-4de3-9802-379be2b720e5",
   "metadata": {},
   "outputs": [
    {
     "data": {
      "text/plain": [
       "dtype('O')"
      ]
     },
     "execution_count": 54,
     "metadata": {},
     "output_type": "execute_result"
    }
   ],
   "source": [
    "customer_order_df['category'].dtype"
   ]
  },
  {
   "cell_type": "code",
   "execution_count": 55,
   "id": "94ed15aa-3829-422a-8314-949c1a4ac51d",
   "metadata": {},
   "outputs": [
    {
     "data": {
      "text/html": [
       "<div>\n",
       "<style scoped>\n",
       "    .dataframe tbody tr th:only-of-type {\n",
       "        vertical-align: middle;\n",
       "    }\n",
       "\n",
       "    .dataframe tbody tr th {\n",
       "        vertical-align: top;\n",
       "    }\n",
       "\n",
       "    .dataframe thead th {\n",
       "        text-align: right;\n",
       "    }\n",
       "</style>\n",
       "<table border=\"1\" class=\"dataframe\">\n",
       "  <thead>\n",
       "    <tr style=\"text-align: right;\">\n",
       "      <th></th>\n",
       "      <th>address</th>\n",
       "      <th>city</th>\n",
       "      <th>customer_id</th>\n",
       "      <th>customer_name</th>\n",
       "      <th>email</th>\n",
       "      <th>order_date</th>\n",
       "      <th>order_id</th>\n",
       "      <th>order_status</th>\n",
       "      <th>original_price</th>\n",
       "      <th>payment_mode</th>\n",
       "      <th>phone_no</th>\n",
       "      <th>pin_code</th>\n",
       "      <th>product_id</th>\n",
       "      <th>product_name</th>\n",
       "      <th>quantity</th>\n",
       "      <th>selling_price</th>\n",
       "      <th>sub_category</th>\n",
       "      <th>total_price</th>\n",
       "    </tr>\n",
       "    <tr>\n",
       "      <th>category</th>\n",
       "      <th></th>\n",
       "      <th></th>\n",
       "      <th></th>\n",
       "      <th></th>\n",
       "      <th></th>\n",
       "      <th></th>\n",
       "      <th></th>\n",
       "      <th></th>\n",
       "      <th></th>\n",
       "      <th></th>\n",
       "      <th></th>\n",
       "      <th></th>\n",
       "      <th></th>\n",
       "      <th></th>\n",
       "      <th></th>\n",
       "      <th></th>\n",
       "      <th></th>\n",
       "      <th></th>\n",
       "    </tr>\n",
       "  </thead>\n",
       "  <tbody>\n",
       "    <tr>\n",
       "      <th>Appliance</th>\n",
       "      <td>27</td>\n",
       "      <td>27</td>\n",
       "      <td>27</td>\n",
       "      <td>27</td>\n",
       "      <td>27</td>\n",
       "      <td>27</td>\n",
       "      <td>27</td>\n",
       "      <td>27</td>\n",
       "      <td>27</td>\n",
       "      <td>27</td>\n",
       "      <td>27</td>\n",
       "      <td>27</td>\n",
       "      <td>27</td>\n",
       "      <td>27</td>\n",
       "      <td>27</td>\n",
       "      <td>27</td>\n",
       "      <td>27</td>\n",
       "      <td>27</td>\n",
       "    </tr>\n",
       "    <tr>\n",
       "      <th>Electronics</th>\n",
       "      <td>34</td>\n",
       "      <td>34</td>\n",
       "      <td>34</td>\n",
       "      <td>34</td>\n",
       "      <td>34</td>\n",
       "      <td>34</td>\n",
       "      <td>34</td>\n",
       "      <td>34</td>\n",
       "      <td>34</td>\n",
       "      <td>34</td>\n",
       "      <td>34</td>\n",
       "      <td>34</td>\n",
       "      <td>34</td>\n",
       "      <td>34</td>\n",
       "      <td>34</td>\n",
       "      <td>34</td>\n",
       "      <td>34</td>\n",
       "      <td>34</td>\n",
       "    </tr>\n",
       "    <tr>\n",
       "      <th>Furniture</th>\n",
       "      <td>12</td>\n",
       "      <td>12</td>\n",
       "      <td>12</td>\n",
       "      <td>12</td>\n",
       "      <td>12</td>\n",
       "      <td>12</td>\n",
       "      <td>12</td>\n",
       "      <td>12</td>\n",
       "      <td>12</td>\n",
       "      <td>12</td>\n",
       "      <td>12</td>\n",
       "      <td>12</td>\n",
       "      <td>12</td>\n",
       "      <td>12</td>\n",
       "      <td>12</td>\n",
       "      <td>12</td>\n",
       "      <td>12</td>\n",
       "      <td>12</td>\n",
       "    </tr>\n",
       "    <tr>\n",
       "      <th>furniture</th>\n",
       "      <td>3</td>\n",
       "      <td>3</td>\n",
       "      <td>3</td>\n",
       "      <td>3</td>\n",
       "      <td>3</td>\n",
       "      <td>3</td>\n",
       "      <td>3</td>\n",
       "      <td>3</td>\n",
       "      <td>3</td>\n",
       "      <td>3</td>\n",
       "      <td>3</td>\n",
       "      <td>3</td>\n",
       "      <td>3</td>\n",
       "      <td>3</td>\n",
       "      <td>3</td>\n",
       "      <td>3</td>\n",
       "      <td>3</td>\n",
       "      <td>3</td>\n",
       "    </tr>\n",
       "  </tbody>\n",
       "</table>\n",
       "</div>"
      ],
      "text/plain": [
       "             address  city  customer_id  customer_name  email  order_date  \\\n",
       "category                                                                    \n",
       "Appliance         27    27           27             27     27          27   \n",
       "Electronics       34    34           34             34     34          34   \n",
       "Furniture         12    12           12             12     12          12   \n",
       "furniture          3     3            3              3      3           3   \n",
       "\n",
       "             order_id  order_status  original_price  payment_mode  phone_no  \\\n",
       "category                                                                      \n",
       "Appliance          27            27              27            27        27   \n",
       "Electronics        34            34              34            34        34   \n",
       "Furniture          12            12              12            12        12   \n",
       "furniture           3             3               3             3         3   \n",
       "\n",
       "             pin_code  product_id  product_name  quantity  selling_price  \\\n",
       "category                                                                   \n",
       "Appliance          27          27            27        27             27   \n",
       "Electronics        34          34            34        34             34   \n",
       "Furniture          12          12            12        12             12   \n",
       "furniture           3           3             3         3              3   \n",
       "\n",
       "             sub_category  total_price  \n",
       "category                                \n",
       "Appliance              27           27  \n",
       "Electronics            34           34  \n",
       "Furniture              12           12  \n",
       "furniture               3            3  "
      ]
     },
     "execution_count": 55,
     "metadata": {},
     "output_type": "execute_result"
    }
   ],
   "source": [
    "pd.pivot_table(customer_order_df,index=['category'],aggfunc='count')"
   ]
  },
  {
   "cell_type": "code",
   "execution_count": 56,
   "id": "f4d4f357-1a2a-446e-923c-9bef364bb1e5",
   "metadata": {},
   "outputs": [],
   "source": [
    "customer_order_df['category'].fillna(value='Unknown',inplace=True)"
   ]
  },
  {
   "cell_type": "code",
   "execution_count": 57,
   "id": "355e07fd-b268-4990-b1e0-04d2a24207e9",
   "metadata": {},
   "outputs": [
    {
     "data": {
      "text/html": [
       "<div>\n",
       "<style scoped>\n",
       "    .dataframe tbody tr th:only-of-type {\n",
       "        vertical-align: middle;\n",
       "    }\n",
       "\n",
       "    .dataframe tbody tr th {\n",
       "        vertical-align: top;\n",
       "    }\n",
       "\n",
       "    .dataframe thead th {\n",
       "        text-align: right;\n",
       "    }\n",
       "</style>\n",
       "<table border=\"1\" class=\"dataframe\">\n",
       "  <thead>\n",
       "    <tr style=\"text-align: right;\">\n",
       "      <th></th>\n",
       "      <th>address</th>\n",
       "      <th>city</th>\n",
       "      <th>customer_id</th>\n",
       "      <th>customer_name</th>\n",
       "      <th>email</th>\n",
       "      <th>order_date</th>\n",
       "      <th>order_id</th>\n",
       "      <th>order_status</th>\n",
       "      <th>original_price</th>\n",
       "      <th>payment_mode</th>\n",
       "      <th>phone_no</th>\n",
       "      <th>pin_code</th>\n",
       "      <th>product_id</th>\n",
       "      <th>product_name</th>\n",
       "      <th>quantity</th>\n",
       "      <th>selling_price</th>\n",
       "      <th>sub_category</th>\n",
       "      <th>total_price</th>\n",
       "    </tr>\n",
       "    <tr>\n",
       "      <th>category</th>\n",
       "      <th></th>\n",
       "      <th></th>\n",
       "      <th></th>\n",
       "      <th></th>\n",
       "      <th></th>\n",
       "      <th></th>\n",
       "      <th></th>\n",
       "      <th></th>\n",
       "      <th></th>\n",
       "      <th></th>\n",
       "      <th></th>\n",
       "      <th></th>\n",
       "      <th></th>\n",
       "      <th></th>\n",
       "      <th></th>\n",
       "      <th></th>\n",
       "      <th></th>\n",
       "      <th></th>\n",
       "    </tr>\n",
       "  </thead>\n",
       "  <tbody>\n",
       "    <tr>\n",
       "      <th>Appliance</th>\n",
       "      <td>27</td>\n",
       "      <td>27</td>\n",
       "      <td>27</td>\n",
       "      <td>27</td>\n",
       "      <td>27</td>\n",
       "      <td>27</td>\n",
       "      <td>27</td>\n",
       "      <td>27</td>\n",
       "      <td>27</td>\n",
       "      <td>27</td>\n",
       "      <td>27</td>\n",
       "      <td>27</td>\n",
       "      <td>27</td>\n",
       "      <td>27</td>\n",
       "      <td>27</td>\n",
       "      <td>27</td>\n",
       "      <td>27</td>\n",
       "      <td>27</td>\n",
       "    </tr>\n",
       "    <tr>\n",
       "      <th>Electronics</th>\n",
       "      <td>34</td>\n",
       "      <td>34</td>\n",
       "      <td>34</td>\n",
       "      <td>34</td>\n",
       "      <td>34</td>\n",
       "      <td>34</td>\n",
       "      <td>34</td>\n",
       "      <td>34</td>\n",
       "      <td>34</td>\n",
       "      <td>34</td>\n",
       "      <td>34</td>\n",
       "      <td>34</td>\n",
       "      <td>34</td>\n",
       "      <td>34</td>\n",
       "      <td>34</td>\n",
       "      <td>34</td>\n",
       "      <td>34</td>\n",
       "      <td>34</td>\n",
       "    </tr>\n",
       "    <tr>\n",
       "      <th>Furniture</th>\n",
       "      <td>12</td>\n",
       "      <td>12</td>\n",
       "      <td>12</td>\n",
       "      <td>12</td>\n",
       "      <td>12</td>\n",
       "      <td>12</td>\n",
       "      <td>12</td>\n",
       "      <td>12</td>\n",
       "      <td>12</td>\n",
       "      <td>12</td>\n",
       "      <td>12</td>\n",
       "      <td>12</td>\n",
       "      <td>12</td>\n",
       "      <td>12</td>\n",
       "      <td>12</td>\n",
       "      <td>12</td>\n",
       "      <td>12</td>\n",
       "      <td>12</td>\n",
       "    </tr>\n",
       "    <tr>\n",
       "      <th>Unknown</th>\n",
       "      <td>3</td>\n",
       "      <td>3</td>\n",
       "      <td>3</td>\n",
       "      <td>3</td>\n",
       "      <td>3</td>\n",
       "      <td>3</td>\n",
       "      <td>3</td>\n",
       "      <td>3</td>\n",
       "      <td>0</td>\n",
       "      <td>3</td>\n",
       "      <td>3</td>\n",
       "      <td>3</td>\n",
       "      <td>3</td>\n",
       "      <td>3</td>\n",
       "      <td>3</td>\n",
       "      <td>0</td>\n",
       "      <td>0</td>\n",
       "      <td>3</td>\n",
       "    </tr>\n",
       "    <tr>\n",
       "      <th>furniture</th>\n",
       "      <td>3</td>\n",
       "      <td>3</td>\n",
       "      <td>3</td>\n",
       "      <td>3</td>\n",
       "      <td>3</td>\n",
       "      <td>3</td>\n",
       "      <td>3</td>\n",
       "      <td>3</td>\n",
       "      <td>3</td>\n",
       "      <td>3</td>\n",
       "      <td>3</td>\n",
       "      <td>3</td>\n",
       "      <td>3</td>\n",
       "      <td>3</td>\n",
       "      <td>3</td>\n",
       "      <td>3</td>\n",
       "      <td>3</td>\n",
       "      <td>3</td>\n",
       "    </tr>\n",
       "  </tbody>\n",
       "</table>\n",
       "</div>"
      ],
      "text/plain": [
       "             address  city  customer_id  customer_name  email  order_date  \\\n",
       "category                                                                    \n",
       "Appliance         27    27           27             27     27          27   \n",
       "Electronics       34    34           34             34     34          34   \n",
       "Furniture         12    12           12             12     12          12   \n",
       "Unknown            3     3            3              3      3           3   \n",
       "furniture          3     3            3              3      3           3   \n",
       "\n",
       "             order_id  order_status  original_price  payment_mode  phone_no  \\\n",
       "category                                                                      \n",
       "Appliance          27            27              27            27        27   \n",
       "Electronics        34            34              34            34        34   \n",
       "Furniture          12            12              12            12        12   \n",
       "Unknown             3             3               0             3         3   \n",
       "furniture           3             3               3             3         3   \n",
       "\n",
       "             pin_code  product_id  product_name  quantity  selling_price  \\\n",
       "category                                                                   \n",
       "Appliance          27          27            27        27             27   \n",
       "Electronics        34          34            34        34             34   \n",
       "Furniture          12          12            12        12             12   \n",
       "Unknown             3           3             3         3              0   \n",
       "furniture           3           3             3         3              3   \n",
       "\n",
       "             sub_category  total_price  \n",
       "category                                \n",
       "Appliance              27           27  \n",
       "Electronics            34           34  \n",
       "Furniture              12           12  \n",
       "Unknown                 0            3  \n",
       "furniture               3            3  "
      ]
     },
     "execution_count": 57,
     "metadata": {},
     "output_type": "execute_result"
    }
   ],
   "source": [
    "pd.pivot_table(customer_order_df,index=['category'],aggfunc='count')"
   ]
  },
  {
   "cell_type": "code",
   "execution_count": 58,
   "id": "cbd82bad-cf7f-4d10-839f-363f79c0c432",
   "metadata": {},
   "outputs": [],
   "source": [
    "customer_order_df['category'] = customer_order_df['category'].replace('furniture','Furniture')"
   ]
  },
  {
   "cell_type": "code",
   "execution_count": 59,
   "id": "936e4ff1-179d-48dc-83f2-7531fe877363",
   "metadata": {},
   "outputs": [
    {
     "data": {
      "text/html": [
       "<div>\n",
       "<style scoped>\n",
       "    .dataframe tbody tr th:only-of-type {\n",
       "        vertical-align: middle;\n",
       "    }\n",
       "\n",
       "    .dataframe tbody tr th {\n",
       "        vertical-align: top;\n",
       "    }\n",
       "\n",
       "    .dataframe thead th {\n",
       "        text-align: right;\n",
       "    }\n",
       "</style>\n",
       "<table border=\"1\" class=\"dataframe\">\n",
       "  <thead>\n",
       "    <tr style=\"text-align: right;\">\n",
       "      <th></th>\n",
       "      <th>address</th>\n",
       "      <th>city</th>\n",
       "      <th>customer_id</th>\n",
       "      <th>customer_name</th>\n",
       "      <th>email</th>\n",
       "      <th>order_date</th>\n",
       "      <th>order_id</th>\n",
       "      <th>order_status</th>\n",
       "      <th>original_price</th>\n",
       "      <th>payment_mode</th>\n",
       "      <th>phone_no</th>\n",
       "      <th>pin_code</th>\n",
       "      <th>product_id</th>\n",
       "      <th>product_name</th>\n",
       "      <th>quantity</th>\n",
       "      <th>selling_price</th>\n",
       "      <th>sub_category</th>\n",
       "      <th>total_price</th>\n",
       "    </tr>\n",
       "    <tr>\n",
       "      <th>category</th>\n",
       "      <th></th>\n",
       "      <th></th>\n",
       "      <th></th>\n",
       "      <th></th>\n",
       "      <th></th>\n",
       "      <th></th>\n",
       "      <th></th>\n",
       "      <th></th>\n",
       "      <th></th>\n",
       "      <th></th>\n",
       "      <th></th>\n",
       "      <th></th>\n",
       "      <th></th>\n",
       "      <th></th>\n",
       "      <th></th>\n",
       "      <th></th>\n",
       "      <th></th>\n",
       "      <th></th>\n",
       "    </tr>\n",
       "  </thead>\n",
       "  <tbody>\n",
       "    <tr>\n",
       "      <th>Appliance</th>\n",
       "      <td>27</td>\n",
       "      <td>27</td>\n",
       "      <td>27</td>\n",
       "      <td>27</td>\n",
       "      <td>27</td>\n",
       "      <td>27</td>\n",
       "      <td>27</td>\n",
       "      <td>27</td>\n",
       "      <td>27</td>\n",
       "      <td>27</td>\n",
       "      <td>27</td>\n",
       "      <td>27</td>\n",
       "      <td>27</td>\n",
       "      <td>27</td>\n",
       "      <td>27</td>\n",
       "      <td>27</td>\n",
       "      <td>27</td>\n",
       "      <td>27</td>\n",
       "    </tr>\n",
       "    <tr>\n",
       "      <th>Electronics</th>\n",
       "      <td>34</td>\n",
       "      <td>34</td>\n",
       "      <td>34</td>\n",
       "      <td>34</td>\n",
       "      <td>34</td>\n",
       "      <td>34</td>\n",
       "      <td>34</td>\n",
       "      <td>34</td>\n",
       "      <td>34</td>\n",
       "      <td>34</td>\n",
       "      <td>34</td>\n",
       "      <td>34</td>\n",
       "      <td>34</td>\n",
       "      <td>34</td>\n",
       "      <td>34</td>\n",
       "      <td>34</td>\n",
       "      <td>34</td>\n",
       "      <td>34</td>\n",
       "    </tr>\n",
       "    <tr>\n",
       "      <th>Furniture</th>\n",
       "      <td>15</td>\n",
       "      <td>15</td>\n",
       "      <td>15</td>\n",
       "      <td>15</td>\n",
       "      <td>15</td>\n",
       "      <td>15</td>\n",
       "      <td>15</td>\n",
       "      <td>15</td>\n",
       "      <td>15</td>\n",
       "      <td>15</td>\n",
       "      <td>15</td>\n",
       "      <td>15</td>\n",
       "      <td>15</td>\n",
       "      <td>15</td>\n",
       "      <td>15</td>\n",
       "      <td>15</td>\n",
       "      <td>15</td>\n",
       "      <td>15</td>\n",
       "    </tr>\n",
       "    <tr>\n",
       "      <th>Unknown</th>\n",
       "      <td>3</td>\n",
       "      <td>3</td>\n",
       "      <td>3</td>\n",
       "      <td>3</td>\n",
       "      <td>3</td>\n",
       "      <td>3</td>\n",
       "      <td>3</td>\n",
       "      <td>3</td>\n",
       "      <td>0</td>\n",
       "      <td>3</td>\n",
       "      <td>3</td>\n",
       "      <td>3</td>\n",
       "      <td>3</td>\n",
       "      <td>3</td>\n",
       "      <td>3</td>\n",
       "      <td>0</td>\n",
       "      <td>0</td>\n",
       "      <td>3</td>\n",
       "    </tr>\n",
       "  </tbody>\n",
       "</table>\n",
       "</div>"
      ],
      "text/plain": [
       "             address  city  customer_id  customer_name  email  order_date  \\\n",
       "category                                                                    \n",
       "Appliance         27    27           27             27     27          27   \n",
       "Electronics       34    34           34             34     34          34   \n",
       "Furniture         15    15           15             15     15          15   \n",
       "Unknown            3     3            3              3      3           3   \n",
       "\n",
       "             order_id  order_status  original_price  payment_mode  phone_no  \\\n",
       "category                                                                      \n",
       "Appliance          27            27              27            27        27   \n",
       "Electronics        34            34              34            34        34   \n",
       "Furniture          15            15              15            15        15   \n",
       "Unknown             3             3               0             3         3   \n",
       "\n",
       "             pin_code  product_id  product_name  quantity  selling_price  \\\n",
       "category                                                                   \n",
       "Appliance          27          27            27        27             27   \n",
       "Electronics        34          34            34        34             34   \n",
       "Furniture          15          15            15        15             15   \n",
       "Unknown             3           3             3         3              0   \n",
       "\n",
       "             sub_category  total_price  \n",
       "category                                \n",
       "Appliance              27           27  \n",
       "Electronics            34           34  \n",
       "Furniture              15           15  \n",
       "Unknown                 0            3  "
      ]
     },
     "execution_count": 59,
     "metadata": {},
     "output_type": "execute_result"
    }
   ],
   "source": [
    "pd.pivot_table(customer_order_df,index=['category'],aggfunc='count')"
   ]
  },
  {
   "cell_type": "code",
   "execution_count": 60,
   "id": "d2c173cd-efeb-443e-9b94-64615faff2be",
   "metadata": {},
   "outputs": [
    {
     "data": {
      "text/plain": [
       "category\n",
       "False    79\n",
       "Name: count, dtype: int64"
      ]
     },
     "execution_count": 60,
     "metadata": {},
     "output_type": "execute_result"
    }
   ],
   "source": [
    "customer_order_df['category'].isnull().value_counts()"
   ]
  },
  {
   "cell_type": "code",
   "execution_count": 61,
   "id": "77094aa8-6881-4c45-931c-d256d51ed006",
   "metadata": {},
   "outputs": [
    {
     "data": {
      "text/plain": [
       "sub_category\n",
       "False    76\n",
       "True      3\n",
       "Name: count, dtype: int64"
      ]
     },
     "execution_count": 61,
     "metadata": {},
     "output_type": "execute_result"
    }
   ],
   "source": [
    "customer_order_df['sub_category'].isnull().value_counts()"
   ]
  },
  {
   "cell_type": "code",
   "execution_count": 62,
   "id": "7fdf1016-a1e5-4575-bed8-8993c75afd5f",
   "metadata": {},
   "outputs": [
    {
     "name": "stdout",
     "output_type": "stream",
     "text": [
      "object\n"
     ]
    }
   ],
   "source": [
    "print(customer_order_df['sub_category'].dtype)"
   ]
  },
  {
   "cell_type": "code",
   "execution_count": 63,
   "id": "23dbd548-fd47-4ca4-879e-facb7f2ea609",
   "metadata": {},
   "outputs": [],
   "source": [
    "customer_order_df['sub_category'].fillna(value='Not Mention',inplace=True)"
   ]
  },
  {
   "cell_type": "code",
   "execution_count": 64,
   "id": "c6e57c09-67c0-4a0c-88a1-793df1f5f02e",
   "metadata": {},
   "outputs": [
    {
     "data": {
      "text/plain": [
       "sub_category\n",
       "False    79\n",
       "Name: count, dtype: int64"
      ]
     },
     "execution_count": 64,
     "metadata": {},
     "output_type": "execute_result"
    }
   ],
   "source": [
    "customer_order_df['sub_category'].isnull().value_counts()"
   ]
  },
  {
   "cell_type": "code",
   "execution_count": 65,
   "id": "7837278e-cea9-4077-af79-becacc29aabc",
   "metadata": {},
   "outputs": [],
   "source": [
    "customer_order_df['original_price'].fillna(customer_order_df['original_price'].mean(),inplace=True)"
   ]
  },
  {
   "cell_type": "code",
   "execution_count": 66,
   "id": "a3439f74-f4cf-4e09-9ab5-f68b93a2e255",
   "metadata": {},
   "outputs": [
    {
     "data": {
      "text/plain": [
       "original_price\n",
       "False    79\n",
       "Name: count, dtype: int64"
      ]
     },
     "execution_count": 66,
     "metadata": {},
     "output_type": "execute_result"
    }
   ],
   "source": [
    "customer_order_df['original_price'].isnull().value_counts()"
   ]
  },
  {
   "cell_type": "code",
   "execution_count": 67,
   "id": "5e46d53f-3e41-40bb-951b-c93a9908d9d7",
   "metadata": {},
   "outputs": [],
   "source": [
    "customer_order_df['selling_price'].fillna(customer_order_df['selling_price'].mean(),inplace=True)"
   ]
  },
  {
   "cell_type": "code",
   "execution_count": 68,
   "id": "3eae159b-14f1-4310-b1e7-49fb7f038598",
   "metadata": {},
   "outputs": [
    {
     "data": {
      "text/plain": [
       "selling_price\n",
       "False    79\n",
       "Name: count, dtype: int64"
      ]
     },
     "execution_count": 68,
     "metadata": {},
     "output_type": "execute_result"
    }
   ],
   "source": [
    "customer_order_df['selling_price'].isnull().value_counts()"
   ]
  },
  {
   "cell_type": "code",
   "execution_count": 69,
   "id": "8857166c-61a7-479d-a989-871932f7f521",
   "metadata": {},
   "outputs": [
    {
     "name": "stdout",
     "output_type": "stream",
     "text": [
      "<class 'pandas.core.frame.DataFrame'>\n",
      "RangeIndex: 79 entries, 0 to 78\n",
      "Data columns (total 19 columns):\n",
      " #   Column          Non-Null Count  Dtype         \n",
      "---  ------          --------------  -----         \n",
      " 0   customer_id     79 non-null     object        \n",
      " 1   customer_name   79 non-null     object        \n",
      " 2   city            79 non-null     object        \n",
      " 3   email           79 non-null     object        \n",
      " 4   phone_no        79 non-null     object        \n",
      " 5   address         79 non-null     object        \n",
      " 6   pin_code        79 non-null     int64         \n",
      " 7   order_id        79 non-null     float64       \n",
      " 8   product_id      79 non-null     object        \n",
      " 9   quantity        79 non-null     float64       \n",
      " 10  total_price     79 non-null     float64       \n",
      " 11  payment_mode    79 non-null     object        \n",
      " 12  order_date      79 non-null     datetime64[ns]\n",
      " 13  order_status    79 non-null     object        \n",
      " 14  product_name    79 non-null     object        \n",
      " 15  category        79 non-null     object        \n",
      " 16  sub_category    79 non-null     object        \n",
      " 17  original_price  79 non-null     float64       \n",
      " 18  selling_price   79 non-null     float64       \n",
      "dtypes: datetime64[ns](1), float64(5), int64(1), object(12)\n",
      "memory usage: 11.9+ KB\n"
     ]
    }
   ],
   "source": [
    "customer_order_df.info()"
   ]
  },
  {
   "cell_type": "markdown",
   "id": "f3b7d7e0-8e22-4aa2-9dcc-40f75a360279",
   "metadata": {},
   "source": [
    "<h1>Exploratory Data Analysis (EDA) and Visualization :</h1>"
   ]
  },
  {
   "cell_type": "markdown",
   "id": "f5c5ce08-b829-43f8-9399-7d43a25a9877",
   "metadata": {},
   "source": [
    "<h2>Customer Analysis :</h2>"
   ]
  },
  {
   "cell_type": "markdown",
   "id": "1f061263-eee7-46bb-9469-43a5966f5fc4",
   "metadata": {},
   "source": [
    "**1.Identify the total number of customers City wise.**"
   ]
  },
  {
   "cell_type": "code",
   "execution_count": 70,
   "id": "4c17693b-fba2-4061-9a1c-65fe534e52fd",
   "metadata": {},
   "outputs": [
    {
     "data": {
      "text/html": [
       "<div>\n",
       "<style scoped>\n",
       "    .dataframe tbody tr th:only-of-type {\n",
       "        vertical-align: middle;\n",
       "    }\n",
       "\n",
       "    .dataframe tbody tr th {\n",
       "        vertical-align: top;\n",
       "    }\n",
       "\n",
       "    .dataframe thead th {\n",
       "        text-align: right;\n",
       "    }\n",
       "</style>\n",
       "<table border=\"1\" class=\"dataframe\">\n",
       "  <thead>\n",
       "    <tr style=\"text-align: right;\">\n",
       "      <th></th>\n",
       "      <th>customer_id</th>\n",
       "      <th>name</th>\n",
       "      <th>city</th>\n",
       "      <th>email</th>\n",
       "      <th>phone_no</th>\n",
       "      <th>address</th>\n",
       "      <th>pin_code</th>\n",
       "    </tr>\n",
       "  </thead>\n",
       "  <tbody>\n",
       "    <tr>\n",
       "      <th>0</th>\n",
       "      <td>C1001</td>\n",
       "      <td>Steve</td>\n",
       "      <td>Tokyo</td>\n",
       "      <td>steve@gmail.com</td>\n",
       "      <td>4567897652</td>\n",
       "      <td>f.g.road</td>\n",
       "      <td>99</td>\n",
       "    </tr>\n",
       "    <tr>\n",
       "      <th>1</th>\n",
       "      <td>C1002</td>\n",
       "      <td>john</td>\n",
       "      <td>Sydney</td>\n",
       "      <td>john@gmail.com</td>\n",
       "      <td>9987234567</td>\n",
       "      <td>k.c.road</td>\n",
       "      <td>75001</td>\n",
       "    </tr>\n",
       "    <tr>\n",
       "      <th>2</th>\n",
       "      <td>C1003</td>\n",
       "      <td>Peter</td>\n",
       "      <td>Kanagawa</td>\n",
       "      <td>peter.parker@mail.com</td>\n",
       "      <td>9969834567</td>\n",
       "      <td>2F Ikenobecho</td>\n",
       "      <td>171</td>\n",
       "    </tr>\n",
       "    <tr>\n",
       "      <th>3</th>\n",
       "      <td>C1004</td>\n",
       "      <td>Jackson</td>\n",
       "      <td>Tokyo</td>\n",
       "      <td>Jackson@gmail.com</td>\n",
       "      <td>7765834567</td>\n",
       "      <td>24-2, Sendagaya</td>\n",
       "      <td>8429</td>\n",
       "    </tr>\n",
       "    <tr>\n",
       "      <th>4</th>\n",
       "      <td>C1005</td>\n",
       "      <td>Jack</td>\n",
       "      <td>Lake Buena Vista</td>\n",
       "      <td>Jack@gmail.com</td>\n",
       "      <td>8876345678</td>\n",
       "      <td>1520 E Buena Vista Drive</td>\n",
       "      <td>32830</td>\n",
       "    </tr>\n",
       "  </tbody>\n",
       "</table>\n",
       "</div>"
      ],
      "text/plain": [
       "  customer_id     name              city                  email    phone_no  \\\n",
       "0       C1001    Steve             Tokyo        steve@gmail.com  4567897652   \n",
       "1       C1002     john            Sydney         john@gmail.com  9987234567   \n",
       "2       C1003    Peter          Kanagawa  peter.parker@mail.com  9969834567   \n",
       "3       C1004  Jackson             Tokyo      Jackson@gmail.com  7765834567   \n",
       "4       C1005     Jack  Lake Buena Vista         Jack@gmail.com  8876345678   \n",
       "\n",
       "                    address  pin_code  \n",
       "0                  f.g.road        99  \n",
       "1                  k.c.road     75001  \n",
       "2             2F Ikenobecho       171  \n",
       "3           24-2, Sendagaya      8429  \n",
       "4  1520 E Buena Vista Drive     32830  "
      ]
     },
     "execution_count": 70,
     "metadata": {},
     "output_type": "execute_result"
    }
   ],
   "source": [
    "customer_df.head()"
   ]
  },
  {
   "cell_type": "code",
   "execution_count": 71,
   "id": "bdb0c98c-e763-4109-8936-0551963883f5",
   "metadata": {},
   "outputs": [
    {
     "data": {
      "text/html": [
       "<div>\n",
       "<style scoped>\n",
       "    .dataframe tbody tr th:only-of-type {\n",
       "        vertical-align: middle;\n",
       "    }\n",
       "\n",
       "    .dataframe tbody tr th {\n",
       "        vertical-align: top;\n",
       "    }\n",
       "\n",
       "    .dataframe thead th {\n",
       "        text-align: right;\n",
       "    }\n",
       "</style>\n",
       "<table border=\"1\" class=\"dataframe\">\n",
       "  <thead>\n",
       "    <tr style=\"text-align: right;\">\n",
       "      <th></th>\n",
       "      <th>customer_id</th>\n",
       "      <th>name</th>\n",
       "      <th>city</th>\n",
       "      <th>email</th>\n",
       "      <th>phone_no</th>\n",
       "      <th>address</th>\n",
       "    </tr>\n",
       "  </thead>\n",
       "  <tbody>\n",
       "    <tr>\n",
       "      <th>count</th>\n",
       "      <td>62</td>\n",
       "      <td>62</td>\n",
       "      <td>62</td>\n",
       "      <td>62</td>\n",
       "      <td>62</td>\n",
       "      <td>62</td>\n",
       "    </tr>\n",
       "    <tr>\n",
       "      <th>unique</th>\n",
       "      <td>62</td>\n",
       "      <td>39</td>\n",
       "      <td>4</td>\n",
       "      <td>52</td>\n",
       "      <td>26</td>\n",
       "      <td>57</td>\n",
       "    </tr>\n",
       "    <tr>\n",
       "      <th>top</th>\n",
       "      <td>C1001</td>\n",
       "      <td>Ava</td>\n",
       "      <td>Tokyo</td>\n",
       "      <td>henry@gmail.com</td>\n",
       "      <td>1234567890</td>\n",
       "      <td>oo.pp.road</td>\n",
       "    </tr>\n",
       "    <tr>\n",
       "      <th>freq</th>\n",
       "      <td>1</td>\n",
       "      <td>4</td>\n",
       "      <td>22</td>\n",
       "      <td>3</td>\n",
       "      <td>11</td>\n",
       "      <td>2</td>\n",
       "    </tr>\n",
       "  </tbody>\n",
       "</table>\n",
       "</div>"
      ],
      "text/plain": [
       "       customer_id name   city            email    phone_no     address\n",
       "count           62   62     62               62          62          62\n",
       "unique          62   39      4               52          26          57\n",
       "top          C1001  Ava  Tokyo  henry@gmail.com  1234567890  oo.pp.road\n",
       "freq             1    4     22                3          11           2"
      ]
     },
     "execution_count": 71,
     "metadata": {},
     "output_type": "execute_result"
    }
   ],
   "source": [
    "customer_df.describe(include=object)"
   ]
  },
  {
   "cell_type": "code",
   "execution_count": 72,
   "id": "2b026017-43c4-488e-975e-b95837fb7fbb",
   "metadata": {},
   "outputs": [
    {
     "name": "stdout",
     "output_type": "stream",
     "text": [
      "                  customer_id\n",
      "city                         \n",
      "Tokyo                      22\n",
      "Kanagawa                   18\n",
      "Sydney                     12\n",
      "Lake Buena Vista           10\n"
     ]
    }
   ],
   "source": [
    "customer_city_pt=pd.pivot_table(customer_df,index=['city'],values=['customer_id'],aggfunc=['count'])\n",
    "customer_city_pt.columns = customer_city_pt.columns.get_level_values(1)\n",
    "customer_city_pt_sorted = customer_city_pt.sort_values(by='customer_id', ascending=False)\n",
    "print(customer_city_pt_sorted)"
   ]
  },
  {
   "cell_type": "code",
   "execution_count": 73,
   "id": "36730a2e-694d-457b-b126-22daccb3c324",
   "metadata": {},
   "outputs": [
    {
     "data": {
      "image/png": "[encoded data removed]",
      "text/plain": [
       "<Figure size 640x480 with 1 Axes>"
      ]
     },
     "metadata": {},
     "output_type": "display_data"
    }
   ],
   "source": [
    "customer_city_pt_sorted.plot(kind='bar',color='blue')\n",
    "plt.title(\"The total number of customers city wise\")\n",
    "plt.xlabel(\"City\")\n",
    "plt.xticks(rotation=0)\n",
    "plt.ylabel(\"Customer ID\")\n",
    "plt.show()"
   ]
  },
  {
   "cell_type": "markdown",
   "id": "ac52a82e-d312-47c9-9cf9-4310e05585a6",
   "metadata": {},
   "source": [
    "**This bar chart provides a comparison of the customer count across four cities.**\n",
    "\n",
    "**Tokyo has the highest number of customers, with a total of 22.**\n",
    "**Kanagawa follows with 18 customers.**\n",
    "**Sydney has a total of 12 customers.**\n",
    "**Lake Buena Vista has the lowest number of customers, with a total of 10.**\n",
    "\n",
    "**This data suggests that the business is most popular in Tokyo and least popular in Lake Buena**\n"
   ]
  },
  {
   "cell_type": "markdown",
   "id": "2f8d3f9b-6fe4-400d-98a6-e4803a23799c",
   "metadata": {},
   "source": [
    "**2.Identify the most frequent customers based on their order history.**"
   ]
  },
  {
   "cell_type": "code",
   "execution_count": 74,
   "id": "f9eefbcb-17a5-48c9-aa92-d757d2dee66b",
   "metadata": {},
   "outputs": [
    {
     "data": {
      "text/html": [
       "<div>\n",
       "<style scoped>\n",
       "    .dataframe tbody tr th:only-of-type {\n",
       "        vertical-align: middle;\n",
       "    }\n",
       "\n",
       "    .dataframe tbody tr th {\n",
       "        vertical-align: top;\n",
       "    }\n",
       "\n",
       "    .dataframe thead th {\n",
       "        text-align: right;\n",
       "    }\n",
       "</style>\n",
       "<table border=\"1\" class=\"dataframe\">\n",
       "  <thead>\n",
       "    <tr style=\"text-align: right;\">\n",
       "      <th></th>\n",
       "      <th>order_id</th>\n",
       "      <th>customer_id</th>\n",
       "      <th>product_id</th>\n",
       "      <th>quantity</th>\n",
       "      <th>total_price</th>\n",
       "      <th>payment_mode</th>\n",
       "      <th>order_date</th>\n",
       "      <th>order_status</th>\n",
       "    </tr>\n",
       "  </thead>\n",
       "  <tbody>\n",
       "    <tr>\n",
       "      <th>0</th>\n",
       "      <td>3</td>\n",
       "      <td>C1004</td>\n",
       "      <td>P112</td>\n",
       "      <td>1.0</td>\n",
       "      <td>1000.0</td>\n",
       "      <td>COD</td>\n",
       "      <td>2023-11-30</td>\n",
       "      <td>Pending</td>\n",
       "    </tr>\n",
       "    <tr>\n",
       "      <th>1</th>\n",
       "      <td>4</td>\n",
       "      <td>C1005</td>\n",
       "      <td>P102</td>\n",
       "      <td>1.0</td>\n",
       "      <td>20000.0</td>\n",
       "      <td>COD</td>\n",
       "      <td>2023-11-30</td>\n",
       "      <td>Pending</td>\n",
       "    </tr>\n",
       "    <tr>\n",
       "      <th>2</th>\n",
       "      <td>5</td>\n",
       "      <td>C1005</td>\n",
       "      <td>P102</td>\n",
       "      <td>1.0</td>\n",
       "      <td>20000.0</td>\n",
       "      <td>COD</td>\n",
       "      <td>2023-12-08</td>\n",
       "      <td>Delivered</td>\n",
       "    </tr>\n",
       "    <tr>\n",
       "      <th>3</th>\n",
       "      <td>7</td>\n",
       "      <td>C1006</td>\n",
       "      <td>P103</td>\n",
       "      <td>1.0</td>\n",
       "      <td>55000.0</td>\n",
       "      <td>COD</td>\n",
       "      <td>2023-12-15</td>\n",
       "      <td>Delivered</td>\n",
       "    </tr>\n",
       "    <tr>\n",
       "      <th>4</th>\n",
       "      <td>8</td>\n",
       "      <td>C1006</td>\n",
       "      <td>P102</td>\n",
       "      <td>1.0</td>\n",
       "      <td>15000.0</td>\n",
       "      <td>COD</td>\n",
       "      <td>2023-12-01</td>\n",
       "      <td>delivered</td>\n",
       "    </tr>\n",
       "  </tbody>\n",
       "</table>\n",
       "</div>"
      ],
      "text/plain": [
       "   order_id customer_id product_id  quantity  total_price payment_mode  \\\n",
       "0         3       C1004       P112       1.0       1000.0          COD   \n",
       "1         4       C1005       P102       1.0      20000.0          COD   \n",
       "2         5       C1005       P102       1.0      20000.0          COD   \n",
       "3         7       C1006       P103       1.0      55000.0          COD   \n",
       "4         8       C1006       P102       1.0      15000.0          COD   \n",
       "\n",
       "  order_date order_status  \n",
       "0 2023-11-30      Pending  \n",
       "1 2023-11-30      Pending  \n",
       "2 2023-12-08    Delivered  \n",
       "3 2023-12-15    Delivered  \n",
       "4 2023-12-01    delivered  "
      ]
     },
     "execution_count": 74,
     "metadata": {},
     "output_type": "execute_result"
    }
   ],
   "source": [
    "order_df.head()"
   ]
  },
  {
   "cell_type": "code",
   "execution_count": 75,
   "id": "10a7b875-e6c7-4c32-88f0-3ed00435cbbc",
   "metadata": {},
   "outputs": [
    {
     "data": {
      "text/html": [
       "<div>\n",
       "<style scoped>\n",
       "    .dataframe tbody tr th:only-of-type {\n",
       "        vertical-align: middle;\n",
       "    }\n",
       "\n",
       "    .dataframe tbody tr th {\n",
       "        vertical-align: top;\n",
       "    }\n",
       "\n",
       "    .dataframe thead tr th {\n",
       "        text-align: left;\n",
       "    }\n",
       "\n",
       "    .dataframe thead tr:last-of-type th {\n",
       "        text-align: right;\n",
       "    }\n",
       "</style>\n",
       "<table border=\"1\" class=\"dataframe\">\n",
       "  <thead>\n",
       "    <tr>\n",
       "      <th></th>\n",
       "      <th>count</th>\n",
       "    </tr>\n",
       "    <tr>\n",
       "      <th></th>\n",
       "      <th>quantity</th>\n",
       "    </tr>\n",
       "    <tr>\n",
       "      <th>customer_id</th>\n",
       "      <th></th>\n",
       "    </tr>\n",
       "  </thead>\n",
       "  <tbody>\n",
       "    <tr>\n",
       "      <th>C1003</th>\n",
       "      <td>2</td>\n",
       "    </tr>\n",
       "    <tr>\n",
       "      <th>C1004</th>\n",
       "      <td>1</td>\n",
       "    </tr>\n",
       "    <tr>\n",
       "      <th>C1005</th>\n",
       "      <td>3</td>\n",
       "    </tr>\n",
       "    <tr>\n",
       "      <th>C1006</th>\n",
       "      <td>2</td>\n",
       "    </tr>\n",
       "    <tr>\n",
       "      <th>C1008</th>\n",
       "      <td>2</td>\n",
       "    </tr>\n",
       "    <tr>\n",
       "      <th>C1009</th>\n",
       "      <td>3</td>\n",
       "    </tr>\n",
       "    <tr>\n",
       "      <th>C1010</th>\n",
       "      <td>3</td>\n",
       "    </tr>\n",
       "    <tr>\n",
       "      <th>C1011</th>\n",
       "      <td>2</td>\n",
       "    </tr>\n",
       "    <tr>\n",
       "      <th>C1012</th>\n",
       "      <td>1</td>\n",
       "    </tr>\n",
       "    <tr>\n",
       "      <th>C1013</th>\n",
       "      <td>3</td>\n",
       "    </tr>\n",
       "    <tr>\n",
       "      <th>C1014</th>\n",
       "      <td>2</td>\n",
       "    </tr>\n",
       "    <tr>\n",
       "      <th>C1015</th>\n",
       "      <td>2</td>\n",
       "    </tr>\n",
       "    <tr>\n",
       "      <th>C1016</th>\n",
       "      <td>2</td>\n",
       "    </tr>\n",
       "    <tr>\n",
       "      <th>C1017</th>\n",
       "      <td>2</td>\n",
       "    </tr>\n",
       "    <tr>\n",
       "      <th>C1018</th>\n",
       "      <td>1</td>\n",
       "    </tr>\n",
       "    <tr>\n",
       "      <th>C1019</th>\n",
       "      <td>2</td>\n",
       "    </tr>\n",
       "    <tr>\n",
       "      <th>C1020</th>\n",
       "      <td>1</td>\n",
       "    </tr>\n",
       "    <tr>\n",
       "      <th>C1021</th>\n",
       "      <td>1</td>\n",
       "    </tr>\n",
       "    <tr>\n",
       "      <th>C1022</th>\n",
       "      <td>1</td>\n",
       "    </tr>\n",
       "    <tr>\n",
       "      <th>C1028</th>\n",
       "      <td>1</td>\n",
       "    </tr>\n",
       "    <tr>\n",
       "      <th>C1029</th>\n",
       "      <td>1</td>\n",
       "    </tr>\n",
       "    <tr>\n",
       "      <th>C1030</th>\n",
       "      <td>1</td>\n",
       "    </tr>\n",
       "    <tr>\n",
       "      <th>C1031</th>\n",
       "      <td>1</td>\n",
       "    </tr>\n",
       "    <tr>\n",
       "      <th>C1032</th>\n",
       "      <td>1</td>\n",
       "    </tr>\n",
       "    <tr>\n",
       "      <th>C1033</th>\n",
       "      <td>1</td>\n",
       "    </tr>\n",
       "    <tr>\n",
       "      <th>C1034</th>\n",
       "      <td>1</td>\n",
       "    </tr>\n",
       "    <tr>\n",
       "      <th>C1035</th>\n",
       "      <td>1</td>\n",
       "    </tr>\n",
       "    <tr>\n",
       "      <th>C1036</th>\n",
       "      <td>1</td>\n",
       "    </tr>\n",
       "    <tr>\n",
       "      <th>C1037</th>\n",
       "      <td>1</td>\n",
       "    </tr>\n",
       "    <tr>\n",
       "      <th>C1038</th>\n",
       "      <td>1</td>\n",
       "    </tr>\n",
       "    <tr>\n",
       "      <th>C1039</th>\n",
       "      <td>1</td>\n",
       "    </tr>\n",
       "    <tr>\n",
       "      <th>C1040</th>\n",
       "      <td>1</td>\n",
       "    </tr>\n",
       "    <tr>\n",
       "      <th>C1041</th>\n",
       "      <td>1</td>\n",
       "    </tr>\n",
       "    <tr>\n",
       "      <th>C1042</th>\n",
       "      <td>1</td>\n",
       "    </tr>\n",
       "    <tr>\n",
       "      <th>C1043</th>\n",
       "      <td>1</td>\n",
       "    </tr>\n",
       "    <tr>\n",
       "      <th>C1044</th>\n",
       "      <td>1</td>\n",
       "    </tr>\n",
       "    <tr>\n",
       "      <th>C1045</th>\n",
       "      <td>1</td>\n",
       "    </tr>\n",
       "    <tr>\n",
       "      <th>C1046</th>\n",
       "      <td>1</td>\n",
       "    </tr>\n",
       "    <tr>\n",
       "      <th>C1047</th>\n",
       "      <td>1</td>\n",
       "    </tr>\n",
       "    <tr>\n",
       "      <th>C1048</th>\n",
       "      <td>1</td>\n",
       "    </tr>\n",
       "    <tr>\n",
       "      <th>C1049</th>\n",
       "      <td>1</td>\n",
       "    </tr>\n",
       "    <tr>\n",
       "      <th>C1050</th>\n",
       "      <td>1</td>\n",
       "    </tr>\n",
       "    <tr>\n",
       "      <th>C1051</th>\n",
       "      <td>1</td>\n",
       "    </tr>\n",
       "    <tr>\n",
       "      <th>C1052</th>\n",
       "      <td>1</td>\n",
       "    </tr>\n",
       "    <tr>\n",
       "      <th>C1053</th>\n",
       "      <td>1</td>\n",
       "    </tr>\n",
       "    <tr>\n",
       "      <th>C1054</th>\n",
       "      <td>1</td>\n",
       "    </tr>\n",
       "    <tr>\n",
       "      <th>C1055</th>\n",
       "      <td>1</td>\n",
       "    </tr>\n",
       "    <tr>\n",
       "      <th>C1056</th>\n",
       "      <td>1</td>\n",
       "    </tr>\n",
       "    <tr>\n",
       "      <th>C1057</th>\n",
       "      <td>1</td>\n",
       "    </tr>\n",
       "    <tr>\n",
       "      <th>C1058</th>\n",
       "      <td>1</td>\n",
       "    </tr>\n",
       "    <tr>\n",
       "      <th>C1059</th>\n",
       "      <td>1</td>\n",
       "    </tr>\n",
       "    <tr>\n",
       "      <th>C1060</th>\n",
       "      <td>1</td>\n",
       "    </tr>\n",
       "    <tr>\n",
       "      <th>C1061</th>\n",
       "      <td>1</td>\n",
       "    </tr>\n",
       "    <tr>\n",
       "      <th>C1062</th>\n",
       "      <td>1</td>\n",
       "    </tr>\n",
       "    <tr>\n",
       "      <th>C1063</th>\n",
       "      <td>1</td>\n",
       "    </tr>\n",
       "    <tr>\n",
       "      <th>C1064</th>\n",
       "      <td>1</td>\n",
       "    </tr>\n",
       "    <tr>\n",
       "      <th>C1065</th>\n",
       "      <td>1</td>\n",
       "    </tr>\n",
       "    <tr>\n",
       "      <th>C1066</th>\n",
       "      <td>1</td>\n",
       "    </tr>\n",
       "    <tr>\n",
       "      <th>C1067</th>\n",
       "      <td>1</td>\n",
       "    </tr>\n",
       "  </tbody>\n",
       "</table>\n",
       "</div>"
      ],
      "text/plain": [
       "               count\n",
       "            quantity\n",
       "customer_id         \n",
       "C1003              2\n",
       "C1004              1\n",
       "C1005              3\n",
       "C1006              2\n",
       "C1008              2\n",
       "C1009              3\n",
       "C1010              3\n",
       "C1011              2\n",
       "C1012              1\n",
       "C1013              3\n",
       "C1014              2\n",
       "C1015              2\n",
       "C1016              2\n",
       "C1017              2\n",
       "C1018              1\n",
       "C1019              2\n",
       "C1020              1\n",
       "C1021              1\n",
       "C1022              1\n",
       "C1028              1\n",
       "C1029              1\n",
       "C1030              1\n",
       "C1031              1\n",
       "C1032              1\n",
       "C1033              1\n",
       "C1034              1\n",
       "C1035              1\n",
       "C1036              1\n",
       "C1037              1\n",
       "C1038              1\n",
       "C1039              1\n",
       "C1040              1\n",
       "C1041              1\n",
       "C1042              1\n",
       "C1043              1\n",
       "C1044              1\n",
       "C1045              1\n",
       "C1046              1\n",
       "C1047              1\n",
       "C1048              1\n",
       "C1049              1\n",
       "C1050              1\n",
       "C1051              1\n",
       "C1052              1\n",
       "C1053              1\n",
       "C1054              1\n",
       "C1055              1\n",
       "C1056              1\n",
       "C1057              1\n",
       "C1058              1\n",
       "C1059              1\n",
       "C1060              1\n",
       "C1061              1\n",
       "C1062              1\n",
       "C1063              1\n",
       "C1064              1\n",
       "C1065              1\n",
       "C1066              1\n",
       "C1067              1"
      ]
     },
     "execution_count": 75,
     "metadata": {},
     "output_type": "execute_result"
    }
   ],
   "source": [
    "pd.pivot_table(order_df,index=['customer_id'],values=['quantity'],aggfunc=['count'])"
   ]
  },
  {
   "cell_type": "code",
   "execution_count": 76,
   "id": "fa60fe2c-1eee-451e-9137-73b3b10d7e42",
   "metadata": {},
   "outputs": [
    {
     "name": "stdout",
     "output_type": "stream",
     "text": [
      "               count\n",
      "            quantity\n",
      "customer_id         \n",
      "C1005              3\n",
      "C1009              3\n",
      "C1010              3\n",
      "C1013              3\n",
      "C1003              2\n",
      "C1006              2\n",
      "C1008              2\n",
      "C1011              2\n",
      "C1014              2\n",
      "C1015              2\n"
     ]
    }
   ],
   "source": [
    "top_10_customers=pd.pivot_table(order_df,index=['customer_id'],values=['quantity'],aggfunc=['count']).nlargest(10,('count','quantity'))\n",
    "print(top_10_customers)"
   ]
  },
  {
   "cell_type": "code",
   "execution_count": 77,
   "id": "3bd310f8-6d4a-40ac-b275-97e248c10eaf",
   "metadata": {},
   "outputs": [
    {
     "data": {
      "image/png": "[encoded data removed]",
      "text/plain": [
       "<Figure size 640x480 with 1 Axes>"
      ]
     },
     "metadata": {},
     "output_type": "display_data"
    }
   ],
   "source": [
    "top_10_customers.plot(kind='bar',color='pink')\n",
    "plt.title(\"The most frequent customers based on their order history.\")\n",
    "plt.xlabel(\"Customer_id\")\n",
    "plt.xticks(rotation=0)\n",
    "plt.ylabel(\"Quantity\")\n",
    "plt.show()"
   ]
  },
  {
   "cell_type": "markdown",
   "id": "fabafb24-bd84-43c1-87a7-c48bee251707",
   "metadata": {},
   "source": [
    "**This bar chart provides an overview of the number of orders placed by the top 10 customers.**\n",
    "\n",
    "**Four customers (C1013, C1010, C1005, and C1009) have each placed 3 orders.**\n",
    "**The remaining six customers (C0317, C0816, C0615, C1114, C1411, and C1519) have each placed 2 orders.**"
   ]
  },
  {
   "cell_type": "markdown",
   "id": "ee56f6bc-e8bd-4a6f-abfc-bd3166738de5",
   "metadata": {},
   "source": [
    "<h3>Product Analysis</h3>"
   ]
  },
  {
   "cell_type": "markdown",
   "id": "3a35203f-5483-48fe-bf3b-0b79b9f6b0f5",
   "metadata": {},
   "source": [
    "**1.Determine the total number of products available by category.**"
   ]
  },
  {
   "cell_type": "code",
   "execution_count": 78,
   "id": "9eb72104-5bcb-43c8-8453-fa949abad0c2",
   "metadata": {},
   "outputs": [
    {
     "data": {
      "text/html": [
       "<div>\n",
       "<style scoped>\n",
       "    .dataframe tbody tr th:only-of-type {\n",
       "        vertical-align: middle;\n",
       "    }\n",
       "\n",
       "    .dataframe tbody tr th {\n",
       "        vertical-align: top;\n",
       "    }\n",
       "\n",
       "    .dataframe thead th {\n",
       "        text-align: right;\n",
       "    }\n",
       "</style>\n",
       "<table border=\"1\" class=\"dataframe\">\n",
       "  <thead>\n",
       "    <tr style=\"text-align: right;\">\n",
       "      <th></th>\n",
       "      <th>product_id</th>\n",
       "      <th>product_name</th>\n",
       "      <th>category</th>\n",
       "      <th>sub_category</th>\n",
       "      <th>original_price</th>\n",
       "      <th>selling_price</th>\n",
       "      <th>stock</th>\n",
       "    </tr>\n",
       "  </thead>\n",
       "  <tbody>\n",
       "    <tr>\n",
       "      <th>0</th>\n",
       "      <td>P102</td>\n",
       "      <td>Chair</td>\n",
       "      <td>Furniture</td>\n",
       "      <td>Chairs</td>\n",
       "      <td>20000.0</td>\n",
       "      <td>15000.00</td>\n",
       "      <td>10</td>\n",
       "    </tr>\n",
       "    <tr>\n",
       "      <th>1</th>\n",
       "      <td>P103</td>\n",
       "      <td>Laptop</td>\n",
       "      <td>Electronics</td>\n",
       "      <td>computer</td>\n",
       "      <td>60000.0</td>\n",
       "      <td>55000.00</td>\n",
       "      <td>50</td>\n",
       "    </tr>\n",
       "    <tr>\n",
       "      <th>2</th>\n",
       "      <td>P104</td>\n",
       "      <td>Smartphone</td>\n",
       "      <td>Electronics</td>\n",
       "      <td>phone</td>\n",
       "      <td>45000.0</td>\n",
       "      <td>40000.00</td>\n",
       "      <td>20</td>\n",
       "    </tr>\n",
       "    <tr>\n",
       "      <th>3</th>\n",
       "      <td>P105</td>\n",
       "      <td>Blender</td>\n",
       "      <td>Appliance</td>\n",
       "      <td>Electronics</td>\n",
       "      <td>500.0</td>\n",
       "      <td>450.00</td>\n",
       "      <td>10</td>\n",
       "    </tr>\n",
       "    <tr>\n",
       "      <th>4</th>\n",
       "      <td>P106</td>\n",
       "      <td>Laptop HP</td>\n",
       "      <td>Electronics</td>\n",
       "      <td>Computers</td>\n",
       "      <td>67200.0</td>\n",
       "      <td>55000.99</td>\n",
       "      <td>50</td>\n",
       "    </tr>\n",
       "  </tbody>\n",
       "</table>\n",
       "</div>"
      ],
      "text/plain": [
       "  product_id product_name     category sub_category  original_price  \\\n",
       "0       P102        Chair    Furniture       Chairs         20000.0   \n",
       "1       P103       Laptop  Electronics     computer         60000.0   \n",
       "2       P104   Smartphone  Electronics        phone         45000.0   \n",
       "3       P105      Blender    Appliance  Electronics           500.0   \n",
       "4       P106    Laptop HP  Electronics    Computers         67200.0   \n",
       "\n",
       "   selling_price  stock  \n",
       "0       15000.00     10  \n",
       "1       55000.00     50  \n",
       "2       40000.00     20  \n",
       "3         450.00     10  \n",
       "4       55000.99     50  "
      ]
     },
     "execution_count": 78,
     "metadata": {},
     "output_type": "execute_result"
    }
   ],
   "source": [
    "product_df.head()"
   ]
  },
  {
   "cell_type": "code",
   "execution_count": 79,
   "id": "5c9feaf6-e2c3-4a90-89f7-903c68f8502e",
   "metadata": {},
   "outputs": [
    {
     "name": "stdout",
     "output_type": "stream",
     "text": [
      "             product_name\n",
      "category                 \n",
      "Appliance              20\n",
      "Electronics            32\n",
      "Furniture               9\n"
     ]
    }
   ],
   "source": [
    "category_wise_product=pd.pivot_table(product_df,index=['category'],values=['product_name'],aggfunc='count')\n",
    "print(category_wise_product)"
   ]
  },
  {
   "cell_type": "code",
   "execution_count": 80,
   "id": "21f91579-16eb-402e-8993-10d1ec78c495",
   "metadata": {},
   "outputs": [
    {
     "data": {
      "image/png": "[encoded data removed]",
      "text/plain": [
       "<Figure size 640x480 with 1 Axes>"
      ]
     },
     "metadata": {},
     "output_type": "display_data"
    }
   ],
   "source": [
    "category_wise_product.plot(kind='bar',color='Green')\n",
    "plt.title(\"The total number of products available by Category.\")\n",
    "plt.xlabel(\"Category\")\n",
    "plt.xticks(rotation=0)\n",
    "plt.ylabel(\"Total_Numbers_Product\")\n",
    "plt.show()"
   ]
  },
  {
   "cell_type": "markdown",
   "id": "fdf63147-ec8d-4d88-b368-473fb965ec53",
   "metadata": {},
   "source": [
    "**The bar chart presents the distribution of products across three categories: Electronics, Appliance, and Furniture.**\n",
    "\n",
    "**Electronics:** This category has the highest number of products, totaling 32.\n",
    "**Appliance:** This category comes second with a total of 20 products.\n",
    "**Furniture:** This category has the least number of products, with a total of 9."
   ]
  },
  {
   "cell_type": "markdown",
   "id": "db1bc7fb-9d39-4b5e-b032-f6ccaaa33cab",
   "metadata": {},
   "source": [
    "**Electronics is the most populated category, while Furniture has the fewest**"
   ]
  },
  {
   "cell_type": "markdown",
   "id": "33e61d3c-c8c5-4039-96bc-2ff6c2a52a5a",
   "metadata": {},
   "source": [
    "**2.Analyze the distribution of products across sub-categories**"
   ]
  },
  {
   "cell_type": "code",
   "execution_count": 81,
   "id": "d558326f-a66c-417f-a2ff-7e867318af97",
   "metadata": {},
   "outputs": [
    {
     "name": "stdout",
     "output_type": "stream",
     "text": [
      "               product_name\n",
      "sub_category               \n",
      "Accessories               2\n",
      "Audio                     3\n",
      "Cameras                   1\n",
      "Chairs                    2\n",
      "Computers                 9\n",
      "Consoles                  1\n",
      "Desks                     1\n",
      "Electronics              20\n",
      "Entertainment             3\n",
      "Furniture                 1\n",
      "Lamps                     2\n",
      "Mobiles                   1\n",
      "Photography               1\n",
      "Printers                  1\n",
      "Sofas                     1\n",
      "TVs                       1\n",
      "Tables                    1\n",
      "Tablets                   2\n",
      "Wearables                 5\n",
      "chairs                    1\n",
      "computer                  1\n",
      "phone                     1\n"
     ]
    }
   ],
   "source": [
    "sub_category_wise_product=pd.pivot_table(product_df,index=['sub_category'],values=['product_name'],aggfunc='count')\n",
    "print(sub_category_wise_product)"
   ]
  },
  {
   "cell_type": "code",
   "execution_count": 82,
   "id": "4a845f00-a039-4855-8ab0-f66be8e35715",
   "metadata": {},
   "outputs": [
    {
     "data": {
      "image/png": "[encoded data removed]",
      "text/plain": [
       "<Figure size 640x480 with 1 Axes>"
      ]
     },
     "metadata": {},
     "output_type": "display_data"
    }
   ],
   "source": [
    "sub_category_wise_product.plot(kind='bar',color='Orange')\n",
    "plt.title(\"The total number of products available by Sub-Category.\")\n",
    "plt.xlabel(\"Sub_Category\")\n",
    "plt.ylabel(\"Total_Numbers_Product\")\n",
    "plt.show()"
   ]
  },
  {
   "cell_type": "markdown",
   "id": "992d5467-3953-4b0c-83dd-eeb14a113678",
   "metadata": {},
   "source": [
    "**3.Identify products with low stock levels.**"
   ]
  },
  {
   "cell_type": "code",
   "execution_count": 83,
   "id": "8beb7a50-e552-46d6-81d0-bd5c9d676877",
   "metadata": {},
   "outputs": [
    {
     "data": {
      "text/html": [
       "<div>\n",
       "<style scoped>\n",
       "    .dataframe tbody tr th:only-of-type {\n",
       "        vertical-align: middle;\n",
       "    }\n",
       "\n",
       "    .dataframe tbody tr th {\n",
       "        vertical-align: top;\n",
       "    }\n",
       "\n",
       "    .dataframe thead th {\n",
       "        text-align: right;\n",
       "    }\n",
       "</style>\n",
       "<table border=\"1\" class=\"dataframe\">\n",
       "  <thead>\n",
       "    <tr style=\"text-align: right;\">\n",
       "      <th></th>\n",
       "      <th>stock</th>\n",
       "    </tr>\n",
       "    <tr>\n",
       "      <th>product_name</th>\n",
       "      <th></th>\n",
       "    </tr>\n",
       "  </thead>\n",
       "  <tbody>\n",
       "    <tr>\n",
       "      <th>Air Purifier</th>\n",
       "      <td>15</td>\n",
       "    </tr>\n",
       "    <tr>\n",
       "      <th>Blender</th>\n",
       "      <td>10</td>\n",
       "    </tr>\n",
       "    <tr>\n",
       "      <th>Bluetooth Speaker</th>\n",
       "      <td>28</td>\n",
       "    </tr>\n",
       "    <tr>\n",
       "      <th>Car Vacuum</th>\n",
       "      <td>20</td>\n",
       "    </tr>\n",
       "    <tr>\n",
       "      <th>Chair</th>\n",
       "      <td>10</td>\n",
       "    </tr>\n",
       "    <tr>\n",
       "      <th>Coffee Maker</th>\n",
       "      <td>20</td>\n",
       "    </tr>\n",
       "    <tr>\n",
       "      <th>Desk</th>\n",
       "      <td>15</td>\n",
       "    </tr>\n",
       "    <tr>\n",
       "      <th>Desk Lamp</th>\n",
       "      <td>20</td>\n",
       "    </tr>\n",
       "    <tr>\n",
       "      <th>Digital Camera</th>\n",
       "      <td>20</td>\n",
       "    </tr>\n",
       "    <tr>\n",
       "      <th>Dining Table</th>\n",
       "      <td>20</td>\n",
       "    </tr>\n",
       "    <tr>\n",
       "      <th>Dishwasher</th>\n",
       "      <td>12</td>\n",
       "    </tr>\n",
       "    <tr>\n",
       "      <th>Electric Toothbrush</th>\n",
       "      <td>18</td>\n",
       "    </tr>\n",
       "    <tr>\n",
       "      <th>External Hard Drive</th>\n",
       "      <td>12</td>\n",
       "    </tr>\n",
       "    <tr>\n",
       "      <th>Fitness Tracker</th>\n",
       "      <td>20</td>\n",
       "    </tr>\n",
       "    <tr>\n",
       "      <th>Gaming Console</th>\n",
       "      <td>20</td>\n",
       "    </tr>\n",
       "    <tr>\n",
       "      <th>Gaming Mouse</th>\n",
       "      <td>30</td>\n",
       "    </tr>\n",
       "    <tr>\n",
       "      <th>Headphones</th>\n",
       "      <td>22</td>\n",
       "    </tr>\n",
       "    <tr>\n",
       "      <th>Laptop</th>\n",
       "      <td>50</td>\n",
       "    </tr>\n",
       "    <tr>\n",
       "      <th>Laptop HP</th>\n",
       "      <td>50</td>\n",
       "    </tr>\n",
       "    <tr>\n",
       "      <th>Microwave</th>\n",
       "      <td>25</td>\n",
       "    </tr>\n",
       "    <tr>\n",
       "      <th>Microwave Oven</th>\n",
       "      <td>18</td>\n",
       "    </tr>\n",
       "    <tr>\n",
       "      <th>Monitor</th>\n",
       "      <td>15</td>\n",
       "    </tr>\n",
       "    <tr>\n",
       "      <th>Portable Charger</th>\n",
       "      <td>25</td>\n",
       "    </tr>\n",
       "    <tr>\n",
       "      <th>Portable Speaker</th>\n",
       "      <td>22</td>\n",
       "    </tr>\n",
       "    <tr>\n",
       "      <th>Printer</th>\n",
       "      <td>10</td>\n",
       "    </tr>\n",
       "    <tr>\n",
       "      <th>Projector</th>\n",
       "      <td>15</td>\n",
       "    </tr>\n",
       "    <tr>\n",
       "      <th>Recliner</th>\n",
       "      <td>25</td>\n",
       "    </tr>\n",
       "    <tr>\n",
       "      <th>Refrigerator</th>\n",
       "      <td>12</td>\n",
       "    </tr>\n",
       "    <tr>\n",
       "      <th>Samsung Galaxy</th>\n",
       "      <td>100</td>\n",
       "    </tr>\n",
       "    <tr>\n",
       "      <th>Smart Scale</th>\n",
       "      <td>20</td>\n",
       "    </tr>\n",
       "    <tr>\n",
       "      <th>Smart Speaker</th>\n",
       "      <td>30</td>\n",
       "    </tr>\n",
       "    <tr>\n",
       "      <th>Smartphone</th>\n",
       "      <td>20</td>\n",
       "    </tr>\n",
       "    <tr>\n",
       "      <th>Smartwatch</th>\n",
       "      <td>22</td>\n",
       "    </tr>\n",
       "    <tr>\n",
       "      <th>Sofa</th>\n",
       "      <td>18</td>\n",
       "    </tr>\n",
       "    <tr>\n",
       "      <th>Sofa Set</th>\n",
       "      <td>10</td>\n",
       "    </tr>\n",
       "    <tr>\n",
       "      <th>Streaming Device</th>\n",
       "      <td>18</td>\n",
       "    </tr>\n",
       "    <tr>\n",
       "      <th>Tablet</th>\n",
       "      <td>10</td>\n",
       "    </tr>\n",
       "    <tr>\n",
       "      <th>Television</th>\n",
       "      <td>15</td>\n",
       "    </tr>\n",
       "    <tr>\n",
       "      <th>Vacuum Cleaner</th>\n",
       "      <td>18</td>\n",
       "    </tr>\n",
       "    <tr>\n",
       "      <th>Water Purifier</th>\n",
       "      <td>18</td>\n",
       "    </tr>\n",
       "    <tr>\n",
       "      <th>Wireless Earbuds</th>\n",
       "      <td>15</td>\n",
       "    </tr>\n",
       "    <tr>\n",
       "      <th>Wireless Mouse</th>\n",
       "      <td>30</td>\n",
       "    </tr>\n",
       "    <tr>\n",
       "      <th>chair</th>\n",
       "      <td>10</td>\n",
       "    </tr>\n",
       "  </tbody>\n",
       "</table>\n",
       "</div>"
      ],
      "text/plain": [
       "                     stock\n",
       "product_name              \n",
       "Air Purifier            15\n",
       "Blender                 10\n",
       "Bluetooth Speaker       28\n",
       "Car Vacuum              20\n",
       "Chair                   10\n",
       "Coffee Maker            20\n",
       "Desk                    15\n",
       "Desk Lamp               20\n",
       "Digital Camera          20\n",
       "Dining Table            20\n",
       "Dishwasher              12\n",
       "Electric Toothbrush     18\n",
       "External Hard Drive     12\n",
       "Fitness Tracker         20\n",
       "Gaming Console          20\n",
       "Gaming Mouse            30\n",
       "Headphones              22\n",
       "Laptop                  50\n",
       "Laptop HP               50\n",
       "Microwave               25\n",
       "Microwave Oven          18\n",
       "Monitor                 15\n",
       "Portable Charger        25\n",
       "Portable Speaker        22\n",
       "Printer                 10\n",
       "Projector               15\n",
       "Recliner                25\n",
       "Refrigerator            12\n",
       "Samsung Galaxy         100\n",
       "Smart Scale             20\n",
       "Smart Speaker           30\n",
       "Smartphone              20\n",
       "Smartwatch              22\n",
       "Sofa                    18\n",
       "Sofa Set                10\n",
       "Streaming Device        18\n",
       "Tablet                  10\n",
       "Television              15\n",
       "Vacuum Cleaner          18\n",
       "Water Purifier          18\n",
       "Wireless Earbuds        15\n",
       "Wireless Mouse          30\n",
       "chair                   10"
      ]
     },
     "execution_count": 83,
     "metadata": {},
     "output_type": "execute_result"
    }
   ],
   "source": [
    "pd.pivot_table(product_df,index=['product_name'],values=['stock'],aggfunc='min')"
   ]
  },
  {
   "cell_type": "code",
   "execution_count": 84,
   "id": "170a3fe4-413c-4490-81b3-b26d485f2882",
   "metadata": {},
   "outputs": [
    {
     "name": "stdout",
     "output_type": "stream",
     "text": [
      "                     stock\n",
      "product_name              \n",
      "Blender                 10\n",
      "Chair                   10\n",
      "Printer                 10\n",
      "Sofa Set                10\n",
      "Tablet                  10\n",
      "chair                   10\n",
      "Dishwasher              12\n",
      "External Hard Drive     12\n",
      "Refrigerator            12\n"
     ]
    }
   ],
   "source": [
    "low_stock_products=pd.pivot_table(product_df,index=['product_name'],values=['stock'],aggfunc='min').nsmallest(9,'stock')\n",
    "print(low_stock_products)"
   ]
  },
  {
   "cell_type": "code",
   "execution_count": 85,
   "id": "c805a6f4-598e-4475-8b6e-bb25efd6133d",
   "metadata": {},
   "outputs": [
    {
     "data": {
      "image/png": "[encoded data removed]",
      "text/plain": [
       "<Figure size 640x480 with 1 Axes>"
      ]
     },
     "metadata": {},
     "output_type": "display_data"
    }
   ],
   "source": [
    "low_stock_products.plot(kind='bar',color='DarkOrchid')\n",
    "plt.title(\"Products with low stock levels.\")\n",
    "plt.xlabel(\"Product_ID\")\n",
    "plt.ylabel(\"Total_Numbers_Product\")\n",
    "plt.show()"
   ]
  },
  {
   "cell_type": "markdown",
   "id": "d488f2f1-fd3d-4966-b6d4-270b7ae010a5",
   "metadata": {},
   "source": [
    "**4.Calculate the average, maximum, and minimum prices for products.**"
   ]
  },
  {
   "cell_type": "code",
   "execution_count": 86,
   "id": "bdf365dd-4eb5-4e21-a979-86316884a927",
   "metadata": {},
   "outputs": [
    {
     "name": "stdout",
     "output_type": "stream",
     "text": [
      "17774.62262295082\n",
      "70000.0\n",
      "450.0\n"
     ]
    }
   ],
   "source": [
    "avarage_price=product_df['selling_price'].mean()\n",
    "maximum_price=product_df['selling_price'].max()\n",
    "minimum_price=product_df['selling_price'].min()\n",
    "print(avarage_price)\n",
    "print(maximum_price)\n",
    "print(minimum_price)"
   ]
  },
  {
   "cell_type": "code",
   "execution_count": 87,
   "id": "9f8a4daf-7f69-40fe-8218-19d24f5c474e",
   "metadata": {},
   "outputs": [
    {
     "data": {
      "image/png": "[encoded data removed]",
      "text/plain": [
       "<Figure size 640x480 with 1 Axes>"
      ]
     },
     "metadata": {},
     "output_type": "display_data"
    }
   ],
   "source": [
    "price_category=([\"Avarage_Price\",\"Maximum_Price\",\"Minimum_Price\"])\n",
    "price=([avarage_price,maximum_price,minimum_price])\n",
    "plt.bar(price_category,price,color='Skyblue')\n",
    "plt.show()"
   ]
  },
  {
   "cell_type": "markdown",
   "id": "20ddcafc-e85f-420c-86d8-884c60f6a1ca",
   "metadata": {},
   "source": [
    "<h3>Order Analysis:</h3>"
   ]
  },
  {
   "cell_type": "markdown",
   "id": "032fe903-7534-4596-a251-246ef23b761f",
   "metadata": {},
   "source": [
    "**1.Calculate the top 10 orders product wise.**"
   ]
  },
  {
   "cell_type": "code",
   "execution_count": 88,
   "id": "d0abe317-dd3c-4722-956d-6665da8167d7",
   "metadata": {},
   "outputs": [
    {
     "data": {
      "text/html": [
       "<div>\n",
       "<style scoped>\n",
       "    .dataframe tbody tr th:only-of-type {\n",
       "        vertical-align: middle;\n",
       "    }\n",
       "\n",
       "    .dataframe tbody tr th {\n",
       "        vertical-align: top;\n",
       "    }\n",
       "\n",
       "    .dataframe thead th {\n",
       "        text-align: right;\n",
       "    }\n",
       "</style>\n",
       "<table border=\"1\" class=\"dataframe\">\n",
       "  <thead>\n",
       "    <tr style=\"text-align: right;\">\n",
       "      <th></th>\n",
       "      <th>customer_id</th>\n",
       "      <th>customer_name</th>\n",
       "      <th>city</th>\n",
       "      <th>email</th>\n",
       "      <th>phone_no</th>\n",
       "      <th>address</th>\n",
       "      <th>pin_code</th>\n",
       "      <th>order_id</th>\n",
       "      <th>product_id</th>\n",
       "      <th>quantity</th>\n",
       "      <th>total_price</th>\n",
       "      <th>payment_mode</th>\n",
       "      <th>order_date</th>\n",
       "      <th>order_status</th>\n",
       "      <th>product_name</th>\n",
       "      <th>category</th>\n",
       "      <th>sub_category</th>\n",
       "      <th>original_price</th>\n",
       "      <th>selling_price</th>\n",
       "    </tr>\n",
       "  </thead>\n",
       "  <tbody>\n",
       "    <tr>\n",
       "      <th>0</th>\n",
       "      <td>C1001</td>\n",
       "      <td>Steve</td>\n",
       "      <td>Tokyo</td>\n",
       "      <td>steve@gmail.com</td>\n",
       "      <td>4567897652</td>\n",
       "      <td>f.g.road</td>\n",
       "      <td>99</td>\n",
       "      <td>51.144737</td>\n",
       "      <td>P000</td>\n",
       "      <td>1.355263</td>\n",
       "      <td>20873.684211</td>\n",
       "      <td>COD</td>\n",
       "      <td>2023-12-19</td>\n",
       "      <td>Pending</td>\n",
       "      <td>Unknown Product</td>\n",
       "      <td>Unknown</td>\n",
       "      <td>Not Mention</td>\n",
       "      <td>20019.736842</td>\n",
       "      <td>16973.684211</td>\n",
       "    </tr>\n",
       "    <tr>\n",
       "      <th>1</th>\n",
       "      <td>C1002</td>\n",
       "      <td>john</td>\n",
       "      <td>Sydney</td>\n",
       "      <td>john@gmail.com</td>\n",
       "      <td>9987234567</td>\n",
       "      <td>k.c.road</td>\n",
       "      <td>75001</td>\n",
       "      <td>51.144737</td>\n",
       "      <td>P000</td>\n",
       "      <td>1.355263</td>\n",
       "      <td>20873.684211</td>\n",
       "      <td>COD</td>\n",
       "      <td>2023-12-19</td>\n",
       "      <td>Pending</td>\n",
       "      <td>Unknown Product</td>\n",
       "      <td>Unknown</td>\n",
       "      <td>Not Mention</td>\n",
       "      <td>20019.736842</td>\n",
       "      <td>16973.684211</td>\n",
       "    </tr>\n",
       "    <tr>\n",
       "      <th>2</th>\n",
       "      <td>C1003</td>\n",
       "      <td>Peter</td>\n",
       "      <td>Kanagawa</td>\n",
       "      <td>peter.parker@mail.com</td>\n",
       "      <td>9969834567</td>\n",
       "      <td>2F Ikenobecho</td>\n",
       "      <td>171</td>\n",
       "      <td>10.000000</td>\n",
       "      <td>P105</td>\n",
       "      <td>1.000000</td>\n",
       "      <td>450.000000</td>\n",
       "      <td>COD</td>\n",
       "      <td>2023-12-19</td>\n",
       "      <td>Pending</td>\n",
       "      <td>Blender</td>\n",
       "      <td>Appliance</td>\n",
       "      <td>Electronics</td>\n",
       "      <td>500.000000</td>\n",
       "      <td>450.000000</td>\n",
       "    </tr>\n",
       "    <tr>\n",
       "      <th>3</th>\n",
       "      <td>C1003</td>\n",
       "      <td>Peter</td>\n",
       "      <td>Kanagawa</td>\n",
       "      <td>peter.parker@mail.com</td>\n",
       "      <td>9969834567</td>\n",
       "      <td>2F Ikenobecho</td>\n",
       "      <td>171</td>\n",
       "      <td>11.000000</td>\n",
       "      <td>P103</td>\n",
       "      <td>1.000000</td>\n",
       "      <td>55000.000000</td>\n",
       "      <td>COD</td>\n",
       "      <td>2023-12-21</td>\n",
       "      <td>Pending</td>\n",
       "      <td>Laptop</td>\n",
       "      <td>Electronics</td>\n",
       "      <td>computer</td>\n",
       "      <td>60000.000000</td>\n",
       "      <td>55000.000000</td>\n",
       "    </tr>\n",
       "    <tr>\n",
       "      <th>4</th>\n",
       "      <td>C1004</td>\n",
       "      <td>Jackson</td>\n",
       "      <td>Tokyo</td>\n",
       "      <td>Jackson@gmail.com</td>\n",
       "      <td>7765834567</td>\n",
       "      <td>24-2, Sendagaya</td>\n",
       "      <td>8429</td>\n",
       "      <td>3.000000</td>\n",
       "      <td>P112</td>\n",
       "      <td>1.000000</td>\n",
       "      <td>1000.000000</td>\n",
       "      <td>COD</td>\n",
       "      <td>2023-11-30</td>\n",
       "      <td>Pending</td>\n",
       "      <td>chair</td>\n",
       "      <td>Furniture</td>\n",
       "      <td>chairs</td>\n",
       "      <td>1000.000000</td>\n",
       "      <td>800.000000</td>\n",
       "    </tr>\n",
       "  </tbody>\n",
       "</table>\n",
       "</div>"
      ],
      "text/plain": [
       "  customer_id customer_name      city                  email    phone_no  \\\n",
       "0       C1001         Steve     Tokyo        steve@gmail.com  4567897652   \n",
       "1       C1002          john    Sydney         john@gmail.com  9987234567   \n",
       "2       C1003         Peter  Kanagawa  peter.parker@mail.com  9969834567   \n",
       "3       C1003         Peter  Kanagawa  peter.parker@mail.com  9969834567   \n",
       "4       C1004       Jackson     Tokyo      Jackson@gmail.com  7765834567   \n",
       "\n",
       "           address  pin_code   order_id product_id  quantity   total_price  \\\n",
       "0         f.g.road        99  51.144737       P000  1.355263  20873.684211   \n",
       "1         k.c.road     75001  51.144737       P000  1.355263  20873.684211   \n",
       "2    2F Ikenobecho       171  10.000000       P105  1.000000    450.000000   \n",
       "3    2F Ikenobecho       171  11.000000       P103  1.000000  55000.000000   \n",
       "4  24-2, Sendagaya      8429   3.000000       P112  1.000000   1000.000000   \n",
       "\n",
       "  payment_mode order_date order_status     product_name     category  \\\n",
       "0          COD 2023-12-19      Pending  Unknown Product      Unknown   \n",
       "1          COD 2023-12-19      Pending  Unknown Product      Unknown   \n",
       "2          COD 2023-12-19      Pending          Blender    Appliance   \n",
       "3          COD 2023-12-21      Pending           Laptop  Electronics   \n",
       "4          COD 2023-11-30      Pending            chair    Furniture   \n",
       "\n",
       "  sub_category  original_price  selling_price  \n",
       "0  Not Mention    20019.736842   16973.684211  \n",
       "1  Not Mention    20019.736842   16973.684211  \n",
       "2  Electronics      500.000000     450.000000  \n",
       "3     computer    60000.000000   55000.000000  \n",
       "4       chairs     1000.000000     800.000000  "
      ]
     },
     "execution_count": 88,
     "metadata": {},
     "output_type": "execute_result"
    }
   ],
   "source": [
    "customer_order_df.head()"
   ]
  },
  {
   "cell_type": "code",
   "execution_count": 89,
   "id": "13eee6cb-aa8b-432d-bcea-22e04c4e309a",
   "metadata": {},
   "outputs": [
    {
     "name": "stdout",
     "output_type": "stream",
     "text": [
      "product_name\n",
      "Tablet             5\n",
      "Vacuum Cleaner     4\n",
      "Air Purifier       3\n",
      "Chair              3\n",
      "Coffee Maker       3\n",
      "Digital Camera     3\n",
      "Smartwatch         3\n",
      "Television         3\n",
      "Unknown Product    3\n",
      "Blender            2\n",
      "Name: order_id, dtype: int64\n"
     ]
    }
   ],
   "source": [
    "top_orders=customer_order_df.groupby('product_name')['order_id'].count().nlargest(10)\n",
    "print(top_orders)"
   ]
  },
  {
   "cell_type": "code",
   "execution_count": 90,
   "id": "d34ae511-e8d5-4496-af5c-1e60844dc1ba",
   "metadata": {},
   "outputs": [
    {
     "data": {
      "image/png": "[encoded data removed]",
      "text/plain": [
       "<Figure size 640x480 with 1 Axes>"
      ]
     },
     "metadata": {},
     "output_type": "display_data"
    }
   ],
   "source": [
    "top_orders.plot(kind='bar',color='Green')\n",
    "plt.title(\"The top 10 orders product wise\")\n",
    "plt.xlabel(\"Product_Name\")\n",
    "plt.ylabel(\"Numbers_of_Orders\")\n",
    "plt.show()"
   ]
  },
  {
   "cell_type": "markdown",
   "id": "33a16898-9fdf-4850-b171-c1ac45641890",
   "metadata": {},
   "source": [
    "**2.Analyze the order status distribution (e.g., pending, delivered).**"
   ]
  },
  {
   "cell_type": "code",
   "execution_count": 91,
   "id": "bff1cc86-6d39-484c-a4d5-29bcf77c58f2",
   "metadata": {},
   "outputs": [
    {
     "data": {
      "text/html": [
       "<div>\n",
       "<style scoped>\n",
       "    .dataframe tbody tr th:only-of-type {\n",
       "        vertical-align: middle;\n",
       "    }\n",
       "\n",
       "    .dataframe tbody tr th {\n",
       "        vertical-align: top;\n",
       "    }\n",
       "\n",
       "    .dataframe thead th {\n",
       "        text-align: right;\n",
       "    }\n",
       "</style>\n",
       "<table border=\"1\" class=\"dataframe\">\n",
       "  <thead>\n",
       "    <tr style=\"text-align: right;\">\n",
       "      <th></th>\n",
       "      <th>order_id</th>\n",
       "      <th>customer_id</th>\n",
       "      <th>product_id</th>\n",
       "      <th>quantity</th>\n",
       "      <th>total_price</th>\n",
       "      <th>payment_mode</th>\n",
       "      <th>order_date</th>\n",
       "      <th>order_status</th>\n",
       "    </tr>\n",
       "  </thead>\n",
       "  <tbody>\n",
       "    <tr>\n",
       "      <th>0</th>\n",
       "      <td>3</td>\n",
       "      <td>C1004</td>\n",
       "      <td>P112</td>\n",
       "      <td>1.0</td>\n",
       "      <td>1000.0</td>\n",
       "      <td>COD</td>\n",
       "      <td>2023-11-30</td>\n",
       "      <td>Pending</td>\n",
       "    </tr>\n",
       "    <tr>\n",
       "      <th>1</th>\n",
       "      <td>4</td>\n",
       "      <td>C1005</td>\n",
       "      <td>P102</td>\n",
       "      <td>1.0</td>\n",
       "      <td>20000.0</td>\n",
       "      <td>COD</td>\n",
       "      <td>2023-11-30</td>\n",
       "      <td>Pending</td>\n",
       "    </tr>\n",
       "    <tr>\n",
       "      <th>2</th>\n",
       "      <td>5</td>\n",
       "      <td>C1005</td>\n",
       "      <td>P102</td>\n",
       "      <td>1.0</td>\n",
       "      <td>20000.0</td>\n",
       "      <td>COD</td>\n",
       "      <td>2023-12-08</td>\n",
       "      <td>Delivered</td>\n",
       "    </tr>\n",
       "    <tr>\n",
       "      <th>3</th>\n",
       "      <td>7</td>\n",
       "      <td>C1006</td>\n",
       "      <td>P103</td>\n",
       "      <td>1.0</td>\n",
       "      <td>55000.0</td>\n",
       "      <td>COD</td>\n",
       "      <td>2023-12-15</td>\n",
       "      <td>Delivered</td>\n",
       "    </tr>\n",
       "    <tr>\n",
       "      <th>4</th>\n",
       "      <td>8</td>\n",
       "      <td>C1006</td>\n",
       "      <td>P102</td>\n",
       "      <td>1.0</td>\n",
       "      <td>15000.0</td>\n",
       "      <td>COD</td>\n",
       "      <td>2023-12-01</td>\n",
       "      <td>delivered</td>\n",
       "    </tr>\n",
       "  </tbody>\n",
       "</table>\n",
       "</div>"
      ],
      "text/plain": [
       "   order_id customer_id product_id  quantity  total_price payment_mode  \\\n",
       "0         3       C1004       P112       1.0       1000.0          COD   \n",
       "1         4       C1005       P102       1.0      20000.0          COD   \n",
       "2         5       C1005       P102       1.0      20000.0          COD   \n",
       "3         7       C1006       P103       1.0      55000.0          COD   \n",
       "4         8       C1006       P102       1.0      15000.0          COD   \n",
       "\n",
       "  order_date order_status  \n",
       "0 2023-11-30      Pending  \n",
       "1 2023-11-30      Pending  \n",
       "2 2023-12-08    Delivered  \n",
       "3 2023-12-15    Delivered  \n",
       "4 2023-12-01    delivered  "
      ]
     },
     "execution_count": 91,
     "metadata": {},
     "output_type": "execute_result"
    }
   ],
   "source": [
    "order_df.head()"
   ]
  },
  {
   "cell_type": "code",
   "execution_count": 92,
   "id": "ccca3764-0bf3-49e4-b59a-be1c97107865",
   "metadata": {},
   "outputs": [
    {
     "data": {
      "text/html": [
       "<div>\n",
       "<style scoped>\n",
       "    .dataframe tbody tr th:only-of-type {\n",
       "        vertical-align: middle;\n",
       "    }\n",
       "\n",
       "    .dataframe tbody tr th {\n",
       "        vertical-align: top;\n",
       "    }\n",
       "\n",
       "    .dataframe thead th {\n",
       "        text-align: right;\n",
       "    }\n",
       "</style>\n",
       "<table border=\"1\" class=\"dataframe\">\n",
       "  <thead>\n",
       "    <tr style=\"text-align: right;\">\n",
       "      <th></th>\n",
       "      <th>order_id</th>\n",
       "    </tr>\n",
       "    <tr>\n",
       "      <th>order_status</th>\n",
       "      <th></th>\n",
       "    </tr>\n",
       "  </thead>\n",
       "  <tbody>\n",
       "    <tr>\n",
       "      <th>Cancelled</th>\n",
       "      <td>6</td>\n",
       "    </tr>\n",
       "    <tr>\n",
       "      <th>Delivered</th>\n",
       "      <td>27</td>\n",
       "    </tr>\n",
       "    <tr>\n",
       "      <th>Pending</th>\n",
       "      <td>25</td>\n",
       "    </tr>\n",
       "    <tr>\n",
       "      <th>Returned</th>\n",
       "      <td>1</td>\n",
       "    </tr>\n",
       "    <tr>\n",
       "      <th>Shipped</th>\n",
       "      <td>16</td>\n",
       "    </tr>\n",
       "    <tr>\n",
       "      <th>delivered</th>\n",
       "      <td>1</td>\n",
       "    </tr>\n",
       "  </tbody>\n",
       "</table>\n",
       "</div>"
      ],
      "text/plain": [
       "              order_id\n",
       "order_status          \n",
       "Cancelled            6\n",
       "Delivered           27\n",
       "Pending             25\n",
       "Returned             1\n",
       "Shipped             16\n",
       "delivered            1"
      ]
     },
     "execution_count": 92,
     "metadata": {},
     "output_type": "execute_result"
    }
   ],
   "source": [
    "pd.pivot_table(order_df,index=['order_status'],values=['order_id'],aggfunc='count')"
   ]
  },
  {
   "cell_type": "code",
   "execution_count": 93,
   "id": "b24e0937-8aca-4b31-b525-a1ca522825d1",
   "metadata": {},
   "outputs": [],
   "source": [
    "order_df['order_status'] = order_df['order_status'].replace('delivered','Delivered')"
   ]
  },
  {
   "cell_type": "code",
   "execution_count": 94,
   "id": "8d360496-8357-4ed0-ba4f-9c264eea1ea4",
   "metadata": {},
   "outputs": [
    {
     "name": "stdout",
     "output_type": "stream",
     "text": [
      "              order_id\n",
      "order_status          \n",
      "Cancelled            6\n",
      "Delivered           28\n",
      "Pending             25\n",
      "Returned             1\n",
      "Shipped             16\n"
     ]
    }
   ],
   "source": [
    "order_status_distribution=pd.pivot_table(order_df,index=['order_status'],values=['order_id'],aggfunc='count')\n",
    "print(order_status_distribution)"
   ]
  },
  {
   "cell_type": "code",
   "execution_count": 95,
   "id": "41c3c12d-ad58-489e-9a16-0ee0f249beb8",
   "metadata": {},
   "outputs": [
    {
     "data": {
      "image/png": "[encoded data removed]",
      "text/plain": [
       "<Figure size 640x480 with 1 Axes>"
      ]
     },
     "metadata": {},
     "output_type": "display_data"
    }
   ],
   "source": [
    "order_status_distribution.plot(kind='bar',color='LightGreen')\n",
    "plt.title(\"The order status distribution (e.g., pending, delivered).\")\n",
    "plt.xlabel(\"Order_Status\")\n",
    "plt.xticks(rotation=0)\n",
    "plt.ylabel(\"Numbers_of_Orders\")\n",
    "plt.show()"
   ]
  },
  {
   "cell_type": "markdown",
   "id": "84487342-0288-4d3e-b34b-9a41fb02d4db",
   "metadata": {},
   "source": [
    "**3.Identify the most popular products based on order quantity.**"
   ]
  },
  {
   "cell_type": "code",
   "execution_count": 96,
   "id": "cb842c06-7fc2-47cd-9b27-6fef07c66f92",
   "metadata": {},
   "outputs": [
    {
     "name": "stdout",
     "output_type": "stream",
     "text": [
      "product_name\n",
      "Tablet             5\n",
      "Vacuum Cleaner     4\n",
      "Air Purifier       3\n",
      "Chair              3\n",
      "Coffee Maker       3\n",
      "Digital Camera     3\n",
      "Smartwatch         3\n",
      "Television         3\n",
      "Unknown Product    3\n",
      "Blender            2\n",
      "Name: quantity, dtype: int64\n"
     ]
    }
   ],
   "source": [
    "popular_product_quantity=customer_order_df.groupby('product_name')['quantity'].count().nlargest(10)\n",
    "print(popular_product_quantity)"
   ]
  },
  {
   "cell_type": "code",
   "execution_count": 97,
   "id": "e56b6b4c-8c7f-42dd-9ddc-241f35e3baa1",
   "metadata": {},
   "outputs": [
    {
     "data": {
      "image/png": "[encoded data removed]",
      "text/plain": [
       "<Figure size 640x480 with 1 Axes>"
      ]
     },
     "metadata": {},
     "output_type": "display_data"
    }
   ],
   "source": [
    "popular_product_quantity.plot(kind='bar',color='DarkOrange')\n",
    "plt.title(\"The most popular products based on order quantity.\")\n",
    "plt.xlabel(\"Product_Name\")\n",
    "plt.ylabel(\"Quantity\")\n",
    "plt.show()"
   ]
  },
  {
   "cell_type": "markdown",
   "id": "bdae1909-0e54-461b-817b-f83812674098",
   "metadata": {},
   "source": [
    "<h3>Sales Analysis:.</h3>"
   ]
  },
  {
   "cell_type": "code",
   "execution_count": 98,
   "id": "038f7e55-6286-428f-8221-b3c160765a20",
   "metadata": {},
   "outputs": [
    {
     "data": {
      "text/html": [
       "<div>\n",
       "<style scoped>\n",
       "    .dataframe tbody tr th:only-of-type {\n",
       "        vertical-align: middle;\n",
       "    }\n",
       "\n",
       "    .dataframe tbody tr th {\n",
       "        vertical-align: top;\n",
       "    }\n",
       "\n",
       "    .dataframe thead th {\n",
       "        text-align: right;\n",
       "    }\n",
       "</style>\n",
       "<table border=\"1\" class=\"dataframe\">\n",
       "  <thead>\n",
       "    <tr style=\"text-align: right;\">\n",
       "      <th></th>\n",
       "      <th>customer_id</th>\n",
       "      <th>customer_name</th>\n",
       "      <th>city</th>\n",
       "      <th>email</th>\n",
       "      <th>phone_no</th>\n",
       "      <th>address</th>\n",
       "      <th>pin_code</th>\n",
       "      <th>order_id</th>\n",
       "      <th>product_id</th>\n",
       "      <th>quantity</th>\n",
       "      <th>total_price</th>\n",
       "      <th>payment_mode</th>\n",
       "      <th>order_date</th>\n",
       "      <th>order_status</th>\n",
       "      <th>product_name</th>\n",
       "      <th>category</th>\n",
       "      <th>sub_category</th>\n",
       "      <th>original_price</th>\n",
       "      <th>selling_price</th>\n",
       "    </tr>\n",
       "  </thead>\n",
       "  <tbody>\n",
       "    <tr>\n",
       "      <th>0</th>\n",
       "      <td>C1001</td>\n",
       "      <td>Steve</td>\n",
       "      <td>Tokyo</td>\n",
       "      <td>steve@gmail.com</td>\n",
       "      <td>4567897652</td>\n",
       "      <td>f.g.road</td>\n",
       "      <td>99</td>\n",
       "      <td>51.144737</td>\n",
       "      <td>P000</td>\n",
       "      <td>1.355263</td>\n",
       "      <td>20873.684211</td>\n",
       "      <td>COD</td>\n",
       "      <td>2023-12-19</td>\n",
       "      <td>Pending</td>\n",
       "      <td>Unknown Product</td>\n",
       "      <td>Unknown</td>\n",
       "      <td>Not Mention</td>\n",
       "      <td>20019.736842</td>\n",
       "      <td>16973.684211</td>\n",
       "    </tr>\n",
       "    <tr>\n",
       "      <th>1</th>\n",
       "      <td>C1002</td>\n",
       "      <td>john</td>\n",
       "      <td>Sydney</td>\n",
       "      <td>john@gmail.com</td>\n",
       "      <td>9987234567</td>\n",
       "      <td>k.c.road</td>\n",
       "      <td>75001</td>\n",
       "      <td>51.144737</td>\n",
       "      <td>P000</td>\n",
       "      <td>1.355263</td>\n",
       "      <td>20873.684211</td>\n",
       "      <td>COD</td>\n",
       "      <td>2023-12-19</td>\n",
       "      <td>Pending</td>\n",
       "      <td>Unknown Product</td>\n",
       "      <td>Unknown</td>\n",
       "      <td>Not Mention</td>\n",
       "      <td>20019.736842</td>\n",
       "      <td>16973.684211</td>\n",
       "    </tr>\n",
       "    <tr>\n",
       "      <th>2</th>\n",
       "      <td>C1003</td>\n",
       "      <td>Peter</td>\n",
       "      <td>Kanagawa</td>\n",
       "      <td>peter.parker@mail.com</td>\n",
       "      <td>9969834567</td>\n",
       "      <td>2F Ikenobecho</td>\n",
       "      <td>171</td>\n",
       "      <td>10.000000</td>\n",
       "      <td>P105</td>\n",
       "      <td>1.000000</td>\n",
       "      <td>450.000000</td>\n",
       "      <td>COD</td>\n",
       "      <td>2023-12-19</td>\n",
       "      <td>Pending</td>\n",
       "      <td>Blender</td>\n",
       "      <td>Appliance</td>\n",
       "      <td>Electronics</td>\n",
       "      <td>500.000000</td>\n",
       "      <td>450.000000</td>\n",
       "    </tr>\n",
       "    <tr>\n",
       "      <th>3</th>\n",
       "      <td>C1003</td>\n",
       "      <td>Peter</td>\n",
       "      <td>Kanagawa</td>\n",
       "      <td>peter.parker@mail.com</td>\n",
       "      <td>9969834567</td>\n",
       "      <td>2F Ikenobecho</td>\n",
       "      <td>171</td>\n",
       "      <td>11.000000</td>\n",
       "      <td>P103</td>\n",
       "      <td>1.000000</td>\n",
       "      <td>55000.000000</td>\n",
       "      <td>COD</td>\n",
       "      <td>2023-12-21</td>\n",
       "      <td>Pending</td>\n",
       "      <td>Laptop</td>\n",
       "      <td>Electronics</td>\n",
       "      <td>computer</td>\n",
       "      <td>60000.000000</td>\n",
       "      <td>55000.000000</td>\n",
       "    </tr>\n",
       "    <tr>\n",
       "      <th>4</th>\n",
       "      <td>C1004</td>\n",
       "      <td>Jackson</td>\n",
       "      <td>Tokyo</td>\n",
       "      <td>Jackson@gmail.com</td>\n",
       "      <td>7765834567</td>\n",
       "      <td>24-2, Sendagaya</td>\n",
       "      <td>8429</td>\n",
       "      <td>3.000000</td>\n",
       "      <td>P112</td>\n",
       "      <td>1.000000</td>\n",
       "      <td>1000.000000</td>\n",
       "      <td>COD</td>\n",
       "      <td>2023-11-30</td>\n",
       "      <td>Pending</td>\n",
       "      <td>chair</td>\n",
       "      <td>Furniture</td>\n",
       "      <td>chairs</td>\n",
       "      <td>1000.000000</td>\n",
       "      <td>800.000000</td>\n",
       "    </tr>\n",
       "  </tbody>\n",
       "</table>\n",
       "</div>"
      ],
      "text/plain": [
       "  customer_id customer_name      city                  email    phone_no  \\\n",
       "0       C1001         Steve     Tokyo        steve@gmail.com  4567897652   \n",
       "1       C1002          john    Sydney         john@gmail.com  9987234567   \n",
       "2       C1003         Peter  Kanagawa  peter.parker@mail.com  9969834567   \n",
       "3       C1003         Peter  Kanagawa  peter.parker@mail.com  9969834567   \n",
       "4       C1004       Jackson     Tokyo      Jackson@gmail.com  7765834567   \n",
       "\n",
       "           address  pin_code   order_id product_id  quantity   total_price  \\\n",
       "0         f.g.road        99  51.144737       P000  1.355263  20873.684211   \n",
       "1         k.c.road     75001  51.144737       P000  1.355263  20873.684211   \n",
       "2    2F Ikenobecho       171  10.000000       P105  1.000000    450.000000   \n",
       "3    2F Ikenobecho       171  11.000000       P103  1.000000  55000.000000   \n",
       "4  24-2, Sendagaya      8429   3.000000       P112  1.000000   1000.000000   \n",
       "\n",
       "  payment_mode order_date order_status     product_name     category  \\\n",
       "0          COD 2023-12-19      Pending  Unknown Product      Unknown   \n",
       "1          COD 2023-12-19      Pending  Unknown Product      Unknown   \n",
       "2          COD 2023-12-19      Pending          Blender    Appliance   \n",
       "3          COD 2023-12-21      Pending           Laptop  Electronics   \n",
       "4          COD 2023-11-30      Pending            chair    Furniture   \n",
       "\n",
       "  sub_category  original_price  selling_price  \n",
       "0  Not Mention    20019.736842   16973.684211  \n",
       "1  Not Mention    20019.736842   16973.684211  \n",
       "2  Electronics      500.000000     450.000000  \n",
       "3     computer    60000.000000   55000.000000  \n",
       "4       chairs     1000.000000     800.000000  "
      ]
     },
     "execution_count": 98,
     "metadata": {},
     "output_type": "execute_result"
    }
   ],
   "source": [
    "customer_order_df.head()"
   ]
  },
  {
   "cell_type": "markdown",
   "id": "28f87e01-fc8e-4076-94a6-ff8182acc6f3",
   "metadata": {},
   "source": [
    "**1.Calculate total revenue generated from orders product wise.**"
   ]
  },
  {
   "cell_type": "code",
   "execution_count": 99,
   "id": "0cf9e492-9809-412c-87b5-04a6aeda1bc3",
   "metadata": {},
   "outputs": [
    {
     "name": "stdout",
     "output_type": "stream",
     "text": [
      "0    28289.33518\n",
      "1    28289.33518\n",
      "2      450.00000\n",
      "3    55000.00000\n",
      "4     1000.00000\n",
      "5    20000.00000\n",
      "6    20000.00000\n",
      "7      450.00000\n",
      "8    55000.00000\n",
      "9    15000.00000\n",
      "Name: Total_Revenue_OP, dtype: float64\n"
     ]
    }
   ],
   "source": [
    "customer_order_df['Total_Revenue_OP']=customer_order_df['total_price']*customer_order_df['quantity']\n",
    "print(customer_order_df['Total_Revenue_OP'].head(10))"
   ]
  },
  {
   "cell_type": "code",
   "execution_count": 100,
   "id": "10a3b8ff-5424-4506-83d2-c9f96e23c215",
   "metadata": {},
   "outputs": [
    {
     "name": "stdout",
     "output_type": "stream",
     "text": [
      "product_name\n",
      "Tablet             297000.00000\n",
      "Television         208000.00000\n",
      "Sofa Set           180000.00000\n",
      "Desk               148000.00000\n",
      "Smartwatch         140000.00000\n",
      "Vacuum Cleaner     139000.00000\n",
      "Laptop             110000.00000\n",
      "Air Purifier       100000.00000\n",
      "Unknown Product     84868.00554\n",
      "Microwave           78000.00000\n",
      "Name: Total_Revenue_OP, dtype: float64\n"
     ]
    },
    {
     "data": {
      "image/png": "[encoded data removed]",
      "text/plain": [
       "<Figure size 640x480 with 1 Axes>"
      ]
     },
     "metadata": {},
     "output_type": "display_data"
    }
   ],
   "source": [
    "Total_revenue_product_wise=customer_order_df.groupby('product_name')['Total_Revenue_OP'].sum().nlargest(10)\n",
    "print(Total_revenue_product_wise)\n",
    "Total_revenue_product_wise.plot(kind='bar',color='yellow')\n",
    "plt.title(\"Total revenue generated from orders product wise.\")\n",
    "plt.xlabel(\"Product_Name\")\n",
    "plt.ylabel(\"Total_Revenue\")\n",
    "plt.show()"
   ]
  },
  {
   "cell_type": "markdown",
   "id": "94de3d26-08dd-4a99-98ac-356e1e9e63ca",
   "metadata": {},
   "source": [
    "**2.Calculate the total revenue generated from all orders**"
   ]
  },
  {
   "cell_type": "code",
   "execution_count": 101,
   "id": "6df7f241-1abd-4b53-ae59-11542a541790",
   "metadata": {},
   "outputs": [
    {
     "name": "stdout",
     "output_type": "stream",
     "text": [
      "Total revenue all orders product wise : 2369268.005540166\n"
     ]
    },
    {
     "data": {
      "text/plain": [
       "<function matplotlib.pyplot.show(close=None, block=None)>"
      ]
     },
     "execution_count": 101,
     "metadata": {},
     "output_type": "execute_result"
    },
    {
     "data": {
      "image/png": "[encoded data removed]",
      "text/plain": [
       "<Figure size 640x480 with 1 Axes>"
      ]
     },
     "metadata": {},
     "output_type": "display_data"
    }
   ],
   "source": [
    "Total_revenue_all_product_wise=customer_order_df['Total_Revenue_OP'].sum()\n",
    "print(\"Total revenue all orders product wise :\",Total_revenue_all_product_wise)\n",
    "plt.bar(['Total_Revenue_OP'], [Total_revenue_all_product_wise], color='Green')\n",
    "plt.title('The total revenue generated from all orders')\n",
    "plt.show"
   ]
  },
  {
   "cell_type": "markdown",
   "id": "78a6cfba-ac47-443b-b819-88236827ccde",
   "metadata": {},
   "source": [
    "**3.Calculate total revenue product category wise percentage.**"
   ]
  },
  {
   "cell_type": "code",
   "execution_count": 102,
   "id": "e27b73f9-1c04-4080-b8f8-0b522031ec51",
   "metadata": {},
   "outputs": [
    {
     "name": "stdout",
     "output_type": "stream",
     "text": [
      "             quantity\n",
      "category             \n",
      "Appliance          27\n",
      "Electronics        34\n",
      "Furniture          15\n",
      "Unknown             3\n"
     ]
    }
   ],
   "source": [
    "category_quantity=pd.pivot_table(customer_order_df,index=['category'],values=['quantity'],aggfunc='count')\n",
    "print(category_quantity)"
   ]
  },
  {
   "cell_type": "code",
   "execution_count": 121,
   "id": "091df483-235b-48db-8d79-7de8b9d5866c",
   "metadata": {},
   "outputs": [
    {
     "data": {
      "image/png": "[encoded data removed]",
      "text/plain": [
       "<Figure size 640x480 with 1 Axes>"
      ]
     },
     "metadata": {},
     "output_type": "display_data"
    }
   ],
   "source": [
    "values=category_quantity.values.flatten()\n",
    "plt.title(\"Total revenue product category wise percentage.\")\n",
    "plt.pie(values, autopct='%1.2f%%',colors=[\"Pink\",\"Aqua\",\"LightGreen\",\"yellow\"],labels=['Appliance','Electronics','Furniture','Unknown'])\n",
    "plt.show()"
   ]
  },
  {
   "cell_type": "markdown",
   "id": "e8988287-e370-4733-94a2-9f5075e72526",
   "metadata": {},
   "source": [
    "**4.Analyze the performance of different product categories in terms of sales.**"
   ]
  },
  {
   "cell_type": "code",
   "execution_count": 104,
   "id": "6750c817-8e0e-4a7a-97a0-1aa55463ed4a",
   "metadata": {},
   "outputs": [
    {
     "name": "stdout",
     "output_type": "stream",
     "text": [
      "category\n",
      "Appliance      327900.000000\n",
      "Electronics    829000.000000\n",
      "Furniture      429500.000000\n",
      "Unknown         62621.052632\n",
      "Name: total_price, dtype: float64\n"
     ]
    }
   ],
   "source": [
    "#Group by 'category' and calculate the total sales for each category.\n",
    "sales_by_category = customer_order_df.groupby('category')['total_price'].sum()\n",
    "print(sales_by_category)"
   ]
  },
  {
   "cell_type": "code",
   "execution_count": 119,
   "id": "4982ada4-1a30-49e9-aa1e-3b8f959c9613",
   "metadata": {},
   "outputs": [
    {
     "data": {
      "image/png": "[encoded data removed]",
      "text/plain": [
       "<Figure size 1000x400 with 1 Axes>"
      ]
     },
     "metadata": {},
     "output_type": "display_data"
    }
   ],
   "source": [
    "#Create a bar plot to visualize sales performance by product category\n",
    "plt.figure(figsize=(10, 4))\n",
    "sales_by_category.sort_values(ascending=False).plot(kind='bar', color='blue')\n",
    "plt.title('Sales Performance by Product Category')\n",
    "plt.xlabel('Product Category')\n",
    "plt.ylabel('Total Sales')\n",
    "plt.show()"
   ]
  },
  {
   "cell_type": "markdown",
   "id": "b1c7a936-0e0d-4852-a7b0-53cece4dca19",
   "metadata": {},
   "source": [
    "**5.Identify the most profitable products based on the difference between\n",
    "original and selling prices.**"
   ]
  },
  {
   "cell_type": "code",
   "execution_count": 106,
   "id": "9dda47b4-f9c2-4ea5-87f2-d0c8fb4917f8",
   "metadata": {},
   "outputs": [
    {
     "data": {
      "text/html": [
       "<div>\n",
       "<style scoped>\n",
       "    .dataframe tbody tr th:only-of-type {\n",
       "        vertical-align: middle;\n",
       "    }\n",
       "\n",
       "    .dataframe tbody tr th {\n",
       "        vertical-align: top;\n",
       "    }\n",
       "\n",
       "    .dataframe thead th {\n",
       "        text-align: right;\n",
       "    }\n",
       "</style>\n",
       "<table border=\"1\" class=\"dataframe\">\n",
       "  <thead>\n",
       "    <tr style=\"text-align: right;\">\n",
       "      <th></th>\n",
       "      <th>product_id</th>\n",
       "      <th>product_name</th>\n",
       "      <th>category</th>\n",
       "      <th>sub_category</th>\n",
       "      <th>original_price</th>\n",
       "      <th>selling_price</th>\n",
       "      <th>stock</th>\n",
       "    </tr>\n",
       "  </thead>\n",
       "  <tbody>\n",
       "    <tr>\n",
       "      <th>0</th>\n",
       "      <td>P102</td>\n",
       "      <td>Chair</td>\n",
       "      <td>Furniture</td>\n",
       "      <td>Chairs</td>\n",
       "      <td>20000.0</td>\n",
       "      <td>15000.00</td>\n",
       "      <td>10</td>\n",
       "    </tr>\n",
       "    <tr>\n",
       "      <th>1</th>\n",
       "      <td>P103</td>\n",
       "      <td>Laptop</td>\n",
       "      <td>Electronics</td>\n",
       "      <td>computer</td>\n",
       "      <td>60000.0</td>\n",
       "      <td>55000.00</td>\n",
       "      <td>50</td>\n",
       "    </tr>\n",
       "    <tr>\n",
       "      <th>2</th>\n",
       "      <td>P104</td>\n",
       "      <td>Smartphone</td>\n",
       "      <td>Electronics</td>\n",
       "      <td>phone</td>\n",
       "      <td>45000.0</td>\n",
       "      <td>40000.00</td>\n",
       "      <td>20</td>\n",
       "    </tr>\n",
       "    <tr>\n",
       "      <th>3</th>\n",
       "      <td>P105</td>\n",
       "      <td>Blender</td>\n",
       "      <td>Appliance</td>\n",
       "      <td>Electronics</td>\n",
       "      <td>500.0</td>\n",
       "      <td>450.00</td>\n",
       "      <td>10</td>\n",
       "    </tr>\n",
       "    <tr>\n",
       "      <th>4</th>\n",
       "      <td>P106</td>\n",
       "      <td>Laptop HP</td>\n",
       "      <td>Electronics</td>\n",
       "      <td>Computers</td>\n",
       "      <td>67200.0</td>\n",
       "      <td>55000.99</td>\n",
       "      <td>50</td>\n",
       "    </tr>\n",
       "  </tbody>\n",
       "</table>\n",
       "</div>"
      ],
      "text/plain": [
       "  product_id product_name     category sub_category  original_price  \\\n",
       "0       P102        Chair    Furniture       Chairs         20000.0   \n",
       "1       P103       Laptop  Electronics     computer         60000.0   \n",
       "2       P104   Smartphone  Electronics        phone         45000.0   \n",
       "3       P105      Blender    Appliance  Electronics           500.0   \n",
       "4       P106    Laptop HP  Electronics    Computers         67200.0   \n",
       "\n",
       "   selling_price  stock  \n",
       "0       15000.00     10  \n",
       "1       55000.00     50  \n",
       "2       40000.00     20  \n",
       "3         450.00     10  \n",
       "4       55000.99     50  "
      ]
     },
     "execution_count": 106,
     "metadata": {},
     "output_type": "execute_result"
    }
   ],
   "source": [
    "product_df.head()"
   ]
  },
  {
   "cell_type": "code",
   "execution_count": 107,
   "id": "4a66e510-6320-4415-a6c8-8bcce278f216",
   "metadata": {},
   "outputs": [
    {
     "name": "stdout",
     "output_type": "stream",
     "text": [
      "0    -5000.00\n",
      "1    -5000.00\n",
      "2    -5000.00\n",
      "3      -50.00\n",
      "4   -12199.01\n",
      "Name: Diff_Original_Selling, dtype: float64\n"
     ]
    }
   ],
   "source": [
    "product_df['Diff_Original_Selling']=product_df['selling_price']-product_df['original_price']\n",
    "print(product_df['Diff_Original_Selling'].head())"
   ]
  },
  {
   "cell_type": "code",
   "execution_count": 108,
   "id": "4356864c-8a6e-4d86-9dcb-2cfd25242e8c",
   "metadata": {},
   "outputs": [
    {
     "name": "stdout",
     "output_type": "stream",
     "text": [
      "product_name\n",
      "Blender                 -50.0\n",
      "chair                  -200.0\n",
      "Desk Lamp              -500.0\n",
      "Gaming Mouse           -500.0\n",
      "Portable Speaker       -500.0\n",
      "Smart Scale            -500.0\n",
      "Wireless Mouse         -500.0\n",
      "Car Vacuum            -1000.0\n",
      "Coffee Maker          -1000.0\n",
      "Electric Toothbrush   -1000.0\n",
      "Name: Diff_Original_Selling, dtype: float64\n"
     ]
    },
    {
     "data": {
      "image/png": "[encoded data removed]",
      "text/plain": [
       "<Figure size 640x480 with 1 Axes>"
      ]
     },
     "metadata": {},
     "output_type": "display_data"
    }
   ],
   "source": [
    "profitable_products=product_df.groupby('product_name')['Diff_Original_Selling'].max().nlargest(10)\n",
    "print(profitable_products)\n",
    "profitable_products.plot(kind='bar',color='pink')\n",
    "plt.title(\"The most profitable products based on the difference between original and selling prices.\")\n",
    "plt.xlabel(\"Product_Name\")\n",
    "plt.ylabel(\"Profit(Selling_price - Original_price)\")\n",
    "plt.show()"
   ]
  },
  {
   "cell_type": "markdown",
   "id": "5f139f8e-c690-4f05-a139-8b6608709a15",
   "metadata": {},
   "source": [
    "<h3>Customer Order Pattern:</h3>"
   ]
  },
  {
   "cell_type": "markdown",
   "id": "0202b593-3984-4bcc-8a47-9edc8935dde7",
   "metadata": {},
   "source": [
    "**1.Identify product names with the highest and lowest order quantities.**"
   ]
  },
  {
   "cell_type": "code",
   "execution_count": 109,
   "id": "ac3d7f20-9d00-4152-8b91-0c75c69e0da2",
   "metadata": {},
   "outputs": [
    {
     "data": {
      "text/html": [
       "<div>\n",
       "<style scoped>\n",
       "    .dataframe tbody tr th:only-of-type {\n",
       "        vertical-align: middle;\n",
       "    }\n",
       "\n",
       "    .dataframe tbody tr th {\n",
       "        vertical-align: top;\n",
       "    }\n",
       "\n",
       "    .dataframe thead th {\n",
       "        text-align: right;\n",
       "    }\n",
       "</style>\n",
       "<table border=\"1\" class=\"dataframe\">\n",
       "  <thead>\n",
       "    <tr style=\"text-align: right;\">\n",
       "      <th></th>\n",
       "      <th>customer_id</th>\n",
       "      <th>customer_name</th>\n",
       "      <th>city</th>\n",
       "      <th>email</th>\n",
       "      <th>phone_no</th>\n",
       "      <th>address</th>\n",
       "      <th>pin_code</th>\n",
       "      <th>order_id</th>\n",
       "      <th>product_id</th>\n",
       "      <th>quantity</th>\n",
       "      <th>total_price</th>\n",
       "      <th>payment_mode</th>\n",
       "      <th>order_date</th>\n",
       "      <th>order_status</th>\n",
       "      <th>product_name</th>\n",
       "      <th>category</th>\n",
       "      <th>sub_category</th>\n",
       "      <th>original_price</th>\n",
       "      <th>selling_price</th>\n",
       "      <th>Total_Revenue_OP</th>\n",
       "    </tr>\n",
       "  </thead>\n",
       "  <tbody>\n",
       "    <tr>\n",
       "      <th>0</th>\n",
       "      <td>C1001</td>\n",
       "      <td>Steve</td>\n",
       "      <td>Tokyo</td>\n",
       "      <td>steve@gmail.com</td>\n",
       "      <td>4567897652</td>\n",
       "      <td>f.g.road</td>\n",
       "      <td>99</td>\n",
       "      <td>51.144737</td>\n",
       "      <td>P000</td>\n",
       "      <td>1.355263</td>\n",
       "      <td>20873.684211</td>\n",
       "      <td>COD</td>\n",
       "      <td>2023-12-19</td>\n",
       "      <td>Pending</td>\n",
       "      <td>Unknown Product</td>\n",
       "      <td>Unknown</td>\n",
       "      <td>Not Mention</td>\n",
       "      <td>20019.736842</td>\n",
       "      <td>16973.684211</td>\n",
       "      <td>28289.33518</td>\n",
       "    </tr>\n",
       "    <tr>\n",
       "      <th>1</th>\n",
       "      <td>C1002</td>\n",
       "      <td>john</td>\n",
       "      <td>Sydney</td>\n",
       "      <td>john@gmail.com</td>\n",
       "      <td>9987234567</td>\n",
       "      <td>k.c.road</td>\n",
       "      <td>75001</td>\n",
       "      <td>51.144737</td>\n",
       "      <td>P000</td>\n",
       "      <td>1.355263</td>\n",
       "      <td>20873.684211</td>\n",
       "      <td>COD</td>\n",
       "      <td>2023-12-19</td>\n",
       "      <td>Pending</td>\n",
       "      <td>Unknown Product</td>\n",
       "      <td>Unknown</td>\n",
       "      <td>Not Mention</td>\n",
       "      <td>20019.736842</td>\n",
       "      <td>16973.684211</td>\n",
       "      <td>28289.33518</td>\n",
       "    </tr>\n",
       "    <tr>\n",
       "      <th>2</th>\n",
       "      <td>C1003</td>\n",
       "      <td>Peter</td>\n",
       "      <td>Kanagawa</td>\n",
       "      <td>peter.parker@mail.com</td>\n",
       "      <td>9969834567</td>\n",
       "      <td>2F Ikenobecho</td>\n",
       "      <td>171</td>\n",
       "      <td>10.000000</td>\n",
       "      <td>P105</td>\n",
       "      <td>1.000000</td>\n",
       "      <td>450.000000</td>\n",
       "      <td>COD</td>\n",
       "      <td>2023-12-19</td>\n",
       "      <td>Pending</td>\n",
       "      <td>Blender</td>\n",
       "      <td>Appliance</td>\n",
       "      <td>Electronics</td>\n",
       "      <td>500.000000</td>\n",
       "      <td>450.000000</td>\n",
       "      <td>450.00000</td>\n",
       "    </tr>\n",
       "    <tr>\n",
       "      <th>3</th>\n",
       "      <td>C1003</td>\n",
       "      <td>Peter</td>\n",
       "      <td>Kanagawa</td>\n",
       "      <td>peter.parker@mail.com</td>\n",
       "      <td>9969834567</td>\n",
       "      <td>2F Ikenobecho</td>\n",
       "      <td>171</td>\n",
       "      <td>11.000000</td>\n",
       "      <td>P103</td>\n",
       "      <td>1.000000</td>\n",
       "      <td>55000.000000</td>\n",
       "      <td>COD</td>\n",
       "      <td>2023-12-21</td>\n",
       "      <td>Pending</td>\n",
       "      <td>Laptop</td>\n",
       "      <td>Electronics</td>\n",
       "      <td>computer</td>\n",
       "      <td>60000.000000</td>\n",
       "      <td>55000.000000</td>\n",
       "      <td>55000.00000</td>\n",
       "    </tr>\n",
       "    <tr>\n",
       "      <th>4</th>\n",
       "      <td>C1004</td>\n",
       "      <td>Jackson</td>\n",
       "      <td>Tokyo</td>\n",
       "      <td>Jackson@gmail.com</td>\n",
       "      <td>7765834567</td>\n",
       "      <td>24-2, Sendagaya</td>\n",
       "      <td>8429</td>\n",
       "      <td>3.000000</td>\n",
       "      <td>P112</td>\n",
       "      <td>1.000000</td>\n",
       "      <td>1000.000000</td>\n",
       "      <td>COD</td>\n",
       "      <td>2023-11-30</td>\n",
       "      <td>Pending</td>\n",
       "      <td>chair</td>\n",
       "      <td>Furniture</td>\n",
       "      <td>chairs</td>\n",
       "      <td>1000.000000</td>\n",
       "      <td>800.000000</td>\n",
       "      <td>1000.00000</td>\n",
       "    </tr>\n",
       "  </tbody>\n",
       "</table>\n",
       "</div>"
      ],
      "text/plain": [
       "  customer_id customer_name      city                  email    phone_no  \\\n",
       "0       C1001         Steve     Tokyo        steve@gmail.com  4567897652   \n",
       "1       C1002          john    Sydney         john@gmail.com  9987234567   \n",
       "2       C1003         Peter  Kanagawa  peter.parker@mail.com  9969834567   \n",
       "3       C1003         Peter  Kanagawa  peter.parker@mail.com  9969834567   \n",
       "4       C1004       Jackson     Tokyo      Jackson@gmail.com  7765834567   \n",
       "\n",
       "           address  pin_code   order_id product_id  quantity   total_price  \\\n",
       "0         f.g.road        99  51.144737       P000  1.355263  20873.684211   \n",
       "1         k.c.road     75001  51.144737       P000  1.355263  20873.684211   \n",
       "2    2F Ikenobecho       171  10.000000       P105  1.000000    450.000000   \n",
       "3    2F Ikenobecho       171  11.000000       P103  1.000000  55000.000000   \n",
       "4  24-2, Sendagaya      8429   3.000000       P112  1.000000   1000.000000   \n",
       "\n",
       "  payment_mode order_date order_status     product_name     category  \\\n",
       "0          COD 2023-12-19      Pending  Unknown Product      Unknown   \n",
       "1          COD 2023-12-19      Pending  Unknown Product      Unknown   \n",
       "2          COD 2023-12-19      Pending          Blender    Appliance   \n",
       "3          COD 2023-12-21      Pending           Laptop  Electronics   \n",
       "4          COD 2023-11-30      Pending            chair    Furniture   \n",
       "\n",
       "  sub_category  original_price  selling_price  Total_Revenue_OP  \n",
       "0  Not Mention    20019.736842   16973.684211       28289.33518  \n",
       "1  Not Mention    20019.736842   16973.684211       28289.33518  \n",
       "2  Electronics      500.000000     450.000000         450.00000  \n",
       "3     computer    60000.000000   55000.000000       55000.00000  \n",
       "4       chairs     1000.000000     800.000000        1000.00000  "
      ]
     },
     "execution_count": 109,
     "metadata": {},
     "output_type": "execute_result"
    }
   ],
   "source": [
    "customer_order_df.head()"
   ]
  },
  {
   "cell_type": "code",
   "execution_count": 110,
   "id": "fb174848-2de2-4e56-a90d-d7d969532854",
   "metadata": {},
   "outputs": [
    {
     "name": "stdout",
     "output_type": "stream",
     "text": [
      "                     quantity\n",
      "product_name                 \n",
      "Air Purifier         4.000000\n",
      "Blender              2.000000\n",
      "Bluetooth Speaker    3.000000\n",
      "Car Vacuum           2.000000\n",
      "Chair                3.000000\n",
      "Coffee Maker         4.000000\n",
      "Desk                 4.000000\n",
      "Desk Lamp            4.000000\n",
      "Digital Camera       3.000000\n",
      "Dining Table         2.000000\n",
      "Dishwasher           1.000000\n",
      "Electric Toothbrush  1.000000\n",
      "External Hard Drive  2.000000\n",
      "Fitness Tracker      4.000000\n",
      "Gaming Console       2.000000\n",
      "Gaming Mouse         1.000000\n",
      "Headphones           3.000000\n",
      "Laptop               2.000000\n",
      "Microwave            4.000000\n",
      "Microwave Oven       2.000000\n",
      "Monitor              1.000000\n",
      "Portable Charger     1.000000\n",
      "Portable Speaker     1.000000\n",
      "Printer              3.000000\n",
      "Projector            1.000000\n",
      "Recliner             1.000000\n",
      "Refrigerator         3.000000\n",
      "Smart Scale          1.000000\n",
      "Smart Speaker        1.000000\n",
      "Smartwatch           5.000000\n",
      "Sofa                 3.000000\n",
      "Sofa Set             2.000000\n",
      "Streaming Device     1.000000\n",
      "Tablet               7.000000\n",
      "Television           4.000000\n",
      "Unknown Product      4.065789\n",
      "Vacuum Cleaner       7.000000\n",
      "Water Purifier       1.000000\n",
      "Wireless Earbuds     2.000000\n",
      "Wireless Mouse       3.000000\n",
      "chair                2.000000\n"
     ]
    }
   ],
   "source": [
    "product_order=pd.pivot_table(customer_order_df,index=['product_name'],values=['quantity'],aggfunc='sum')\n",
    "print(product_order)"
   ]
  },
  {
   "cell_type": "markdown",
   "id": "2e7a6562-245b-408f-b85f-23ab0a730487",
   "metadata": {},
   "source": [
    "**2.Identify customers with the highest and lowest order quantities by customer name.**"
   ]
  },
  {
   "cell_type": "code",
   "execution_count": null,
   "id": "c7b2a730-c3fc-445f-85d2-127d81c4e8a1",
   "metadata": {},
   "outputs": [],
   "source": []
  },
  {
   "cell_type": "markdown",
   "id": "6e62accd-2b4d-426b-b448-09e1bafed911",
   "metadata": {},
   "source": [
    "**3.Determine the most preferred payment modes.**"
   ]
  },
  {
   "cell_type": "code",
   "execution_count": 111,
   "id": "36f1ff61-670e-46c0-b12a-75567c450069",
   "metadata": {},
   "outputs": [
    {
     "name": "stdout",
     "output_type": "stream",
     "text": [
      "payment_mode\n",
      "Online    44\n",
      "COD       35\n",
      "Name: count, dtype: int64\n"
     ]
    },
    {
     "data": {
      "image/png": "[encoded data removed]",
      "text/plain": [
       "<Figure size 640x480 with 1 Axes>"
      ]
     },
     "metadata": {},
     "output_type": "display_data"
    }
   ],
   "source": [
    "preferred_pay_mode=customer_order_df['payment_mode'].value_counts()\n",
    "print(preferred_pay_mode)\n",
    "preferred_pay_mode.plot(kind='bar',color='DarkOrange')\n",
    "plt.title('The most preferred payment modes')\n",
    "plt.xlabel('payment_mode')\n",
    "plt.xticks(rotation=0)\n",
    "plt.ylabel('Frequency')\n",
    "plt.show()"
   ]
  },
  {
   "cell_type": "markdown",
   "id": "0cc3bb5a-5acb-44da-b860-c1916c6f9f06",
   "metadata": {},
   "source": [
    "<h3>Time Based Analysis</h3>"
   ]
  },
  {
   "cell_type": "markdown",
   "id": "8645ac9b-ad80-43b5-8713-e2eae886a816",
   "metadata": {},
   "source": [
    "<h3>Geographical Analysis</h3>"
   ]
  },
  {
   "cell_type": "markdown",
   "id": "38ab1d3f-6bf9-4571-a50f-ad542bf8310f",
   "metadata": {},
   "source": [
    "**1.Explore the distribution of customers across different cities.**"
   ]
  },
  {
   "cell_type": "code",
   "execution_count": 112,
   "id": "049a1183-f744-404f-9742-4f34f4d912ea",
   "metadata": {},
   "outputs": [
    {
     "name": "stdout",
     "output_type": "stream",
     "text": [
      "city\n",
      "Kanagawa            25\n",
      "Tokyo               24\n",
      "Sydney              15\n",
      "Lake Buena Vista    15\n",
      "Name: count, dtype: int64\n"
     ]
    },
    {
     "data": {
      "image/png": "[encoded data removed]",
      "text/plain": [
       "<Figure size 640x480 with 1 Axes>"
      ]
     },
     "metadata": {},
     "output_type": "display_data"
    }
   ],
   "source": [
    "customer_city=customer_order_df['city'].value_counts()\n",
    "print(customer_city)\n",
    "customer_city.plot(kind='bar',color='ForestGreen')\n",
    "plt.title('The distribution of customers across different cities.')\n",
    "plt.xlabel('Cities')\n",
    "plt.xticks(rotation=0)\n",
    "plt.ylabel('Frequency')\n",
    "plt.show()"
   ]
  },
  {
   "cell_type": "markdown",
   "id": "b600debf-6142-49b6-bf52-5f15ecf76f4d",
   "metadata": {},
   "source": [
    "**2.Analyze whether certain products or categories are more popular in a \n",
    "specific city.**"
   ]
  },
  {
   "cell_type": "code",
   "execution_count": 113,
   "id": "7c423d46-cf0c-4270-bdac-6d79eea4c21c",
   "metadata": {},
   "outputs": [
    {
     "name": "stdout",
     "output_type": "stream",
     "text": [
      "                              quantity\n",
      "city             category             \n",
      "Kanagawa         Appliance           8\n",
      "                 Electronics        11\n",
      "                 Furniture           6\n",
      "Lake Buena Vista Appliance           4\n",
      "                 Electronics         7\n",
      "                 Furniture           4\n",
      "Sydney           Appliance           5\n",
      "                 Electronics         7\n",
      "                 Furniture           2\n",
      "                 Unknown             1\n",
      "Tokyo            Appliance          10\n",
      "                 Electronics         9\n",
      "                 Furniture           3\n",
      "                 Unknown             2\n"
     ]
    }
   ],
   "source": [
    "category_basedon_city=pd.pivot_table(customer_order_df,index=['city','category'],values=['quantity'],aggfunc='count')\n",
    "print(category_basedon_city)"
   ]
  },
  {
   "cell_type": "code",
   "execution_count": 114,
   "id": "48fe395e-f90c-46fb-b7bf-8a28673186cc",
   "metadata": {},
   "outputs": [
    {
     "data": {
      "image/png": "[encoded data removed]",
      "text/plain": [
       "<Figure size 640x480 with 2 Axes>"
      ]
     },
     "metadata": {},
     "output_type": "display_data"
    }
   ],
   "source": [
    "# analyzing whether certain products or categories are more popular in a specific city \n",
    "city_product_popularity = customer_order_df.groupby(['city', 'category'])['quantity'].sum().unstack()\n",
    "sns.heatmap(city_product_popularity, cmap='viridis', annot=True, fmt='g', cbar_kws={'label': ''})\n",
    "plt.title('Category Popularity in Each Region and City')\n",
    "plt.xlabel('Category')\n",
    "plt.ylabel('Region and City')\n",
    "plt.yticks(rotation=0)\n",
    "plt.show()"
   ]
  },
  {
   "cell_type": "markdown",
   "id": "1819bd8b-5b11-4a43-9d09-ce2b262ef658",
   "metadata": {},
   "source": [
    "<h3>Product Performance</h3>"
   ]
  },
  {
   "cell_type": "markdown",
   "id": "7887dbea-2e32-4c74-9bb1-728ae397e4e2",
   "metadata": {},
   "source": [
    "**1.Identify the top 10 best-selling products.**"
   ]
  },
  {
   "cell_type": "code",
   "execution_count": 115,
   "id": "e9655db3-5eab-4532-93e0-224ff3ca0861",
   "metadata": {},
   "outputs": [
    {
     "data": {
      "text/html": [
       "<div>\n",
       "<style scoped>\n",
       "    .dataframe tbody tr th:only-of-type {\n",
       "        vertical-align: middle;\n",
       "    }\n",
       "\n",
       "    .dataframe tbody tr th {\n",
       "        vertical-align: top;\n",
       "    }\n",
       "\n",
       "    .dataframe thead th {\n",
       "        text-align: right;\n",
       "    }\n",
       "</style>\n",
       "<table border=\"1\" class=\"dataframe\">\n",
       "  <thead>\n",
       "    <tr style=\"text-align: right;\">\n",
       "      <th></th>\n",
       "      <th>product_id</th>\n",
       "      <th>product_name</th>\n",
       "      <th>category</th>\n",
       "      <th>sub_category</th>\n",
       "      <th>original_price</th>\n",
       "      <th>selling_price</th>\n",
       "      <th>stock</th>\n",
       "      <th>Diff_Original_Selling</th>\n",
       "    </tr>\n",
       "  </thead>\n",
       "  <tbody>\n",
       "    <tr>\n",
       "      <th>0</th>\n",
       "      <td>P102</td>\n",
       "      <td>Chair</td>\n",
       "      <td>Furniture</td>\n",
       "      <td>Chairs</td>\n",
       "      <td>20000.0</td>\n",
       "      <td>15000.00</td>\n",
       "      <td>10</td>\n",
       "      <td>-5000.00</td>\n",
       "    </tr>\n",
       "    <tr>\n",
       "      <th>1</th>\n",
       "      <td>P103</td>\n",
       "      <td>Laptop</td>\n",
       "      <td>Electronics</td>\n",
       "      <td>computer</td>\n",
       "      <td>60000.0</td>\n",
       "      <td>55000.00</td>\n",
       "      <td>50</td>\n",
       "      <td>-5000.00</td>\n",
       "    </tr>\n",
       "    <tr>\n",
       "      <th>2</th>\n",
       "      <td>P104</td>\n",
       "      <td>Smartphone</td>\n",
       "      <td>Electronics</td>\n",
       "      <td>phone</td>\n",
       "      <td>45000.0</td>\n",
       "      <td>40000.00</td>\n",
       "      <td>20</td>\n",
       "      <td>-5000.00</td>\n",
       "    </tr>\n",
       "    <tr>\n",
       "      <th>3</th>\n",
       "      <td>P105</td>\n",
       "      <td>Blender</td>\n",
       "      <td>Appliance</td>\n",
       "      <td>Electronics</td>\n",
       "      <td>500.0</td>\n",
       "      <td>450.00</td>\n",
       "      <td>10</td>\n",
       "      <td>-50.00</td>\n",
       "    </tr>\n",
       "    <tr>\n",
       "      <th>4</th>\n",
       "      <td>P106</td>\n",
       "      <td>Laptop HP</td>\n",
       "      <td>Electronics</td>\n",
       "      <td>Computers</td>\n",
       "      <td>67200.0</td>\n",
       "      <td>55000.99</td>\n",
       "      <td>50</td>\n",
       "      <td>-12199.01</td>\n",
       "    </tr>\n",
       "  </tbody>\n",
       "</table>\n",
       "</div>"
      ],
      "text/plain": [
       "  product_id product_name     category sub_category  original_price  \\\n",
       "0       P102        Chair    Furniture       Chairs         20000.0   \n",
       "1       P103       Laptop  Electronics     computer         60000.0   \n",
       "2       P104   Smartphone  Electronics        phone         45000.0   \n",
       "3       P105      Blender    Appliance  Electronics           500.0   \n",
       "4       P106    Laptop HP  Electronics    Computers         67200.0   \n",
       "\n",
       "   selling_price  stock  Diff_Original_Selling  \n",
       "0       15000.00     10               -5000.00  \n",
       "1       55000.00     50               -5000.00  \n",
       "2       40000.00     20               -5000.00  \n",
       "3         450.00     10                 -50.00  \n",
       "4       55000.99     50              -12199.01  "
      ]
     },
     "execution_count": 115,
     "metadata": {},
     "output_type": "execute_result"
    }
   ],
   "source": [
    "product_df.head()"
   ]
  },
  {
   "cell_type": "code",
   "execution_count": 116,
   "id": "f8324eee-186d-42ec-81cf-d7e0900c7436",
   "metadata": {},
   "outputs": [
    {
     "data": {
      "text/html": [
       "<div>\n",
       "<style scoped>\n",
       "    .dataframe tbody tr th:only-of-type {\n",
       "        vertical-align: middle;\n",
       "    }\n",
       "\n",
       "    .dataframe tbody tr th {\n",
       "        vertical-align: top;\n",
       "    }\n",
       "\n",
       "    .dataframe thead th {\n",
       "        text-align: right;\n",
       "    }\n",
       "</style>\n",
       "<table border=\"1\" class=\"dataframe\">\n",
       "  <thead>\n",
       "    <tr style=\"text-align: right;\">\n",
       "      <th></th>\n",
       "      <th>quantity</th>\n",
       "    </tr>\n",
       "    <tr>\n",
       "      <th>product_name</th>\n",
       "      <th></th>\n",
       "    </tr>\n",
       "  </thead>\n",
       "  <tbody>\n",
       "    <tr>\n",
       "      <th>Air Purifier</th>\n",
       "      <td>4.000000</td>\n",
       "    </tr>\n",
       "    <tr>\n",
       "      <th>Blender</th>\n",
       "      <td>2.000000</td>\n",
       "    </tr>\n",
       "    <tr>\n",
       "      <th>Bluetooth Speaker</th>\n",
       "      <td>3.000000</td>\n",
       "    </tr>\n",
       "    <tr>\n",
       "      <th>Car Vacuum</th>\n",
       "      <td>2.000000</td>\n",
       "    </tr>\n",
       "    <tr>\n",
       "      <th>Chair</th>\n",
       "      <td>3.000000</td>\n",
       "    </tr>\n",
       "    <tr>\n",
       "      <th>Coffee Maker</th>\n",
       "      <td>4.000000</td>\n",
       "    </tr>\n",
       "    <tr>\n",
       "      <th>Desk</th>\n",
       "      <td>4.000000</td>\n",
       "    </tr>\n",
       "    <tr>\n",
       "      <th>Desk Lamp</th>\n",
       "      <td>4.000000</td>\n",
       "    </tr>\n",
       "    <tr>\n",
       "      <th>Digital Camera</th>\n",
       "      <td>3.000000</td>\n",
       "    </tr>\n",
       "    <tr>\n",
       "      <th>Dining Table</th>\n",
       "      <td>2.000000</td>\n",
       "    </tr>\n",
       "    <tr>\n",
       "      <th>Dishwasher</th>\n",
       "      <td>1.000000</td>\n",
       "    </tr>\n",
       "    <tr>\n",
       "      <th>Electric Toothbrush</th>\n",
       "      <td>1.000000</td>\n",
       "    </tr>\n",
       "    <tr>\n",
       "      <th>External Hard Drive</th>\n",
       "      <td>2.000000</td>\n",
       "    </tr>\n",
       "    <tr>\n",
       "      <th>Fitness Tracker</th>\n",
       "      <td>4.000000</td>\n",
       "    </tr>\n",
       "    <tr>\n",
       "      <th>Gaming Console</th>\n",
       "      <td>2.000000</td>\n",
       "    </tr>\n",
       "    <tr>\n",
       "      <th>Gaming Mouse</th>\n",
       "      <td>1.000000</td>\n",
       "    </tr>\n",
       "    <tr>\n",
       "      <th>Headphones</th>\n",
       "      <td>3.000000</td>\n",
       "    </tr>\n",
       "    <tr>\n",
       "      <th>Laptop</th>\n",
       "      <td>2.000000</td>\n",
       "    </tr>\n",
       "    <tr>\n",
       "      <th>Microwave</th>\n",
       "      <td>4.000000</td>\n",
       "    </tr>\n",
       "    <tr>\n",
       "      <th>Microwave Oven</th>\n",
       "      <td>2.000000</td>\n",
       "    </tr>\n",
       "    <tr>\n",
       "      <th>Monitor</th>\n",
       "      <td>1.000000</td>\n",
       "    </tr>\n",
       "    <tr>\n",
       "      <th>Portable Charger</th>\n",
       "      <td>1.000000</td>\n",
       "    </tr>\n",
       "    <tr>\n",
       "      <th>Portable Speaker</th>\n",
       "      <td>1.000000</td>\n",
       "    </tr>\n",
       "    <tr>\n",
       "      <th>Printer</th>\n",
       "      <td>3.000000</td>\n",
       "    </tr>\n",
       "    <tr>\n",
       "      <th>Projector</th>\n",
       "      <td>1.000000</td>\n",
       "    </tr>\n",
       "    <tr>\n",
       "      <th>Recliner</th>\n",
       "      <td>1.000000</td>\n",
       "    </tr>\n",
       "    <tr>\n",
       "      <th>Refrigerator</th>\n",
       "      <td>3.000000</td>\n",
       "    </tr>\n",
       "    <tr>\n",
       "      <th>Smart Scale</th>\n",
       "      <td>1.000000</td>\n",
       "    </tr>\n",
       "    <tr>\n",
       "      <th>Smart Speaker</th>\n",
       "      <td>1.000000</td>\n",
       "    </tr>\n",
       "    <tr>\n",
       "      <th>Smartwatch</th>\n",
       "      <td>5.000000</td>\n",
       "    </tr>\n",
       "    <tr>\n",
       "      <th>Sofa</th>\n",
       "      <td>3.000000</td>\n",
       "    </tr>\n",
       "    <tr>\n",
       "      <th>Sofa Set</th>\n",
       "      <td>2.000000</td>\n",
       "    </tr>\n",
       "    <tr>\n",
       "      <th>Streaming Device</th>\n",
       "      <td>1.000000</td>\n",
       "    </tr>\n",
       "    <tr>\n",
       "      <th>Tablet</th>\n",
       "      <td>7.000000</td>\n",
       "    </tr>\n",
       "    <tr>\n",
       "      <th>Television</th>\n",
       "      <td>4.000000</td>\n",
       "    </tr>\n",
       "    <tr>\n",
       "      <th>Unknown Product</th>\n",
       "      <td>4.065789</td>\n",
       "    </tr>\n",
       "    <tr>\n",
       "      <th>Vacuum Cleaner</th>\n",
       "      <td>7.000000</td>\n",
       "    </tr>\n",
       "    <tr>\n",
       "      <th>Water Purifier</th>\n",
       "      <td>1.000000</td>\n",
       "    </tr>\n",
       "    <tr>\n",
       "      <th>Wireless Earbuds</th>\n",
       "      <td>2.000000</td>\n",
       "    </tr>\n",
       "    <tr>\n",
       "      <th>Wireless Mouse</th>\n",
       "      <td>3.000000</td>\n",
       "    </tr>\n",
       "    <tr>\n",
       "      <th>chair</th>\n",
       "      <td>2.000000</td>\n",
       "    </tr>\n",
       "  </tbody>\n",
       "</table>\n",
       "</div>"
      ],
      "text/plain": [
       "                     quantity\n",
       "product_name                 \n",
       "Air Purifier         4.000000\n",
       "Blender              2.000000\n",
       "Bluetooth Speaker    3.000000\n",
       "Car Vacuum           2.000000\n",
       "Chair                3.000000\n",
       "Coffee Maker         4.000000\n",
       "Desk                 4.000000\n",
       "Desk Lamp            4.000000\n",
       "Digital Camera       3.000000\n",
       "Dining Table         2.000000\n",
       "Dishwasher           1.000000\n",
       "Electric Toothbrush  1.000000\n",
       "External Hard Drive  2.000000\n",
       "Fitness Tracker      4.000000\n",
       "Gaming Console       2.000000\n",
       "Gaming Mouse         1.000000\n",
       "Headphones           3.000000\n",
       "Laptop               2.000000\n",
       "Microwave            4.000000\n",
       "Microwave Oven       2.000000\n",
       "Monitor              1.000000\n",
       "Portable Charger     1.000000\n",
       "Portable Speaker     1.000000\n",
       "Printer              3.000000\n",
       "Projector            1.000000\n",
       "Recliner             1.000000\n",
       "Refrigerator         3.000000\n",
       "Smart Scale          1.000000\n",
       "Smart Speaker        1.000000\n",
       "Smartwatch           5.000000\n",
       "Sofa                 3.000000\n",
       "Sofa Set             2.000000\n",
       "Streaming Device     1.000000\n",
       "Tablet               7.000000\n",
       "Television           4.000000\n",
       "Unknown Product      4.065789\n",
       "Vacuum Cleaner       7.000000\n",
       "Water Purifier       1.000000\n",
       "Wireless Earbuds     2.000000\n",
       "Wireless Mouse       3.000000\n",
       "chair                2.000000"
      ]
     },
     "execution_count": 116,
     "metadata": {},
     "output_type": "execute_result"
    }
   ],
   "source": [
    "pd.pivot_table(customer_order_df,index=['product_name'],values=['quantity'],aggfunc='sum')"
   ]
  },
  {
   "cell_type": "markdown",
   "id": "9c0e1111-6f3e-48bd-b4e4-685d0b641cea",
   "metadata": {},
   "source": [
    "<h3>Payment Analysis</h3>"
   ]
  },
  {
   "cell_type": "markdown",
   "id": "fd4fd874-349d-448d-aab5-3c61326971e3",
   "metadata": {},
   "source": [
    "**1.Display successful and pending payments order counts.**"
   ]
  },
  {
   "cell_type": "code",
   "execution_count": 117,
   "id": "f5a17bbe-0d9f-43ac-b141-5e93e1b90e19",
   "metadata": {},
   "outputs": [
    {
     "data": {
      "text/html": [
       "<div>\n",
       "<style scoped>\n",
       "    .dataframe tbody tr th:only-of-type {\n",
       "        vertical-align: middle;\n",
       "    }\n",
       "\n",
       "    .dataframe tbody tr th {\n",
       "        vertical-align: top;\n",
       "    }\n",
       "\n",
       "    .dataframe thead th {\n",
       "        text-align: right;\n",
       "    }\n",
       "</style>\n",
       "<table border=\"1\" class=\"dataframe\">\n",
       "  <thead>\n",
       "    <tr style=\"text-align: right;\">\n",
       "      <th></th>\n",
       "      <th>order_id</th>\n",
       "      <th>customer_id</th>\n",
       "      <th>product_id</th>\n",
       "      <th>quantity</th>\n",
       "      <th>total_price</th>\n",
       "      <th>payment_mode</th>\n",
       "      <th>order_date</th>\n",
       "      <th>order_status</th>\n",
       "    </tr>\n",
       "  </thead>\n",
       "  <tbody>\n",
       "    <tr>\n",
       "      <th>0</th>\n",
       "      <td>3</td>\n",
       "      <td>C1004</td>\n",
       "      <td>P112</td>\n",
       "      <td>1.0</td>\n",
       "      <td>1000.0</td>\n",
       "      <td>COD</td>\n",
       "      <td>2023-11-30</td>\n",
       "      <td>Pending</td>\n",
       "    </tr>\n",
       "    <tr>\n",
       "      <th>1</th>\n",
       "      <td>4</td>\n",
       "      <td>C1005</td>\n",
       "      <td>P102</td>\n",
       "      <td>1.0</td>\n",
       "      <td>20000.0</td>\n",
       "      <td>COD</td>\n",
       "      <td>2023-11-30</td>\n",
       "      <td>Pending</td>\n",
       "    </tr>\n",
       "    <tr>\n",
       "      <th>2</th>\n",
       "      <td>5</td>\n",
       "      <td>C1005</td>\n",
       "      <td>P102</td>\n",
       "      <td>1.0</td>\n",
       "      <td>20000.0</td>\n",
       "      <td>COD</td>\n",
       "      <td>2023-12-08</td>\n",
       "      <td>Delivered</td>\n",
       "    </tr>\n",
       "    <tr>\n",
       "      <th>3</th>\n",
       "      <td>7</td>\n",
       "      <td>C1006</td>\n",
       "      <td>P103</td>\n",
       "      <td>1.0</td>\n",
       "      <td>55000.0</td>\n",
       "      <td>COD</td>\n",
       "      <td>2023-12-15</td>\n",
       "      <td>Delivered</td>\n",
       "    </tr>\n",
       "    <tr>\n",
       "      <th>4</th>\n",
       "      <td>8</td>\n",
       "      <td>C1006</td>\n",
       "      <td>P102</td>\n",
       "      <td>1.0</td>\n",
       "      <td>15000.0</td>\n",
       "      <td>COD</td>\n",
       "      <td>2023-12-01</td>\n",
       "      <td>Delivered</td>\n",
       "    </tr>\n",
       "  </tbody>\n",
       "</table>\n",
       "</div>"
      ],
      "text/plain": [
       "   order_id customer_id product_id  quantity  total_price payment_mode  \\\n",
       "0         3       C1004       P112       1.0       1000.0          COD   \n",
       "1         4       C1005       P102       1.0      20000.0          COD   \n",
       "2         5       C1005       P102       1.0      20000.0          COD   \n",
       "3         7       C1006       P103       1.0      55000.0          COD   \n",
       "4         8       C1006       P102       1.0      15000.0          COD   \n",
       "\n",
       "  order_date order_status  \n",
       "0 2023-11-30      Pending  \n",
       "1 2023-11-30      Pending  \n",
       "2 2023-12-08    Delivered  \n",
       "3 2023-12-15    Delivered  \n",
       "4 2023-12-01    Delivered  "
      ]
     },
     "execution_count": 117,
     "metadata": {},
     "output_type": "execute_result"
    }
   ],
   "source": [
    "order_df.head()"
   ]
  },
  {
   "cell_type": "code",
   "execution_count": 118,
   "id": "fee9589e-5e95-416e-9a1f-93533d5621fa",
   "metadata": {},
   "outputs": [
    {
     "name": "stdout",
     "output_type": "stream",
     "text": [
      "order_status\n",
      "Delivered    28\n",
      "Pending      25\n",
      "Shipped      16\n",
      "Cancelled     6\n",
      "Returned      1\n",
      "Name: count, dtype: int64\n"
     ]
    },
    {
     "data": {
      "image/png": "[encoded data removed]",
      "text/plain": [
       "<Figure size 640x480 with 1 Axes>"
      ]
     },
     "metadata": {},
     "output_type": "display_data"
    }
   ],
   "source": [
    "payment_order_status=order_df['order_status'].value_counts()\n",
    "print(payment_order_status)\n",
    "payment_order_status.plot(kind='bar',color='SeaGreen')\n",
    "plt.title('Display successful and pending payments order counts.')\n",
    "plt.xlabel('Payment_status')\n",
    "plt.xticks(rotation=0)\n",
    "plt.ylabel('Frequency')\n",
    "plt.show()"
   ]
  },
  {
   "cell_type": "code",
   "execution_count": null,
   "id": "f9dd0587-7b8f-4a88-8492-6f72ee9d5f87",
   "metadata": {},
   "outputs": [],
   "source": []
  },
  {
   "cell_type": "code",
   "execution_count": null,
   "id": "099483b5-58a6-488a-98c5-e86e6fb6aa81",
   "metadata": {},
   "outputs": [],
   "source": []
  },
  {
   "cell_type": "code",
   "execution_count": null,
   "id": "bbb93dd8-8c84-44bf-a945-3e813cad4526",
   "metadata": {},
   "outputs": [],
   "source": []
  },
  {
   "cell_type": "code",
   "execution_count": null,
   "id": "bb2a24ff-4f8e-4445-9194-a5532d74eac3",
   "metadata": {},
   "outputs": [],
   "source": []
  },
  {
   "cell_type": "code",
   "execution_count": null,
   "id": "c74d6afc-0931-4042-8541-865a69084fd0",
   "metadata": {},
   "outputs": [],
   "source": []
  },
  {
   "cell_type": "code",
   "execution_count": null,
   "id": "47349ba4-bc14-4e16-8cdf-deb215e8a85f",
   "metadata": {},
   "outputs": [],
   "source": []
  },
  {
   "cell_type": "code",
   "execution_count": null,
   "id": "a2f8de72-5162-4d79-8463-90d2a7b996b0",
   "metadata": {},
   "outputs": [],
   "source": []
  },
  {
   "cell_type": "code",
   "execution_count": null,
   "id": "35cd91d8-ab2c-4cd1-a034-1b9b46312709",
   "metadata": {},
   "outputs": [],
   "source": []
  },
  {
   "cell_type": "code",
   "execution_count": null,
   "id": "704297e7-3fe2-44b3-a194-26e7582bb447",
   "metadata": {},
   "outputs": [],
   "source": []
  },
  {
   "cell_type": "code",
   "execution_count": null,
   "id": "575a05b0-45ea-4359-8c12-7d69ad208b3e",
   "metadata": {},
   "outputs": [],
   "source": []
  },
  {
   "cell_type": "markdown",
   "id": "22844628-0ab8-4c7a-9f88-f2dc72b02ded",
   "metadata": {},
   "source": [
    "**<h2>Conclusion:</h2>**"
   ]
  },
  {
   "cell_type": "markdown",
   "id": "0e4ed9cb-634f-4df8-93fb-509f9760a31b",
   "metadata": {},
   "source": [
    "**Tokyo has the maximum number of the customers whereas Lake Buena Vista has the minimum number of customer. Electronic category has the maximum number of products available whereas Furniture category has the minimum. Electronic sub-cateory has the maximum number of products followed by Computer, Wearables and so on. The Average Price is 17774.62, Maximum Price is 70000 and Minimum Price is 450. Tablet is the most ordered product followed by Vacuum Cleaner, Air Purifier, Chair and so on. Most of the products have been delivered, some of are pending, few have been cancelled. Tablet and Vacuum Cleaner aren of the most popular prod followed by Smartwatch, Air Purifier and so on. The total revenue is 1586400. The Electronic category has the heighest revenue percentage. Coffee Maker is the most profitable product. Tablet is the heighest ordered product whereas Didhwasher is the lowest ordered product. Heighest order has been done by Oliver. Most of the customer prefers the Online payment mode. The most sell has done in January,2024. Heighest order placed at 1st December of 2023. Most of the customer are from Tokyo. Products from the Eletronic category have been sold in higher quantities in all regions. Products from Appliance category have been sold mostly in Tokyo city. Furniture have been sold mostly in Kanagawa city. Tablet and Vacuuum Cleaner sold the most. Then Smartwatch, Air Purifier and so on. Dishwash, Eletric Toothbrush, Gaming Mouse, Monitor, Portable Charger, Projector, Recliner, Smart Scale, Smart Speaker are the most slow moving products. Oliver is the most repeated customer. Retention rates were higher between the time period of December 2023 to January 2024. Most of the orders have been successfully delivered. d growth.**\n",
    "\n",
    " "
   ]
  },
  {
   "cell_type": "code",
   "execution_count": null,
   "id": "ce8abb42-f569-4b02-b817-0f142e1a8d7b",
   "metadata": {},
   "outputs": [],
   "source": []
  }
 ],
 "metadata": {
  "kernelspec": {
   "display_name": "Python 3 (ipykernel)",
   "language": "python",
   "name": "python3"
  },
  "language_info": {
   "codemirror_mode": {
    "name": "ipython",
    "version": 3
   },
   "file_extension": ".py",
   "mimetype": "text/x-python",
   "name": "python",
   "nbconvert_exporter": "python",
   "pygments_lexer": "ipython3",
   "version": "3.12.0"
  }
 },
 "nbformat": 4,
 "nbformat_minor": 5
}
