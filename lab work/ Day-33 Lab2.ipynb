{
 "cells": [
  {
   "cell_type": "markdown",
   "id": "75c62696-ebb0-4d09-8dbf-a91e826bb00e",
   "metadata": {},
   "source": [
    "Lab2: Write a python program using Interpolation to fill in missing values in the\n",
    "data frame. Then generate a subject wise highest score in the form of a bar chart.\n",
    "Input:\n",
    "data = {\n",
    "'Subject': ['Math', 'Physics', 'Chemistry', 'Biology'],\n",
    "'Student_A': [80, 85, np.nan, 70],\n",
    "'Student_B': [90, np.nan, 75, 85],\n",
    "'Student_C': [80, 88, np.nan, 78]\n",
    "}"
   ]
  },
  {
   "cell_type": "code",
   "execution_count": 13,
   "id": "6a2eb450-2877-452b-8c8d-32c4a652f7e3",
   "metadata": {},
   "outputs": [],
   "source": [
    "import pandas as pd\n",
    "import numpy as np\n",
    "import matplotlib.pyplot as plt"
   ]
  },
  {
   "cell_type": "code",
   "execution_count": 14,
   "id": "d835bc5f-d600-4676-94cd-3e7b812e54bc",
   "metadata": {},
   "outputs": [],
   "source": [
    " data = { 'Subject': ['Math', 'Physics', 'Chemistry', 'Biology'], \n",
    "               'Student_A': [80, 85, np.nan, 70], \n",
    "               'Student_B': [90, np.nan, 75, 85], \n",
    "               'Student_C': [80, 88, np.nan, 78] }\n",
    "#Creating DataFrame\n",
    "df=pd.DataFrame(data)"
   ]
  },
  {
   "cell_type": "code",
   "execution_count": 15,
   "id": "223f6995-0d64-431f-978c-b26f6abcd44b",
   "metadata": {},
   "outputs": [
    {
     "name": "stdout",
     "output_type": "stream",
     "text": [
      "Original DataFrame:\n",
      "     Subject  Student_A  Student_B  Student_C\n",
      "0       Math       80.0       90.0       80.0\n",
      "1    Physics       85.0        NaN       88.0\n",
      "2  Chemistry        NaN       75.0        NaN\n",
      "3    Biology       70.0       85.0       78.0\n",
      "\n",
      "DataFrame after Interpolation:\n",
      "     Subject  Student_A  Student_B  Student_C\n",
      "0       Math       80.0       90.0       80.0\n",
      "1    Physics       85.0       82.5       88.0\n",
      "2  Chemistry       77.5       75.0       83.0\n",
      "3    Biology       70.0       85.0       78.0\n"
     ]
    },
    {
     "name": "stderr",
     "output_type": "stream",
     "text": [
      "C:\\Users\\Anamika\\AppData\\Local\\Temp\\ipykernel_2252\\1468055701.py:2: FutureWarning: DataFrame.interpolate with object dtype is deprecated and will raise in a future version. Call obj.infer_objects(copy=False) before interpolating instead.\n",
      "  df_interpolated = df.interpolate()\n"
     ]
    }
   ],
   "source": [
    "# Interpolating missing values\n",
    "df_interpolated = df.interpolate()\n",
    "print(\"Original DataFrame:\")\n",
    "print(df)\n",
    "print(\"\\nDataFrame after Interpolation:\")\n",
    "print(df_interpolated)"
   ]
  },
  {
   "cell_type": "code",
   "execution_count": 22,
   "id": "5e6d0df4-4882-4507-be6e-b268fb47de29",
   "metadata": {},
   "outputs": [
    {
     "data": {
      "image/png": "[encoded data removed]",
      "text/plain": [
       "<Figure size 800x400 with 1 Axes>"
      ]
     },
     "metadata": {},
     "output_type": "display_data"
    }
   ],
   "source": [
    "# Getting subject-wise highest scares\n",
    "df['Highest_Score']=df[['Student_A','Student_B','Student_C']].max(axis=1)\n",
    "\n",
    "#Plotting bar chart for subject-wise highest scores\n",
    "plt.figure(figsize=(8,4))\n",
    "plt.bar(df['Subject'],df['Highest_Score'], color = 'blue')\n",
    "plt.title('Subject-wise Highest Score')\n",
    "plt.xlabel('Subject')\n",
    "plt.ylabel('Highest Score')\n",
    "plt.show() "
   ]
  },
  {
   "cell_type": "code",
   "execution_count": null,
   "id": "9077a8da-f297-4c85-90c2-8cb795904158",
   "metadata": {},
   "outputs": [],
   "source": []
  }
 ],
 "metadata": {
  "kernelspec": {
   "display_name": "Python 3 (ipykernel)",
   "language": "python",
   "name": "python3"
  },
  "language_info": {
   "codemirror_mode": {
    "name": "ipython",
    "version": 3
   },
   "file_extension": ".py",
   "mimetype": "text/x-python",
   "name": "python",
   "nbconvert_exporter": "python",
   "pygments_lexer": "ipython3",
   "version": "3.12.0"
  }
 },
 "nbformat": 4,
 "nbformat_minor": 5
}
