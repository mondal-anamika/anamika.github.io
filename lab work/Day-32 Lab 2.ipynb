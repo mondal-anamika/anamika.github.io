{
 "cells": [
  {
   "cell_type": "markdown",
   "id": "6f580693-526b-4779-bb12-2831249ef36c",
   "metadata": {},
   "source": [
    "Lab2: Write a python program to read the Inches from the below .csv file\n",
    "and then Convert Inches to Centimeters using SciPy Constants. After that\n",
    "display the first 5 records and also save the calculated result into a new csv file.\n",
    "Input:\n",
    "https://raw.githubusercontent.com/AnudipAE/DANLC/master/people_heights.csv\n"
   ]
  },
  {
   "cell_type": "code",
   "execution_count": 2,
   "id": "31c70957-f316-46d1-a8d4-39666f60d50a",
   "metadata": {},
   "outputs": [],
   "source": [
    "import pandas as pd\n",
    "import scipy\n",
    "from scipy import constants as cons"
   ]
  },
  {
   "cell_type": "code",
   "execution_count": 6,
   "id": "77f6adde-3ad9-43f8-8e2d-a9e60dccab4f",
   "metadata": {},
   "outputs": [
    {
     "name": "stdout",
     "output_type": "stream",
     "text": [
      "       Name  Height (inches)\n",
      "0  Person 1            60.03\n",
      "1  Person 2            49.51\n",
      "2  Person 3            82.97\n",
      "3  Person 4            64.19\n",
      "4  Person 5            54.42\n"
     ]
    }
   ],
   "source": [
    "#read the csv file from the github link\n",
    "df=pd.read_csv('https://raw.githubusercontent.com/AnudipAE/DANLC/master/people_heights.csv')\n",
    "#display the 1st five rows\n",
    "print(df.head())"
   ]
  },
  {
   "cell_type": "code",
   "execution_count": 8,
   "id": "1c670242-5857-466e-a852-c8f22ad366cb",
   "metadata": {},
   "outputs": [
    {
     "name": "stdout",
     "output_type": "stream",
     "text": [
      "       Name  Height (inches)  Height(cm)\n",
      "0  Person 1            60.03    152.4762\n",
      "1  Person 2            49.51    125.7554\n",
      "2  Person 3            82.97    210.7438\n",
      "3  Person 4            64.19    163.0426\n",
      "4  Person 5            54.42    138.2268\n"
     ]
    }
   ],
   "source": [
    "#calculating the height (inch to cm) from dataframe and put this height as Height(cm) name column into the dataframe.\n",
    "df['Height(cm)']=cons.inch*df['Height (inches)']*100\n",
    "print(df.head())"
   ]
  },
  {
   "cell_type": "code",
   "execution_count": 9,
   "id": "22d4aaa4-64fd-4924-a52f-fff63ccd0112",
   "metadata": {},
   "outputs": [
    {
     "name": "stdout",
     "output_type": "stream",
     "text": [
      "\n",
      "Calculated area results saved to:people_heights.csv\n"
     ]
    }
   ],
   "source": [
    "#save the dataframe with calculated area into a new csv file.The new csv file name is \"people_heights.csv\"\n",
    "output_file_path=\"people_heights.csv\"\n",
    "df.to_csv(output_file_path,index=False)\n",
    "print(f\"\\nCalculated area results saved to:{output_file_path}\")"
   ]
  },
  {
   "cell_type": "code",
   "execution_count": null,
   "id": "f868eceb-4e23-41dd-b275-7185d2bffc30",
   "metadata": {},
   "outputs": [],
   "source": []
  }
 ],
 "metadata": {
  "kernelspec": {
   "display_name": "Python 3 (ipykernel)",
   "language": "python",
   "name": "python3"
  },
  "language_info": {
   "codemirror_mode": {
    "name": "ipython",
    "version": 3
   },
   "file_extension": ".py",
   "mimetype": "text/x-python",
   "name": "python",
   "nbconvert_exporter": "python",
   "pygments_lexer": "ipython3",
   "version": "3.12.0"
  }
 },
 "nbformat": 4,
 "nbformat_minor": 5
}
