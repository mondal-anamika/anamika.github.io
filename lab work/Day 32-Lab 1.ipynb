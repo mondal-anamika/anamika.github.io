{
 "cells": [
  {
   "cell_type": "markdown",
   "id": "e5d6ead9-9fad-4101-9e92-7d5c147ac969",
   "metadata": {},
   "source": [
    "Lab1: Write a python program to read the radius from the below .csv file\n",
    "and then Calculate the Area of a Circle using SciPy Constants. After that display\n",
    "the first 5 records and also save the calculated result into a new .csv file.\n",
    "Input:\n",
    "https://raw.githubusercontent.com/AnudipAE/DANLC/master/radius_data.csv"
   ]
  },
  {
   "cell_type": "code",
   "execution_count": 1,
   "id": "9f618611-382b-4bd2-8a5a-e91fc99a84fb",
   "metadata": {},
   "outputs": [],
   "source": [
    "#import pandas and scipy,and also import constants from scipy modules as come.import pandas as pd\n",
    "import pandas as pd\n",
    "import scipy\n",
    "from scipy import constants as cons"
   ]
  },
  {
   "cell_type": "code",
   "execution_count": 2,
   "id": "bb330992-3803-4fef-a5c8-b8451d69c6cb",
   "metadata": {},
   "outputs": [],
   "source": [
    "#read the csv file from the github link\n",
    "df1=pd.read_csv(\"https://raw.githubusercontent.com/AnudipAE/DANLC/master/radius_data.csv\")"
   ]
  },
  {
   "cell_type": "code",
   "execution_count": 3,
   "id": "1769c099-c8ad-49f7-904e-696ab4750d04",
   "metadata": {},
   "outputs": [
    {
     "data": {
      "text/html": [
       "<div>\n",
       "<style scoped>\n",
       "    .dataframe tbody tr th:only-of-type {\n",
       "        vertical-align: middle;\n",
       "    }\n",
       "\n",
       "    .dataframe tbody tr th {\n",
       "        vertical-align: top;\n",
       "    }\n",
       "\n",
       "    .dataframe thead th {\n",
       "        text-align: right;\n",
       "    }\n",
       "</style>\n",
       "<table border=\"1\" class=\"dataframe\">\n",
       "  <thead>\n",
       "    <tr style=\"text-align: right;\">\n",
       "      <th></th>\n",
       "      <th>CircleName</th>\n",
       "      <th>Radius</th>\n",
       "      <th>Area</th>\n",
       "    </tr>\n",
       "  </thead>\n",
       "  <tbody>\n",
       "    <tr>\n",
       "      <th>0</th>\n",
       "      <td>SAY</td>\n",
       "      <td>3.798717</td>\n",
       "      <td>45.333960</td>\n",
       "    </tr>\n",
       "    <tr>\n",
       "      <th>1</th>\n",
       "      <td>PSN</td>\n",
       "      <td>9.958397</td>\n",
       "      <td>311.550720</td>\n",
       "    </tr>\n",
       "    <tr>\n",
       "      <th>2</th>\n",
       "      <td>JDP</td>\n",
       "      <td>5.142711</td>\n",
       "      <td>83.087197</td>\n",
       "    </tr>\n",
       "    <tr>\n",
       "      <th>3</th>\n",
       "      <td>AUO</td>\n",
       "      <td>3.319584</td>\n",
       "      <td>34.619210</td>\n",
       "    </tr>\n",
       "    <tr>\n",
       "      <th>4</th>\n",
       "      <td>OHG</td>\n",
       "      <td>1.138395</td>\n",
       "      <td>4.071325</td>\n",
       "    </tr>\n",
       "  </tbody>\n",
       "</table>\n",
       "</div>"
      ],
      "text/plain": [
       "  CircleName    Radius        Area\n",
       "0        SAY  3.798717   45.333960\n",
       "1        PSN  9.958397  311.550720\n",
       "2        JDP  5.142711   83.087197\n",
       "3        AUO  3.319584   34.619210\n",
       "4        OHG  1.138395    4.071325"
      ]
     },
     "execution_count": 3,
     "metadata": {},
     "output_type": "execute_result"
    }
   ],
   "source": [
    "df =pd.DataFrame(df1)\n",
    "#calculating the area of Circle with given radius and put area as Area nmae column into the daatframe.\n",
    "df['Area']= df['Radius']**2*cons.pi\n",
    "#display first 5 rows from df1\n",
    "df.head()\n"
   ]
  },
  {
   "cell_type": "code",
   "execution_count": 4,
   "id": "83080442-d3db-4abb-9a2b-f0a91593b8eb",
   "metadata": {},
   "outputs": [
    {
     "name": "stdout",
     "output_type": "stream",
     "text": [
      "\n",
      "Calculated area results saved to:circle_area_results.csv\n"
     ]
    }
   ],
   "source": [
    "#save the dataframe with calculated area into a new csv file.The new csv file name is \"circle_area_results.csv\"\n",
    "output_file_path=\"circle_area_results.csv\"\n",
    "df.to_csv(output_file_path,index=False)\n",
    "print(f\"\\nCalculated area results saved to:{output_file_path}\")\n"
   ]
  },
  {
   "cell_type": "code",
   "execution_count": null,
   "id": "bde3d81c-e4a9-4f57-99ea-88001d79d94d",
   "metadata": {},
   "outputs": [],
   "source": []
  }
 ],
 "metadata": {
  "kernelspec": {
   "display_name": "Python 3 (ipykernel)",
   "language": "python",
   "name": "python3"
  },
  "language_info": {
   "codemirror_mode": {
    "name": "ipython",
    "version": 3
   },
   "file_extension": ".py",
   "mimetype": "text/x-python",
   "name": "python",
   "nbconvert_exporter": "python",
   "pygments_lexer": "ipython3",
   "version": "3.12.0"
  }
 },
 "nbformat": 4,
 "nbformat_minor": 5
}
