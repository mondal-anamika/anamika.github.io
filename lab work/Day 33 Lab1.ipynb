{
 "cells": [
  {
   "cell_type": "markdown",
   "id": "3c245c1f-7f72-4542-b0c4-ad842a253ec6",
   "metadata": {},
   "source": [
    "Lab1: Write a python program using pandas Interpolation to fill in missing values\n",
    "in the data frame.\n",
    "Input:\n",
    "df = pd.DataFrame({\"Math\":[12, 4, 7, None, 2],\n",
    "\"English\":[4, 3, 57, 3, None],\n",
    "\"Hindi\":[20, 16, None, 3, 8],\n",
    "\"Science\":[14, 3, None, None, 6]})"
   ]
  },
  {
   "cell_type": "code",
   "execution_count": 1,
   "id": "78bca6bd-8ab3-4d3f-9b17-5769f2bd9d74",
   "metadata": {},
   "outputs": [],
   "source": [
    "import pandas as pd"
   ]
  },
  {
   "cell_type": "code",
   "execution_count": 7,
   "id": "7a983cdc-a27e-4f9d-b237-b3e4087b14cc",
   "metadata": {},
   "outputs": [
    {
     "name": "stdout",
     "output_type": "stream",
     "text": [
      "   Math  English  Hindi  Science\n",
      "0  12.0      4.0   20.0     14.0\n",
      "1   4.0      3.0   16.0      3.0\n",
      "2   7.0     57.0    NaN      NaN\n",
      "3   NaN      3.0    3.0      NaN\n",
      "4   2.0      NaN    8.0      6.0\n"
     ]
    }
   ],
   "source": [
    "df = pd.DataFrame({\"Math\":[12, 4, 7, None, 2], \n",
    "                   \"English\":[4, 3, 57, 3, None],\n",
    "                   \"Hindi\":[20, 16, None, 3, 8], \n",
    "                   \"Science\":[14, 3, None, None, 6]})\n",
    "print(df)"
   ]
  },
  {
   "cell_type": "code",
   "execution_count": 8,
   "id": "ec66ccef-e39a-4ccb-9a98-aa2d25b70c27",
   "metadata": {},
   "outputs": [
    {
     "name": "stdout",
     "output_type": "stream",
     "text": [
      "   Math  English  Hindi  Science\n",
      "0  12.0      4.0   20.0     14.0\n",
      "1   4.0      3.0   16.0      3.0\n",
      "2   7.0     57.0    9.5      4.0\n",
      "3   4.5      3.0    3.0      5.0\n",
      "4   2.0      3.0    8.0      6.0\n"
     ]
    }
   ],
   "source": [
    "# Interpolate() method to fill missing values\n",
    "df.interpolate(inplace=True)\n",
    "#Display  interpolated DataFrame\n",
    "print(df)"
   ]
  },
  {
   "cell_type": "code",
   "execution_count": null,
   "id": "92b445d7-5667-4863-9b20-527915f29898",
   "metadata": {},
   "outputs": [],
   "source": []
  }
 ],
 "metadata": {
  "kernelspec": {
   "display_name": "Python 3 (ipykernel)",
   "language": "python",
   "name": "python3"
  },
  "language_info": {
   "codemirror_mode": {
    "name": "ipython",
    "version": 3
   },
   "file_extension": ".py",
   "mimetype": "text/x-python",
   "name": "python",
   "nbconvert_exporter": "python",
   "pygments_lexer": "ipython3",
   "version": "3.12.0"
  }
 },
 "nbformat": 4,
 "nbformat_minor": 5
}
