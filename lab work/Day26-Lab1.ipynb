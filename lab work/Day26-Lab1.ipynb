{
 "cells": [
  {
   "cell_type": "markdown",
   "id": "5c7fce0f-8966-4b4c-93ce-b66728d5f2a8",
   "metadata": {},
   "source": [
    "Lab1: Write a Pandas program to create a dataframe from a dictionary and\n",
    "display it.\n",
    "Sample data:\n",
    "score={'Math':[78,85,96,80,86], 'English':[84,94,89,83,86],'Hindi':[86,97,96,72,83]}"
   ]
  },
  {
   "cell_type": "code",
   "execution_count": 4,
   "id": "7bd1c2c4-6b0a-4f18-96a8-e19af073c1fe",
   "metadata": {},
   "outputs": [],
   "source": [
    "import pandas as pd"
   ]
  },
  {
   "cell_type": "code",
   "execution_count": 7,
   "id": "3d4a8ded-bb80-4a8f-8a73-6eaf9307eea3",
   "metadata": {},
   "outputs": [],
   "source": [
    "#Sample Data set\n",
    "score={'Math':[78,85,96,80,86],  'English':[84,94,89,83,86],'Hindi':[86,97,96,72,83]}"
   ]
  },
  {
   "cell_type": "code",
   "execution_count": 8,
   "id": "6579f437-451e-44e5-8b75-c050d59d08be",
   "metadata": {},
   "outputs": [
    {
     "name": "stdout",
     "output_type": "stream",
     "text": [
      "   Math  English  Hindi\n",
      "0    78       84     86\n",
      "1    85       94     97\n",
      "2    96       89     96\n",
      "3    80       83     72\n",
      "4    86       86     83\n"
     ]
    }
   ],
   "source": [
    "#DataFrame() returns data set in a table format\n",
    "df=pd.DataFrame(score)\n",
    "print(df)"
   ]
  },
  {
   "cell_type": "code",
   "execution_count": null,
   "id": "a910c47d-b9fa-48b9-889f-87509b87092a",
   "metadata": {},
   "outputs": [],
   "source": []
  }
 ],
 "metadata": {
  "kernelspec": {
   "display_name": "Python 3 (ipykernel)",
   "language": "python",
   "name": "python3"
  },
  "language_info": {
   "codemirror_mode": {
    "name": "ipython",
    "version": 3
   },
   "file_extension": ".py",
   "mimetype": "text/x-python",
   "name": "python",
   "nbconvert_exporter": "python",
   "pygments_lexer": "ipython3",
   "version": "3.12.0"
  }
 },
 "nbformat": 4,
 "nbformat_minor": 5
}
