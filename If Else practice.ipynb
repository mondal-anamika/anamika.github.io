{
 "cells": [
  {
   "cell_type": "code",
   "execution_count": null,
   "id": "81cc8343-d144-4b80-a5aa-ea3d648628a5",
   "metadata": {},
   "outputs": [],
   "source": [
    "#1.#Write a Python Application that will accept a number & say odd or even using if else conditon\n",
    "def oddEven():\n",
    "    n=int(input(\"Enter number:\"))\n",
    "    if n%2==0:\n",
    "        print(n,\"is a even number\")\n",
    "    else:\n",
    "        print(n,\"is a odd number\")\n",
    "\n",
    "oddEven()\n",
    "        "
   ]
  },
  {
   "cell_type": "code",
   "execution_count": 4,
   "id": "f607c16d-0826-48e8-bf8e-431fe7e11cb6",
   "metadata": {},
   "outputs": [
    {
     "name": "stdin",
     "output_type": "stream",
     "text": [
      "1st number: 4\n",
      "2nd number: 44\n",
      "Enter the operator: +/-/*// +\n"
     ]
    },
    {
     "name": "stdout",
     "output_type": "stream",
     "text": [
      "Addition: 48.0\n"
     ]
    }
   ],
   "source": [
    "#2.Make a Calculator\n",
    "def calculator():\n",
    "    a=float(input(\"1st number:\"))\n",
    "    b=float(input(\"2nd number:\"))\n",
    "    c=input(\"Enter the operator: +/-/*//\")\n",
    "    if c==\"+\" :\n",
    "        x=a+b\n",
    "    elif z==\"-\":\n",
    "        r=x-y\n",
    "    elif z==\"*\":\n",
    "        r=x*y\n",
    "    elif z==\"/\":\n",
    "        r=x/y \n",
    "    else:\n",
    "       print(\"wrong math operator\")\n",
    "    \n",
    "        print(\"Addition:\",x)\n",
    "    \n",
    "calculator()\n"
   ]
  },
  {
   "cell_type": "code",
   "execution_count": 5,
   "id": "3206b452-dbd6-4134-be21-7a2cf4477927",
   "metadata": {},
   "outputs": [
    {
     "ename": "SyntaxError",
     "evalue": "invalid syntax. Perhaps you forgot a comma? (1097492226.py, line 3)",
     "output_type": "error",
     "traceback": [
      "\u001b[1;36m  Cell \u001b[1;32mIn[5], line 3\u001b[1;36m\u001b[0m\n\u001b[1;33m    x=int(input(\"Enter 1st number:\")\u001b[0m\n\u001b[1;37m          ^\u001b[0m\n\u001b[1;31mSyntaxError\u001b[0m\u001b[1;31m:\u001b[0m invalid syntax. Perhaps you forgot a comma?\n"
     ]
    }
   ],
   "source": [
    "#Check if two number is greater than or les than or equal.\n",
    "def greaterOrlessOrequal():\n",
    "    x=int(input(\"Enter 1st number:\")\n",
    "    y=int(input(\"Enter 2nd number:\")\n",
    "    if a>b:\n",
    "          \n",
    "          \n",
    "\n"
   ]
  },
  {
   "cell_type": "code",
   "execution_count": 6,
   "id": "dde7eeee-bdbe-4d21-a212-d689a0e1404e",
   "metadata": {},
   "outputs": [
    {
     "name": "stdin",
     "output_type": "stream",
     "text": [
      "Enter User name: 7047875656\n",
      "Enter password : mani26\n"
     ]
    },
    {
     "name": "stdout",
     "output_type": "stream",
     "text": [
      "Login is successful\n"
     ]
    }
   ],
   "source": [
    "#4. Develop a simple login System. Ask the user to enter a username and password,\n",
    "#and then check if they match a predefined username and password.\n",
    "#Print a success message if the login is successful, otherwise print an error message.\n",
    "\n",
    "def login_system():\n",
    "    #Define original user and password\n",
    "    userName=\"7047875656\"\n",
    "    password=\"mani26\"\n",
    "\n",
    "    #taking the user input\n",
    "    enterName=input(\"Enter User name:\")\n",
    "\n",
    "    if enterName==userName:\n",
    "        enterpassword=input(\"Enter password :\")\n",
    "        if enterpassword==password:\n",
    "            print(\"Login is successful\")\n",
    "        else:\n",
    "            print(\"Login failed\")\n",
    "    else:\n",
    "        print(\"User not valid\")\n",
    "login_system()\n"
   ]
  },
  {
   "cell_type": "code",
   "execution_count": 4,
   "id": "c83d5978-a98f-47e8-b4ab-5f872a82f80f",
   "metadata": {},
   "outputs": [
    {
     "name": "stdin",
     "output_type": "stream",
     "text": [
      "Enter a letter : a\n"
     ]
    },
    {
     "name": "stdout",
     "output_type": "stream",
     "text": [
      "It is a vowel.\n"
     ]
    }
   ],
   "source": [
    "#5 Write a programme takes a character(a single letter) as input and prints whether it is vowel or a consonant.\n",
    "def vowel_consonant():\n",
    "    letter=input(\"Enter a letter :\")\n",
    "    vowels=['a','e','i','o','u'] #making a list with all vowels\n",
    "    if len(letter)==1 and letter.isalpha():\n",
    "        if letter in vowels:\n",
    "            print(\"It is a vowel.\")\n",
    "        else:\n",
    "            print(\"It is a Consonant.\")\n",
    "    else:\n",
    "        print(\"Wrong input\")\n",
    "vowel_consonant()"
   ]
  },
  {
   "cell_type": "code",
   "execution_count": 5,
   "id": "f7f13613-93f9-41fe-b10b-41ad794717f7",
   "metadata": {},
   "outputs": [
    {
     "name": "stdin",
     "output_type": "stream",
     "text": [
      "Enter a number: 5\n"
     ]
    },
    {
     "name": "stdout",
     "output_type": "stream",
     "text": [
      "5 is a Positive number\n"
     ]
    }
   ],
   "source": [
    "#Create a program that determines whether a given number is positive, negative, or zero.\n",
    "number=int(input(\"Enter a number:\"))\n",
    "if number>0:\n",
    "    print(number,\"is a Positive number\")\n",
    "elif number==0:\n",
    "    print(number,\"is Zero\")\n",
    "else:\n",
    "    print(number,\"is a Negative number\")\n"
   ]
  },
  {
   "cell_type": "code",
   "execution_count": null,
   "id": "af0811c5-37bc-45a7-add4-8472a08ad352",
   "metadata": {},
   "outputs": [],
   "source": []
  }
 ],
 "metadata": {
  "kernelspec": {
   "display_name": "Python 3 (ipykernel)",
   "language": "python",
   "name": "python3"
  },
  "language_info": {
   "codemirror_mode": {
    "name": "ipython",
    "version": 3
   },
   "file_extension": ".py",
   "mimetype": "text/x-python",
   "name": "python",
   "nbconvert_exporter": "python",
   "pygments_lexer": "ipython3",
   "version": "3.12.0"
  }
 },
 "nbformat": 4,
 "nbformat_minor": 5
}
