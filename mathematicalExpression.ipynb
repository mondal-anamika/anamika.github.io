{
 "cells": [
  {
   "cell_type": "code",
   "execution_count": 1,
   "id": "e882bc4d-46b1-47c9-81e5-ba744e5f6264",
   "metadata": {},
   "outputs": [],
   "source": [
    "#1#oprator and convertion"
   ]
  },
  {
   "cell_type": "code",
   "execution_count": 2,
   "id": "822481a2-1b23-4f7b-8fc3-5c1018688b7d",
   "metadata": {},
   "outputs": [
    {
     "name": "stdin",
     "output_type": "stream",
     "text": [
      "Enter 1st number: 36\n",
      "Enter 2nd number: 69\n"
     ]
    }
   ],
   "source": [
    "#In python imputs are always String\n",
    "a=input(\"Enter 1st number:\")\n",
    "b=input(\"Enter 2nd number:\")\n",
    "\n"
   ]
  },
  {
   "cell_type": "code",
   "execution_count": 3,
   "id": "cc9c4cc1-215d-4f80-bf0b-7ffb3c268328",
   "metadata": {},
   "outputs": [],
   "source": [
    "# Converts our inputs(string) into using int() function\n",
    "x=int(a)\n",
    "y=int(b)\n"
   ]
  },
  {
   "cell_type": "code",
   "execution_count": 4,
   "id": "d32b5929-e13d-4a88-bf6a-7edc945224af",
   "metadata": {},
   "outputs": [],
   "source": [
    "#Use mathematical operation in x and y\n",
    "z=x+y"
   ]
  },
  {
   "cell_type": "code",
   "execution_count": 6,
   "id": "b619302b-cd7b-4ed0-909b-8f406c1a1413",
   "metadata": {},
   "outputs": [
    {
     "name": "stdout",
     "output_type": "stream",
     "text": [
      "105\n",
      "<class 'int'>\n"
     ]
    }
   ],
   "source": [
    "print(z)\n",
    "print(type(z))# type() function uses for checking the type of the variable"
   ]
  },
  {
   "cell_type": "code",
   "execution_count": 7,
   "id": "e2eefbba-47ea-4a2c-b388-ac8456ccc909",
   "metadata": {},
   "outputs": [
    {
     "name": "stdout",
     "output_type": "stream",
     "text": [
      "<class 'str'>\n",
      "Sum of Two integers :105\n"
     ]
    }
   ],
   "source": [
    "# Converts our inputs(integer) into using str() function\n",
    "c=str(z)\n",
    "print(type(c))\n",
    "print(\"Sum of Two integers :\"+c)\n"
   ]
  },
  {
   "cell_type": "code",
   "execution_count": 8,
   "id": "4a7bac91-5f77-45a7-82ac-2f55c7539458",
   "metadata": {},
   "outputs": [
    {
     "name": "stdin",
     "output_type": "stream",
     "text": [
      "Enter 1st number: 64\n",
      "Enter 2nd n8umber: 31\n"
     ]
    },
    {
     "name": "stdout",
     "output_type": "stream",
     "text": [
      "Sum of two integers : 95\n",
      "Sum of two integers :95\n"
     ]
    }
   ],
   "source": [
    "#Shorthand integer input\n",
    "a=int(input(\"Enter 1st number:\"))\n",
    "b=int(input(\"Enter 2nd n8umber:\"))\n",
    "c=a+b\n",
    "print(\"Sum of two integers :\",c)#this c is integer type\n",
    "print(\"Sum of two integers :\"+str(c))#this converted into string type using str()"
   ]
  },
  {
   "cell_type": "code",
   "execution_count": 9,
   "id": "7ae35c2d-2e9c-419f-bbfb-b641c02631ce",
   "metadata": {},
   "outputs": [
    {
     "name": "stdin",
     "output_type": "stream",
     "text": [
      "Enter the radius: 4\n"
     ]
    },
    {
     "name": "stdout",
     "output_type": "stream",
     "text": [
      "Perimeter :25.12Meter\n",
      "Area:50.24squremeter\n"
     ]
    }
   ],
   "source": [
    "#2#write a program that will  accept the radius of a perimeter and area\n",
    "r=float(input(\"Enter the radius:\"))#input from keyboard\n",
    "p=2*3.14*r #for calculate Perimeter of a circle\n",
    "a=3.14*pow(r,2)# for calculate Area of a circle\n",
    "print(\"Perimeter :\"+str(p)+\"Meter\")\n",
    "print(\"Area:\"+str(a)+\"squremeter\")"
   ]
  },
  {
   "cell_type": "code",
   "execution_count": 12,
   "id": "40e1665a-68f7-4f8b-b4ab-9a0cb93c6589",
   "metadata": {},
   "outputs": [
    {
     "name": "stdin",
     "output_type": "stream",
     "text": [
      "Enter kilometer:  89.49\n"
     ]
    },
    {
     "name": "stdout",
     "output_type": "stream",
     "text": [
      "89.49 Kilometer = 28.867741935483867 Mile\n"
     ]
    }
   ],
   "source": [
    "#Write a programe to convert kilometer to miles. (1 mile=3.1 km)or (1km=1/3.1mile)\n",
    "km=float(input(\"Enter kilometer: \"))\n",
    "mile=km/3.1\n",
    "print(str(km),\"Kilometer =\",str(mile),\"Mile\")\n"
   ]
  },
  {
   "cell_type": "code",
   "execution_count": 13,
   "id": "5eea5def-6f1d-4ab8-928e-db5552d4a776",
   "metadata": {},
   "outputs": [],
   "source": [
    "#4 #Accept a Principal amount,Accept rate of interest,Find total interest\n"
   ]
  },
  {
   "cell_type": "code",
   "execution_count": 14,
   "id": "97debe0f-d5d5-4b54-a9ae-08b3b60e7bd5",
   "metadata": {},
   "outputs": [
    {
     "name": "stdin",
     "output_type": "stream",
     "text": [
      "Principal Amount :  15000\n",
      "Rate of interest :  301\n",
      "Year :  2\n"
     ]
    },
    {
     "name": "stdout",
     "output_type": "stream",
     "text": [
      "Simple interest of the amount  15000.0 is 90300.0\n"
     ]
    }
   ],
   "source": [
    "p=float(input(\"Principal Amount : \"))\n",
    "r=float(input(\"Rate of interest : \"))\n",
    "t=float(input(\"Year : \"))\n",
    "si=(p*r*t)/100\n",
    "print(\"Simple interest of the amount \",p,\"is\",si)\n"
   ]
  },
  {
   "cell_type": "code",
   "execution_count": null,
   "id": "510a5987-757d-460b-8028-49a48707ead9",
   "metadata": {},
   "outputs": [],
   "source": []
  }
 ],
 "metadata": {
  "kernelspec": {
   "display_name": "Python 3 (ipykernel)",
   "language": "python",
   "name": "python3"
  },
  "language_info": {
   "codemirror_mode": {
    "name": "ipython",
    "version": 3
   },
   "file_extension": ".py",
   "mimetype": "text/x-python",
   "name": "python",
   "nbconvert_exporter": "python",
   "pygments_lexer": "ipython3",
   "version": "3.12.0"
  }
 },
 "nbformat": 4,
 "nbformat_minor": 5
}
