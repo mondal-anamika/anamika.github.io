{
 "cells": [
  {
   "cell_type": "code",
   "execution_count": 1,
   "id": "af4bb51d-4e02-4d68-a0eb-c996c0c0db7f",
   "metadata": {},
   "outputs": [],
   "source": [
    "import pandas as pd\n",
    "import matplotlib.pyplot as plt"
   ]
  },
  {
   "cell_type": "code",
   "execution_count": 2,
   "id": "623beffb-6927-46cd-b4e7-74dc0e41ae6f",
   "metadata": {},
   "outputs": [],
   "source": [
    "#pd.read_csv(filepath)\n",
    "#file_path = 'C:/Users/win10/Downloads/customer_data.csv'\n",
    "csv_file_path = 'student_data.csv'\n",
    "\n",
    "df = pd.read_csv(csv_file_path)"
   ]
  },
  {
   "cell_type": "code",
   "execution_count": 3,
   "id": "6cd18b22-a473-4ca0-8583-db16701b6eea",
   "metadata": {},
   "outputs": [
    {
     "name": "stdout",
     "output_type": "stream",
     "text": [
      "     Student ID            Name  Age Grade        Major   GPA City\n",
      "0             1     Paula Singh   23     B      Biology  2.52  LUS\n",
      "1             2  Louis Robinson   21     A      English  3.66  KQK\n",
      "2             3    Nora Krueger   18     B      English  3.95  EPV\n",
      "3             4     Jones Myers   19     C  Mathematics  3.94  CUR\n",
      "4             5      Lydia Leon   21     D  Mathematics  3.43  AER\n",
      "..          ...             ...  ...   ...          ...   ...  ...\n",
      "101         100   Andy Espinoza   18     F      Biology  3.56  WFJ\n",
      "102          99  Vivian Aguirre   19     C      History  2.98  TFB\n",
      "103         100   Andy Espinoza   18     F      Biology  3.56  WFJ\n",
      "104          99  Vivian Aguirre   19     C      History  2.98  TFB\n",
      "105         100   Andy Espinoza   18     F      Biology  3.56  WFJ\n",
      "\n",
      "[106 rows x 7 columns]\n"
     ]
    }
   ],
   "source": [
    "print(df)"
   ]
  },
  {
   "cell_type": "code",
   "execution_count": 4,
   "id": "22f5686d-b8c4-47b5-ae3c-f348a678ac8c",
   "metadata": {},
   "outputs": [
    {
     "data": {
      "text/html": [
       "<div>\n",
       "<style scoped>\n",
       "    .dataframe tbody tr th:only-of-type {\n",
       "        vertical-align: middle;\n",
       "    }\n",
       "\n",
       "    .dataframe tbody tr th {\n",
       "        vertical-align: top;\n",
       "    }\n",
       "\n",
       "    .dataframe thead th {\n",
       "        text-align: right;\n",
       "    }\n",
       "</style>\n",
       "<table border=\"1\" class=\"dataframe\">\n",
       "  <thead>\n",
       "    <tr style=\"text-align: right;\">\n",
       "      <th></th>\n",
       "      <th>Student ID</th>\n",
       "      <th>Name</th>\n",
       "      <th>Age</th>\n",
       "      <th>Grade</th>\n",
       "      <th>Major</th>\n",
       "      <th>GPA</th>\n",
       "      <th>City</th>\n",
       "    </tr>\n",
       "  </thead>\n",
       "  <tbody>\n",
       "    <tr>\n",
       "      <th>0</th>\n",
       "      <td>1</td>\n",
       "      <td>Paula Singh</td>\n",
       "      <td>23</td>\n",
       "      <td>B</td>\n",
       "      <td>Biology</td>\n",
       "      <td>2.52</td>\n",
       "      <td>LUS</td>\n",
       "    </tr>\n",
       "    <tr>\n",
       "      <th>1</th>\n",
       "      <td>2</td>\n",
       "      <td>Louis Robinson</td>\n",
       "      <td>21</td>\n",
       "      <td>A</td>\n",
       "      <td>English</td>\n",
       "      <td>3.66</td>\n",
       "      <td>KQK</td>\n",
       "    </tr>\n",
       "    <tr>\n",
       "      <th>2</th>\n",
       "      <td>3</td>\n",
       "      <td>Nora Krueger</td>\n",
       "      <td>18</td>\n",
       "      <td>B</td>\n",
       "      <td>English</td>\n",
       "      <td>3.95</td>\n",
       "      <td>EPV</td>\n",
       "    </tr>\n",
       "    <tr>\n",
       "      <th>3</th>\n",
       "      <td>4</td>\n",
       "      <td>Jones Myers</td>\n",
       "      <td>19</td>\n",
       "      <td>C</td>\n",
       "      <td>Mathematics</td>\n",
       "      <td>3.94</td>\n",
       "      <td>CUR</td>\n",
       "    </tr>\n",
       "    <tr>\n",
       "      <th>4</th>\n",
       "      <td>5</td>\n",
       "      <td>Lydia Leon</td>\n",
       "      <td>21</td>\n",
       "      <td>D</td>\n",
       "      <td>Mathematics</td>\n",
       "      <td>3.43</td>\n",
       "      <td>AER</td>\n",
       "    </tr>\n",
       "  </tbody>\n",
       "</table>\n",
       "</div>"
      ],
      "text/plain": [
       "   Student ID            Name  Age Grade        Major   GPA City\n",
       "0           1     Paula Singh   23     B      Biology  2.52  LUS\n",
       "1           2  Louis Robinson   21     A      English  3.66  KQK\n",
       "2           3    Nora Krueger   18     B      English  3.95  EPV\n",
       "3           4     Jones Myers   19     C  Mathematics  3.94  CUR\n",
       "4           5      Lydia Leon   21     D  Mathematics  3.43  AER"
      ]
     },
     "execution_count": 4,
     "metadata": {},
     "output_type": "execute_result"
    }
   ],
   "source": [
    "#df.head() will fetch the first five rows by default\n",
    "df.head()"
   ]
  },
  {
   "cell_type": "code",
   "execution_count": 5,
   "id": "fa52284f-88f7-4702-87f1-8da99b9bf97e",
   "metadata": {},
   "outputs": [
    {
     "data": {
      "text/html": [
       "<div>\n",
       "<style scoped>\n",
       "    .dataframe tbody tr th:only-of-type {\n",
       "        vertical-align: middle;\n",
       "    }\n",
       "\n",
       "    .dataframe tbody tr th {\n",
       "        vertical-align: top;\n",
       "    }\n",
       "\n",
       "    .dataframe thead th {\n",
       "        text-align: right;\n",
       "    }\n",
       "</style>\n",
       "<table border=\"1\" class=\"dataframe\">\n",
       "  <thead>\n",
       "    <tr style=\"text-align: right;\">\n",
       "      <th></th>\n",
       "      <th>Student ID</th>\n",
       "      <th>Name</th>\n",
       "      <th>Age</th>\n",
       "      <th>Grade</th>\n",
       "      <th>Major</th>\n",
       "      <th>GPA</th>\n",
       "      <th>City</th>\n",
       "    </tr>\n",
       "  </thead>\n",
       "  <tbody>\n",
       "    <tr>\n",
       "      <th>101</th>\n",
       "      <td>100</td>\n",
       "      <td>Andy Espinoza</td>\n",
       "      <td>18</td>\n",
       "      <td>F</td>\n",
       "      <td>Biology</td>\n",
       "      <td>3.56</td>\n",
       "      <td>WFJ</td>\n",
       "    </tr>\n",
       "    <tr>\n",
       "      <th>102</th>\n",
       "      <td>99</td>\n",
       "      <td>Vivian Aguirre</td>\n",
       "      <td>19</td>\n",
       "      <td>C</td>\n",
       "      <td>History</td>\n",
       "      <td>2.98</td>\n",
       "      <td>TFB</td>\n",
       "    </tr>\n",
       "    <tr>\n",
       "      <th>103</th>\n",
       "      <td>100</td>\n",
       "      <td>Andy Espinoza</td>\n",
       "      <td>18</td>\n",
       "      <td>F</td>\n",
       "      <td>Biology</td>\n",
       "      <td>3.56</td>\n",
       "      <td>WFJ</td>\n",
       "    </tr>\n",
       "    <tr>\n",
       "      <th>104</th>\n",
       "      <td>99</td>\n",
       "      <td>Vivian Aguirre</td>\n",
       "      <td>19</td>\n",
       "      <td>C</td>\n",
       "      <td>History</td>\n",
       "      <td>2.98</td>\n",
       "      <td>TFB</td>\n",
       "    </tr>\n",
       "    <tr>\n",
       "      <th>105</th>\n",
       "      <td>100</td>\n",
       "      <td>Andy Espinoza</td>\n",
       "      <td>18</td>\n",
       "      <td>F</td>\n",
       "      <td>Biology</td>\n",
       "      <td>3.56</td>\n",
       "      <td>WFJ</td>\n",
       "    </tr>\n",
       "  </tbody>\n",
       "</table>\n",
       "</div>"
      ],
      "text/plain": [
       "     Student ID            Name  Age Grade    Major   GPA City\n",
       "101         100   Andy Espinoza   18     F  Biology  3.56  WFJ\n",
       "102          99  Vivian Aguirre   19     C  History  2.98  TFB\n",
       "103         100   Andy Espinoza   18     F  Biology  3.56  WFJ\n",
       "104          99  Vivian Aguirre   19     C  History  2.98  TFB\n",
       "105         100   Andy Espinoza   18     F  Biology  3.56  WFJ"
      ]
     },
     "execution_count": 5,
     "metadata": {},
     "output_type": "execute_result"
    }
   ],
   "source": [
    "#df.tail() will fetch the last five records\n",
    "df.tail()"
   ]
  },
  {
   "cell_type": "code",
   "execution_count": 6,
   "id": "2ceddda4-89d3-4fc9-96da-352f4da4f131",
   "metadata": {},
   "outputs": [
    {
     "name": "stdout",
     "output_type": "stream",
     "text": [
      "    Student ID              Name  Age Grade             Major   GPA City\n",
      "60          61      Remi Herrera   19     B  Computer Science  3.29  ZDY\n",
      "61          62     River Elliott   18     B           Biology  3.78  ATW\n",
      "62          63       Noelle Byrd   22     B       Mathematics  3.49  RCE\n",
      "63          64  Cristian Sweeney   24     A           Biology  3.70  NLN\n",
      "64          65      Yara Buckley   18     B           History  3.08  MPC\n",
      "65          66      Aryan Moreno   19     A           History  3.06  SKM\n",
      "66          67       Mary Morgan   24     D           English  3.37  BAM\n",
      "67          68  Hunter Henderson   25     C  Computer Science  2.88  ISO\n",
      "68          69      Maria Newman   21     C           History  2.63  RNR\n",
      "69          70    Anderson Simon   25     A           History  3.55  DYG\n",
      "70          71  Kalani Macdonald   19     B           English  2.53  TGO\n"
     ]
    }
   ],
   "source": [
    "print(df.loc[60:70])"
   ]
  },
  {
   "cell_type": "code",
   "execution_count": 7,
   "id": "836f8d61-8616-4497-b774-d012de4ec787",
   "metadata": {},
   "outputs": [
    {
     "name": "stdout",
     "output_type": "stream",
     "text": [
      "<class 'pandas.core.frame.DataFrame'>\n",
      "RangeIndex: 106 entries, 0 to 105\n",
      "Data columns (total 7 columns):\n",
      " #   Column      Non-Null Count  Dtype  \n",
      "---  ------      --------------  -----  \n",
      " 0   Student ID  106 non-null    int64  \n",
      " 1   Name        105 non-null    object \n",
      " 2   Age         106 non-null    int64  \n",
      " 3   Grade       105 non-null    object \n",
      " 4   Major       105 non-null    object \n",
      " 5   GPA         106 non-null    float64\n",
      " 6   City        105 non-null    object \n",
      "dtypes: float64(1), int64(2), object(4)\n",
      "memory usage: 5.9+ KB\n"
     ]
    }
   ],
   "source": [
    "df.info()"
   ]
  },
  {
   "cell_type": "code",
   "execution_count": 8,
   "id": "04fcf2a2-f5c0-4482-8fe1-ee9e0027395f",
   "metadata": {},
   "outputs": [
    {
     "data": {
      "text/plain": [
       "Name\n",
       "False    105\n",
       "True       1\n",
       "Name: count, dtype: int64"
      ]
     },
     "execution_count": 8,
     "metadata": {},
     "output_type": "execute_result"
    }
   ],
   "source": [
    "df['Name'].isnull().value_counts()"
   ]
  },
  {
   "cell_type": "code",
   "execution_count": 9,
   "id": "a920ee24-c2a8-45e1-ad74-afd87cc3f633",
   "metadata": {},
   "outputs": [
    {
     "data": {
      "text/html": [
       "<div>\n",
       "<style scoped>\n",
       "    .dataframe tbody tr th:only-of-type {\n",
       "        vertical-align: middle;\n",
       "    }\n",
       "\n",
       "    .dataframe tbody tr th {\n",
       "        vertical-align: top;\n",
       "    }\n",
       "\n",
       "    .dataframe thead th {\n",
       "        text-align: right;\n",
       "    }\n",
       "</style>\n",
       "<table border=\"1\" class=\"dataframe\">\n",
       "  <thead>\n",
       "    <tr style=\"text-align: right;\">\n",
       "      <th></th>\n",
       "      <th>Student ID</th>\n",
       "      <th>Age</th>\n",
       "      <th>GPA</th>\n",
       "    </tr>\n",
       "  </thead>\n",
       "  <tbody>\n",
       "    <tr>\n",
       "      <th>count</th>\n",
       "      <td>106.000000</td>\n",
       "      <td>106.000000</td>\n",
       "      <td>106.000000</td>\n",
       "    </tr>\n",
       "    <tr>\n",
       "      <th>mean</th>\n",
       "      <td>53.273585</td>\n",
       "      <td>20.933962</td>\n",
       "      <td>3.263774</td>\n",
       "    </tr>\n",
       "    <tr>\n",
       "      <th>std</th>\n",
       "      <td>30.381239</td>\n",
       "      <td>2.331028</td>\n",
       "      <td>0.423434</td>\n",
       "    </tr>\n",
       "    <tr>\n",
       "      <th>min</th>\n",
       "      <td>1.000000</td>\n",
       "      <td>18.000000</td>\n",
       "      <td>2.510000</td>\n",
       "    </tr>\n",
       "    <tr>\n",
       "      <th>25%</th>\n",
       "      <td>27.250000</td>\n",
       "      <td>19.000000</td>\n",
       "      <td>2.915000</td>\n",
       "    </tr>\n",
       "    <tr>\n",
       "      <th>50%</th>\n",
       "      <td>53.500000</td>\n",
       "      <td>21.000000</td>\n",
       "      <td>3.295000</td>\n",
       "    </tr>\n",
       "    <tr>\n",
       "      <th>75%</th>\n",
       "      <td>79.750000</td>\n",
       "      <td>23.000000</td>\n",
       "      <td>3.630000</td>\n",
       "    </tr>\n",
       "    <tr>\n",
       "      <th>max</th>\n",
       "      <td>100.000000</td>\n",
       "      <td>25.000000</td>\n",
       "      <td>3.990000</td>\n",
       "    </tr>\n",
       "  </tbody>\n",
       "</table>\n",
       "</div>"
      ],
      "text/plain": [
       "       Student ID         Age         GPA\n",
       "count  106.000000  106.000000  106.000000\n",
       "mean    53.273585   20.933962    3.263774\n",
       "std     30.381239    2.331028    0.423434\n",
       "min      1.000000   18.000000    2.510000\n",
       "25%     27.250000   19.000000    2.915000\n",
       "50%     53.500000   21.000000    3.295000\n",
       "75%     79.750000   23.000000    3.630000\n",
       "max    100.000000   25.000000    3.990000"
      ]
     },
     "execution_count": 9,
     "metadata": {},
     "output_type": "execute_result"
    }
   ],
   "source": [
    "df.describe()"
   ]
  },
  {
   "cell_type": "code",
   "execution_count": 10,
   "id": "ac9a38ae-7f11-44fd-abd7-0218fdff5d1e",
   "metadata": {},
   "outputs": [
    {
     "data": {
      "text/plain": [
       "Age\n",
       "18    21\n",
       "19    17\n",
       "23    14\n",
       "20    14\n",
       "21    11\n",
       "22    10\n",
       "24    10\n",
       "25     9\n",
       "Name: count, dtype: int64"
      ]
     },
     "execution_count": 10,
     "metadata": {},
     "output_type": "execute_result"
    }
   ],
   "source": [
    "df['Age'].value_counts()"
   ]
  },
  {
   "cell_type": "code",
   "execution_count": 11,
   "id": "b65408d9-3acd-4bf7-a708-ba12494c14e5",
   "metadata": {},
   "outputs": [
    {
     "data": {
      "text/plain": [
       "Age\n",
       "False    106\n",
       "Name: count, dtype: int64"
      ]
     },
     "execution_count": 11,
     "metadata": {},
     "output_type": "execute_result"
    }
   ],
   "source": [
    "df['Age'].isnull().value_counts()"
   ]
  },
  {
   "cell_type": "code",
   "execution_count": 12,
   "id": "d54303f7-1896-460f-99b8-a7b5ccc53d93",
   "metadata": {},
   "outputs": [
    {
     "data": {
      "text/plain": [
       "Major\n",
       "Biology             26\n",
       "English             25\n",
       "History             23\n",
       "Mathematics         18\n",
       "Computer Science    13\n",
       "Name: count, dtype: int64"
      ]
     },
     "execution_count": 12,
     "metadata": {},
     "output_type": "execute_result"
    }
   ],
   "source": [
    "df['Major'].value_counts()"
   ]
  },
  {
   "cell_type": "code",
   "execution_count": 13,
   "id": "b72083e2-02b3-4f81-906e-6f720d6c50ac",
   "metadata": {},
   "outputs": [
    {
     "data": {
      "text/plain": [
       "Grade\n",
       "A    25\n",
       "F    23\n",
       "C    22\n",
       "B    21\n",
       "D    14\n",
       "Name: count, dtype: int64"
      ]
     },
     "execution_count": 13,
     "metadata": {},
     "output_type": "execute_result"
    }
   ],
   "source": [
    "df['Grade'].value_counts()"
   ]
  },
  {
   "cell_type": "code",
   "execution_count": 14,
   "id": "b31bf11f-7d6d-483a-ac2d-2976098765b6",
   "metadata": {},
   "outputs": [
    {
     "data": {
      "image/png": "[encoded data removed]",
      "text/plain": [
       "<Figure size 500x500 with 1 Axes>"
      ]
     },
     "metadata": {},
     "output_type": "display_data"
    }
   ],
   "source": [
    "grades_count = df['Grade'].value_counts()\n",
    "\n",
    "# Plotting a pie chart\n",
    "plt.figure(figsize=(5, 5))\n",
    "plt.pie(grades_count, labels=grades_count.index, autopct='%1.1f%%')\n",
    "plt.title('Distribution of Grades')\n",
    "plt.axis('equal')  # Equal aspect ratio ensures that pie is drawn as a circle.\n",
    "plt.show()"
   ]
  },
  {
   "cell_type": "code",
   "execution_count": 15,
   "id": "6848157e-6224-4fcd-9df9-2db0fdd9185b",
   "metadata": {},
   "outputs": [
    {
     "name": "stdout",
     "output_type": "stream",
     "text": [
      "<class 'pandas.core.frame.DataFrame'>\n",
      "RangeIndex: 106 entries, 0 to 105\n",
      "Data columns (total 7 columns):\n",
      " #   Column      Non-Null Count  Dtype  \n",
      "---  ------      --------------  -----  \n",
      " 0   Student ID  106 non-null    int64  \n",
      " 1   Name        105 non-null    object \n",
      " 2   Age         106 non-null    int64  \n",
      " 3   Grade       105 non-null    object \n",
      " 4   Major       105 non-null    object \n",
      " 5   GPA         106 non-null    float64\n",
      " 6   City        105 non-null    object \n",
      "dtypes: float64(1), int64(2), object(4)\n",
      "memory usage: 5.9+ KB\n"
     ]
    }
   ],
   "source": [
    "df.info()"
   ]
  },
  {
   "cell_type": "code",
   "execution_count": 16,
   "id": "f664be97-a170-4f03-adad-3e808b29b946",
   "metadata": {},
   "outputs": [
    {
     "data": {
      "text/plain": [
       "Grade\n",
       "False    105\n",
       "True       1\n",
       "Name: count, dtype: int64"
      ]
     },
     "execution_count": 16,
     "metadata": {},
     "output_type": "execute_result"
    }
   ],
   "source": [
    "df['Grade'].isnull().value_counts()"
   ]
  },
  {
   "cell_type": "code",
   "execution_count": 17,
   "id": "1586833b-4125-45fd-aeed-ee19d83d270e",
   "metadata": {},
   "outputs": [],
   "source": [
    "df['Grade'].fillna('B',inplace=True)"
   ]
  },
  {
   "cell_type": "code",
   "execution_count": 18,
   "id": "81c63fd6-adf1-4183-bf61-d623744ef233",
   "metadata": {},
   "outputs": [
    {
     "data": {
      "text/plain": [
       "Grade\n",
       "False    106\n",
       "Name: count, dtype: int64"
      ]
     },
     "execution_count": 18,
     "metadata": {},
     "output_type": "execute_result"
    }
   ],
   "source": [
    "df['Grade'].isnull().value_counts()"
   ]
  },
  {
   "cell_type": "code",
   "execution_count": 19,
   "id": "32aed50f-13db-4ade-a322-b4a6f65aaf8d",
   "metadata": {},
   "outputs": [
    {
     "name": "stdout",
     "output_type": "stream",
     "text": [
      "<class 'pandas.core.frame.DataFrame'>\n",
      "RangeIndex: 106 entries, 0 to 105\n",
      "Data columns (total 7 columns):\n",
      " #   Column      Non-Null Count  Dtype  \n",
      "---  ------      --------------  -----  \n",
      " 0   Student ID  106 non-null    int64  \n",
      " 1   Name        105 non-null    object \n",
      " 2   Age         106 non-null    int64  \n",
      " 3   Grade       106 non-null    object \n",
      " 4   Major       105 non-null    object \n",
      " 5   GPA         106 non-null    float64\n",
      " 6   City        105 non-null    object \n",
      "dtypes: float64(1), int64(2), object(4)\n",
      "memory usage: 5.9+ KB\n"
     ]
    }
   ],
   "source": [
    "df.info()"
   ]
  },
  {
   "cell_type": "code",
   "execution_count": 20,
   "id": "53989a2f-dbf3-43e1-b6e2-a1f353fdc4ad",
   "metadata": {},
   "outputs": [],
   "source": [
    "#to drop null values from a dataframe - df.dropna()\n",
    "df.dropna(inplace=True)"
   ]
  },
  {
   "cell_type": "code",
   "execution_count": 21,
   "id": "0f7c9aa9-4ca0-49ec-b4ad-a52d07dcf5ab",
   "metadata": {},
   "outputs": [
    {
     "name": "stdout",
     "output_type": "stream",
     "text": [
      "<class 'pandas.core.frame.DataFrame'>\n",
      "Index: 103 entries, 0 to 105\n",
      "Data columns (total 7 columns):\n",
      " #   Column      Non-Null Count  Dtype  \n",
      "---  ------      --------------  -----  \n",
      " 0   Student ID  103 non-null    int64  \n",
      " 1   Name        103 non-null    object \n",
      " 2   Age         103 non-null    int64  \n",
      " 3   Grade       103 non-null    object \n",
      " 4   Major       103 non-null    object \n",
      " 5   GPA         103 non-null    float64\n",
      " 6   City        103 non-null    object \n",
      "dtypes: float64(1), int64(2), object(4)\n",
      "memory usage: 6.4+ KB\n"
     ]
    }
   ],
   "source": [
    "df.info()"
   ]
  },
  {
   "cell_type": "code",
   "execution_count": 22,
   "id": "b7528c5f-c743-40f0-be55-4b36416b72a7",
   "metadata": {},
   "outputs": [
    {
     "name": "stdout",
     "output_type": "stream",
     "text": [
      "Number of duplicate rows:\n",
      "     Student ID            Name  Age Grade    Major   GPA City\n",
      "100          99  Vivian Aguirre   19     C  History  2.98  TFB\n",
      "101         100   Andy Espinoza   18     F  Biology  3.56  WFJ\n",
      "102          99  Vivian Aguirre   19     C  History  2.98  TFB\n",
      "103         100   Andy Espinoza   18     F  Biology  3.56  WFJ\n",
      "104          99  Vivian Aguirre   19     C  History  2.98  TFB\n",
      "105         100   Andy Espinoza   18     F  Biology  3.56  WFJ\n"
     ]
    }
   ],
   "source": [
    "print(\"Number of duplicate rows:\")\n",
    "df.duplicated().sum()\n",
    "\n",
    "print(df[df.duplicated()])"
   ]
  },
  {
   "cell_type": "code",
   "execution_count": 23,
   "id": "d83b9bf8-8fe1-4419-844f-94df701ba99b",
   "metadata": {},
   "outputs": [
    {
     "data": {
      "text/html": [
       "<div>\n",
       "<style scoped>\n",
       "    .dataframe tbody tr th:only-of-type {\n",
       "        vertical-align: middle;\n",
       "    }\n",
       "\n",
       "    .dataframe tbody tr th {\n",
       "        vertical-align: top;\n",
       "    }\n",
       "\n",
       "    .dataframe thead th {\n",
       "        text-align: right;\n",
       "    }\n",
       "</style>\n",
       "<table border=\"1\" class=\"dataframe\">\n",
       "  <thead>\n",
       "    <tr style=\"text-align: right;\">\n",
       "      <th></th>\n",
       "      <th>Student ID</th>\n",
       "      <th>Name</th>\n",
       "      <th>Age</th>\n",
       "      <th>Grade</th>\n",
       "      <th>Major</th>\n",
       "      <th>GPA</th>\n",
       "      <th>City</th>\n",
       "    </tr>\n",
       "  </thead>\n",
       "  <tbody>\n",
       "    <tr>\n",
       "      <th>96</th>\n",
       "      <td>97</td>\n",
       "      <td>Rosie Chan</td>\n",
       "      <td>24</td>\n",
       "      <td>A</td>\n",
       "      <td>Biology</td>\n",
       "      <td>3.68</td>\n",
       "      <td>HLO</td>\n",
       "    </tr>\n",
       "    <tr>\n",
       "      <th>97</th>\n",
       "      <td>98</td>\n",
       "      <td>Frank Powell</td>\n",
       "      <td>23</td>\n",
       "      <td>C</td>\n",
       "      <td>History</td>\n",
       "      <td>3.24</td>\n",
       "      <td>GPT</td>\n",
       "    </tr>\n",
       "    <tr>\n",
       "      <th>98</th>\n",
       "      <td>99</td>\n",
       "      <td>Vivian Aguirre</td>\n",
       "      <td>19</td>\n",
       "      <td>C</td>\n",
       "      <td>History</td>\n",
       "      <td>2.98</td>\n",
       "      <td>TFB</td>\n",
       "    </tr>\n",
       "    <tr>\n",
       "      <th>99</th>\n",
       "      <td>100</td>\n",
       "      <td>Andy Espinoza</td>\n",
       "      <td>18</td>\n",
       "      <td>F</td>\n",
       "      <td>Biology</td>\n",
       "      <td>3.56</td>\n",
       "      <td>WFJ</td>\n",
       "    </tr>\n",
       "    <tr>\n",
       "      <th>100</th>\n",
       "      <td>99</td>\n",
       "      <td>Vivian Aguirre</td>\n",
       "      <td>19</td>\n",
       "      <td>C</td>\n",
       "      <td>History</td>\n",
       "      <td>2.98</td>\n",
       "      <td>TFB</td>\n",
       "    </tr>\n",
       "    <tr>\n",
       "      <th>101</th>\n",
       "      <td>100</td>\n",
       "      <td>Andy Espinoza</td>\n",
       "      <td>18</td>\n",
       "      <td>F</td>\n",
       "      <td>Biology</td>\n",
       "      <td>3.56</td>\n",
       "      <td>WFJ</td>\n",
       "    </tr>\n",
       "    <tr>\n",
       "      <th>102</th>\n",
       "      <td>99</td>\n",
       "      <td>Vivian Aguirre</td>\n",
       "      <td>19</td>\n",
       "      <td>C</td>\n",
       "      <td>History</td>\n",
       "      <td>2.98</td>\n",
       "      <td>TFB</td>\n",
       "    </tr>\n",
       "    <tr>\n",
       "      <th>103</th>\n",
       "      <td>100</td>\n",
       "      <td>Andy Espinoza</td>\n",
       "      <td>18</td>\n",
       "      <td>F</td>\n",
       "      <td>Biology</td>\n",
       "      <td>3.56</td>\n",
       "      <td>WFJ</td>\n",
       "    </tr>\n",
       "    <tr>\n",
       "      <th>104</th>\n",
       "      <td>99</td>\n",
       "      <td>Vivian Aguirre</td>\n",
       "      <td>19</td>\n",
       "      <td>C</td>\n",
       "      <td>History</td>\n",
       "      <td>2.98</td>\n",
       "      <td>TFB</td>\n",
       "    </tr>\n",
       "    <tr>\n",
       "      <th>105</th>\n",
       "      <td>100</td>\n",
       "      <td>Andy Espinoza</td>\n",
       "      <td>18</td>\n",
       "      <td>F</td>\n",
       "      <td>Biology</td>\n",
       "      <td>3.56</td>\n",
       "      <td>WFJ</td>\n",
       "    </tr>\n",
       "  </tbody>\n",
       "</table>\n",
       "</div>"
      ],
      "text/plain": [
       "     Student ID            Name  Age Grade    Major   GPA City\n",
       "96           97      Rosie Chan   24     A  Biology  3.68  HLO\n",
       "97           98    Frank Powell   23     C  History  3.24  GPT\n",
       "98           99  Vivian Aguirre   19     C  History  2.98  TFB\n",
       "99          100   Andy Espinoza   18     F  Biology  3.56  WFJ\n",
       "100          99  Vivian Aguirre   19     C  History  2.98  TFB\n",
       "101         100   Andy Espinoza   18     F  Biology  3.56  WFJ\n",
       "102          99  Vivian Aguirre   19     C  History  2.98  TFB\n",
       "103         100   Andy Espinoza   18     F  Biology  3.56  WFJ\n",
       "104          99  Vivian Aguirre   19     C  History  2.98  TFB\n",
       "105         100   Andy Espinoza   18     F  Biology  3.56  WFJ"
      ]
     },
     "execution_count": 23,
     "metadata": {},
     "output_type": "execute_result"
    }
   ],
   "source": [
    "df.tail(10)"
   ]
  },
  {
   "cell_type": "code",
   "execution_count": 24,
   "id": "09bbadcd-eae1-407f-adf8-4206142de91a",
   "metadata": {},
   "outputs": [],
   "source": [
    "#Removing duplicate values\n",
    "df.drop_duplicates(inplace=True)"
   ]
  },
  {
   "cell_type": "code",
   "execution_count": 25,
   "id": "3bca805c-1115-4248-96c1-97ba9787514e",
   "metadata": {},
   "outputs": [
    {
     "data": {
      "text/plain": [
       "0"
      ]
     },
     "execution_count": 25,
     "metadata": {},
     "output_type": "execute_result"
    }
   ],
   "source": [
    "df.duplicated().sum()"
   ]
  },
  {
   "cell_type": "code",
   "execution_count": 26,
   "id": "70676ec5-75ef-45f6-ba55-4997e4e83101",
   "metadata": {},
   "outputs": [
    {
     "data": {
      "text/html": [
       "<div>\n",
       "<style scoped>\n",
       "    .dataframe tbody tr th:only-of-type {\n",
       "        vertical-align: middle;\n",
       "    }\n",
       "\n",
       "    .dataframe tbody tr th {\n",
       "        vertical-align: top;\n",
       "    }\n",
       "\n",
       "    .dataframe thead th {\n",
       "        text-align: right;\n",
       "    }\n",
       "</style>\n",
       "<table border=\"1\" class=\"dataframe\">\n",
       "  <thead>\n",
       "    <tr style=\"text-align: right;\">\n",
       "      <th></th>\n",
       "      <th>Student ID</th>\n",
       "      <th>Name</th>\n",
       "      <th>Age</th>\n",
       "      <th>Grade</th>\n",
       "      <th>Major</th>\n",
       "      <th>GPA</th>\n",
       "      <th>City</th>\n",
       "    </tr>\n",
       "  </thead>\n",
       "  <tbody>\n",
       "    <tr>\n",
       "      <th>95</th>\n",
       "      <td>96</td>\n",
       "      <td>Brady Hubbard</td>\n",
       "      <td>18</td>\n",
       "      <td>B</td>\n",
       "      <td>Biology</td>\n",
       "      <td>2.51</td>\n",
       "      <td>TVV</td>\n",
       "    </tr>\n",
       "    <tr>\n",
       "      <th>96</th>\n",
       "      <td>97</td>\n",
       "      <td>Rosie Chan</td>\n",
       "      <td>24</td>\n",
       "      <td>A</td>\n",
       "      <td>Biology</td>\n",
       "      <td>3.68</td>\n",
       "      <td>HLO</td>\n",
       "    </tr>\n",
       "    <tr>\n",
       "      <th>97</th>\n",
       "      <td>98</td>\n",
       "      <td>Frank Powell</td>\n",
       "      <td>23</td>\n",
       "      <td>C</td>\n",
       "      <td>History</td>\n",
       "      <td>3.24</td>\n",
       "      <td>GPT</td>\n",
       "    </tr>\n",
       "    <tr>\n",
       "      <th>98</th>\n",
       "      <td>99</td>\n",
       "      <td>Vivian Aguirre</td>\n",
       "      <td>19</td>\n",
       "      <td>C</td>\n",
       "      <td>History</td>\n",
       "      <td>2.98</td>\n",
       "      <td>TFB</td>\n",
       "    </tr>\n",
       "    <tr>\n",
       "      <th>99</th>\n",
       "      <td>100</td>\n",
       "      <td>Andy Espinoza</td>\n",
       "      <td>18</td>\n",
       "      <td>F</td>\n",
       "      <td>Biology</td>\n",
       "      <td>3.56</td>\n",
       "      <td>WFJ</td>\n",
       "    </tr>\n",
       "  </tbody>\n",
       "</table>\n",
       "</div>"
      ],
      "text/plain": [
       "    Student ID            Name  Age Grade    Major   GPA City\n",
       "95          96   Brady Hubbard   18     B  Biology  2.51  TVV\n",
       "96          97      Rosie Chan   24     A  Biology  3.68  HLO\n",
       "97          98    Frank Powell   23     C  History  3.24  GPT\n",
       "98          99  Vivian Aguirre   19     C  History  2.98  TFB\n",
       "99         100   Andy Espinoza   18     F  Biology  3.56  WFJ"
      ]
     },
     "execution_count": 26,
     "metadata": {},
     "output_type": "execute_result"
    }
   ],
   "source": [
    "df.tail()"
   ]
  },
  {
   "cell_type": "code",
   "execution_count": 31,
   "id": "2f337df1-d97e-4d3a-9e55-3178b6bc307f",
   "metadata": {},
   "outputs": [
    {
     "name": "stdout",
     "output_type": "stream",
     "text": [
      "<class 'pandas.core.frame.DataFrame'>\n",
      "Index: 97 entries, 0 to 99\n",
      "Data columns (total 7 columns):\n",
      " #   Column      Non-Null Count  Dtype  \n",
      "---  ------      --------------  -----  \n",
      " 0   Student ID  97 non-null     int64  \n",
      " 1   Name        97 non-null     object \n",
      " 2   Age         97 non-null     int64  \n",
      " 3   Grade       97 non-null     object \n",
      " 4   Major       97 non-null     object \n",
      " 5   GPA         97 non-null     float64\n",
      " 6   City        97 non-null     object \n",
      "dtypes: float64(1), int64(2), object(4)\n",
      "memory usage: 8.1+ KB\n"
     ]
    }
   ],
   "source": [
    "df.info()"
   ]
  },
  {
   "cell_type": "code",
   "execution_count": 32,
   "id": "1565e883-6730-45a9-bed4-dfad4c0af117",
   "metadata": {},
   "outputs": [
    {
     "name": "stdout",
     "output_type": "stream",
     "text": [
      "    Student ID              Name  Age Grade             Major   GPA City\n",
      "49          50     Idris Goodwin   19     D       Mathematics  3.27  ASM\n",
      "50          51       Shiloh Kent   19     A           Biology  2.85  BHL\n",
      "51          52      Mekhi Mathis   19     C  Computer Science  2.96  AJD\n",
      "52          53       Anne Rhodes   18     A  Computer Science  2.67  DZW\n",
      "53          54  Titus Fitzgerald   19     A           Biology  2.62  MHT\n"
     ]
    }
   ],
   "source": [
    "# Calculate the midpoint index\n",
    "mid_index = len(df) // 2  \n",
    "\n",
    "# Fetch the 5 middle values\n",
    "middle_values = df.iloc[mid_index - 2:mid_index + 3]  # Adjusted to get 5 values around the midpoint\n",
    "\n",
    "print(middle_values)"
   ]
  },
  {
   "cell_type": "code",
   "execution_count": 33,
   "id": "29ec359f-5280-4e3a-b3de-eecf60d1a8f6",
   "metadata": {},
   "outputs": [
    {
     "name": "stdout",
     "output_type": "stream",
     "text": [
      "    Student ID              Name  Age Grade             Major   GPA City\n",
      "63          64  Cristian Sweeney   24     A           Biology  3.70  NLN\n",
      "64          65      Yara Buckley   18     B           History  3.08  MPC\n",
      "65          66      Aryan Moreno   19     A           History  3.06  SKM\n",
      "66          67       Mary Morgan   24     D           English  3.37  BAM\n",
      "67          68  Hunter Henderson   25     C  Computer Science  2.88  ISO\n",
      "68          69      Maria Newman   21     C           History  2.63  RNR\n",
      "69          70    Anderson Simon   25     A           History  3.55  DYG\n",
      "70          71  Kalani Macdonald   19     B           English  2.53  TGO\n",
      "71          72        Hugh Marsh   21     B           English  2.69  KJY\n",
      "72          73    Adelina Morgan   18     A           English  3.69  KCG\n"
     ]
    }
   ],
   "source": [
    "#loc to located the data using the current index\n",
    "print(df.iloc[60:70])"
   ]
  },
  {
   "cell_type": "code",
   "execution_count": 35,
   "id": "2f84290d-8836-47b4-8b67-6dcfbc2baf0a",
   "metadata": {},
   "outputs": [],
   "source": [
    "#save the file\n",
    "df.to_csv('cleaned_student_data.csv',index=False)"
   ]
  },
  {
   "cell_type": "code",
   "execution_count": null,
   "id": "3e037cce-530f-4a50-befd-8a66c027e451",
   "metadata": {},
   "outputs": [],
   "source": []
  }
 ],
 "metadata": {
  "kernelspec": {
   "display_name": "Python 3 (ipykernel)",
   "language": "python",
   "name": "python3"
  },
  "language_info": {
   "codemirror_mode": {
    "name": "ipython",
    "version": 3
   },
   "file_extension": ".py",
   "mimetype": "text/x-python",
   "name": "python",
   "nbconvert_exporter": "python",
   "pygments_lexer": "ipython3",
   "version": "3.12.0"
  }
 },
 "nbformat": 4,
 "nbformat_minor": 5
}
